{
 "cells": [
  {
   "cell_type": "code",
   "execution_count": 5,
   "id": "63a551a9",
   "metadata": {},
   "outputs": [
    {
     "name": "stdout",
     "output_type": "stream",
     "text": [
      "Max Nodes = 5 \t \t MAE = 356157\n",
      "Max Nodes = 50 \t \t MAE = 264538\n",
      "Max Nodes = 100 \t \t MAE = 243732\n",
      "Max Nodes = 150 \t \t MAE = 235901\n",
      "Max Nodes = 200 \t \t MAE = 232900\n",
      "Max Nodes = 500 \t \t MAE = 221700\n",
      "Max Nodes = 1000 \t \t MAE = 221085\n"
     ]
    }
   ],
   "source": [
    "# Review on how to make a function to get mean_absolute_error  for every leaf_max_nodes in order to know which one is the best\n",
    "import pandas as pd\n",
    "from sklearn.tree import DecisionTreeRegressor\n",
    "from sklearn.model_selection import train_test_split\n",
    "from sklearn.metrics import mean_absolute_error\n",
    "data = pd.read_csv(\"dataset/melb_data.csv\")\n",
    "data.dropna(axis=0)\n",
    "y = data.Price\n",
    "features = ['Rooms','Bathroom','Landsize','Lattitude','Longtitude']\n",
    "X = data[features]\n",
    "train_X, val_X, train_y, val_y = train_test_split(X,y,random_state=1)\n",
    "\n",
    "def get_mae(max_leaf_nodes, train_X, val_X, train_y, val_y) :\n",
    "    model = DecisionTreeRegressor(max_leaf_nodes=max_leaf_nodes,random_state=1)\n",
    "    model.fit(train_X, train_y)\n",
    "    prediction = model.predict(val_X)\n",
    "    return mean_absolute_error(val_y,prediction)\n",
    "\n",
    "for i in [5,50,100,150,200,500,1000] :\n",
    "    print(\"Max Nodes = %d \\t \\t MAE = %d\"%(i,get_mae(i,train_X,val_X,train_y,val_y)))"
   ]
  },
  {
   "cell_type": "code",
   "execution_count": 6,
   "id": "a04c9c2d",
   "metadata": {},
   "outputs": [
    {
     "data": {
      "text/plain": [
       "180575.56969245157"
      ]
     },
     "execution_count": 6,
     "metadata": {},
     "output_type": "execute_result"
    }
   ],
   "source": [
    "# Make a random forest model\n",
    "\n",
    "'''\n",
    "Random forest is an ensemble machine learning model, it means that random forest is a machine learning model where it makes many\n",
    "model and assembles the outputs as an output. Random forest can be used for both regression and classification, in regression\n",
    "random forest averaging the outputs meanwhile in classification, random forest takes the most same output or in other word it\n",
    "takes the most voted output. Random forest makes many decision tree and then assembles their output to get an output. Random\n",
    "forest model can't be overfitted.\n",
    "'''\n",
    "from sklearn.ensemble import RandomForestRegressor\n",
    "data = pd.read_csv(\"dataset\\melb_data.csv\")\n",
    "y = data.Price\n",
    "features = ['Rooms',\"Bathroom\",\"Landsize\",'Longtitude','Lattitude']\n",
    "X = data[features]\n",
    "train_X, val_X, train_y, val_y = train_test_split(X,y,random_state=1)\n",
    "model = RandomForestRegressor(random_state=1)\n",
    "model.fit(train_X,train_y)\n",
    "prediction = model.predict(val_X)\n",
    "mean_absolute_error(val_y,prediction)"
   ]
  },
  {
   "cell_type": "code",
   "execution_count": null,
   "id": "05d28985",
   "metadata": {},
   "outputs": [],
   "source": []
  }
 ],
 "metadata": {
  "kernelspec": {
   "display_name": "Python 3 (ipykernel)",
   "language": "python",
   "name": "python3"
  },
  "language_info": {
   "codemirror_mode": {
    "name": "ipython",
    "version": 3
   },
   "file_extension": ".py",
   "mimetype": "text/x-python",
   "name": "python",
   "nbconvert_exporter": "python",
   "pygments_lexer": "ipython3",
   "version": "3.9.13"
  }
 },
 "nbformat": 4,
 "nbformat_minor": 5
}
