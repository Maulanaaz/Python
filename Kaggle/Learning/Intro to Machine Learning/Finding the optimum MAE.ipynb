{
 "cells": [
  {
   "cell_type": "code",
   "execution_count": 12,
   "id": "7325b421",
   "metadata": {},
   "outputs": [
    {
     "name": "stdout",
     "output_type": "stream",
     "text": [
      "[2070000.  733000. 2810000. ... 1400000. 1260000.  493000.]\n"
     ]
    }
   ],
   "source": [
    "# Review on how to make a 'ex-sample' machine learning model using scikit learn\n",
    "import pandas as pd\n",
    "from sklearn.tree import DecisionTreeRegressor\n",
    "from sklearn.model_selection import train_test_split\n",
    "data = pd.read_csv('dataset/melb_data.csv')\n",
    "y = data.Price\n",
    "features = ['Rooms','Bathroom','Landsize','Lattitude','Longtitude']\n",
    "X = data[features]\n",
    "train_X, val_X, train_y, val_y = train_test_split(X,y,random_state=1)\n",
    "model = DecisionTreeRegressor(random_state=1)\n",
    "model.fit(train_X,train_y)\n",
    "prediction = model.predict(val_X)\n",
    "print(prediction)"
   ]
  },
  {
   "cell_type": "code",
   "execution_count": 14,
   "id": "7084d03b",
   "metadata": {},
   "outputs": [
    {
     "data": {
      "text/plain": [
       "241632.16966126655"
      ]
     },
     "execution_count": 14,
     "metadata": {},
     "output_type": "execute_result"
    }
   ],
   "source": [
    "# Review on how to find errors using MAE\n",
    "from sklearn.metrics import mean_absolute_error\n",
    "mean_absolute_error(val_y,prediction)"
   ]
  },
  {
   "cell_type": "code",
   "execution_count": 15,
   "id": "b0874d7f",
   "metadata": {},
   "outputs": [
    {
     "data": {
      "text/plain": [
       "'\\nOverfitting is a condition when your model is very complex that makes your new prediction data be unreliable\\nUnderfitting is a condition when your model is very simple that makes your new prediction data be unaccurate\\n'"
      ]
     },
     "execution_count": 15,
     "metadata": {},
     "output_type": "execute_result"
    }
   ],
   "source": [
    "# Overfitting and Underfitting\n",
    "'''\n",
    "Overfitting is a condition when your model is very complex that makes your new prediction data be unreliable\n",
    "Underfitting is a condition when your model is very simple that makes your new prediction data be unaccurate\n",
    "'''"
   ]
  },
  {
   "cell_type": "code",
   "execution_count": 19,
   "id": "269f7961",
   "metadata": {},
   "outputs": [
    {
     "name": "stdout",
     "output_type": "stream",
     "text": [
      "Max Leaf Nodes : 5 \t \t MAE : 356157\n",
      "Max Leaf Nodes : 50 \t \t MAE : 264538\n",
      "Max Leaf Nodes : 500 \t \t MAE : 221700\n",
      "Max Leaf Nodes : 1000 \t \t MAE : 221085\n",
      "Max Leaf Nodes : 5000 \t \t MAE : 239256\n"
     ]
    }
   ],
   "source": [
    "# Making a function to compare which max_leaf_nodes is the best for our model\n",
    "'''\n",
    "In order to get Goodfitting model, we should do some research, the one of the methods is to make a function\n",
    "to compare which max_leaf_nodes is the best for our model\n",
    "'''\n",
    "def get_MAE(max_leaf_nodes,train_X,val_X,train_y,val_y) :\n",
    "    model = DecisionTreeRegressor(max_leaf_nodes=max_leaf_nodes,random_state=1)\n",
    "    model.fit(train_X,train_y)\n",
    "    prediction = model.predict(val_X)\n",
    "    return mean_absolute_error(val_y,prediction)\n",
    "for i in [5,50,500,1000,5000] :\n",
    "    print(\"Max Leaf Nodes : %d \\t \\t MAE : %d\"%(i,get_MAE(i,train_X,val_X,train_y,val_y)))"
   ]
  },
  {
   "cell_type": "code",
   "execution_count": null,
   "id": "02bb0a41",
   "metadata": {},
   "outputs": [],
   "source": [
    "# From the output above, we can see that the best Max Leaf Nodes we can use is 1000"
   ]
  }
 ],
 "metadata": {
  "kernelspec": {
   "display_name": "Python 3 (ipykernel)",
   "language": "python",
   "name": "python3"
  },
  "language_info": {
   "codemirror_mode": {
    "name": "ipython",
    "version": 3
   },
   "file_extension": ".py",
   "mimetype": "text/x-python",
   "name": "python",
   "nbconvert_exporter": "python",
   "pygments_lexer": "ipython3",
   "version": "3.9.13"
  }
 },
 "nbformat": 4,
 "nbformat_minor": 5
}
