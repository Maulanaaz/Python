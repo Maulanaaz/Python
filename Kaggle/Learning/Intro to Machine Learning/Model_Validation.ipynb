{
 "cells": [
  {
   "cell_type": "code",
   "execution_count": 15,
   "id": "07a42397",
   "metadata": {},
   "outputs": [
    {
     "name": "stdout",
     "output_type": "stream",
     "text": [
      "1    1035000.0\n",
      "2    1465000.0\n",
      "4    1600000.0\n",
      "6    1876000.0\n",
      "7    1636000.0\n",
      "Name: Price, dtype: float64\n",
      "[1035000. 1465000. 1600000. ...  385000.  560000. 2450000.]\n"
     ]
    }
   ],
   "source": [
    "# Review on how to make a machine learning model using scikit learn\n",
    "import pandas as pd\n",
    "from sklearn.tree import DecisionTreeRegressor\n",
    "data = pd.read_csv(\"dataset/melb_data.csv\")\n",
    "data = data.dropna(axis=0)\n",
    "y = data.Price\n",
    "elements = ['Rooms','Bathroom','Landsize','Lattitude','Longtitude']\n",
    "X = data[elements]\n",
    "model1 = DecisionTreeRegressor(random_state=0)\n",
    "model1.fit(X,y)\n",
    "prediction1 = model1.predict(X)\n",
    "print(y.head())\n",
    "print(prediction1)"
   ]
  },
  {
   "cell_type": "code",
   "execution_count": 16,
   "id": "c9c33b7d",
   "metadata": {},
   "outputs": [
    {
     "data": {
      "text/plain": [
       "1115.7467183128902"
      ]
     },
     "execution_count": 16,
     "metadata": {},
     "output_type": "execute_result"
    }
   ],
   "source": [
    "# Using mean absolute errors to find the errors of the model\n",
    "from sklearn.metrics import mean_absolute_error\n",
    "mean_absolute_error(y,prediction1)"
   ]
  },
  {
   "cell_type": "code",
   "execution_count": 24,
   "id": "d164897a",
   "metadata": {},
   "outputs": [
    {
     "data": {
      "text/plain": [
       "array([ 900000.,  550000., 1120000., ...,  185000., 1075000., 1055000.])"
      ]
     },
     "execution_count": 24,
     "metadata": {},
     "output_type": "execute_result"
    }
   ],
   "source": [
    "# Using 'ex-xample' method to build a model\n",
    "from sklearn.model_selection import train_test_split\n",
    "train_X, val_X, train_y, val_y = train_test_split(X,y,random_state=0)\n",
    "'''\n",
    "here, we split X into two datas, same thing happens with Y. It is an important step to make a valuable model, because here\n",
    "we build a model from two different (splitted) datas. So we build a model from one data and test it to another.\n",
    "'''\n",
    "model2 = DecisionTreeRegressor()\n",
    "model2.fit(train_X,train_y)\n",
    "prediction2 = model2.predict(val_X) # This prediction is not ordered because we have chosen random samples from the data\n",
    "prediction2"
   ]
  },
  {
   "cell_type": "code",
   "execution_count": 28,
   "id": "414485dc",
   "metadata": {},
   "outputs": [
    {
     "data": {
      "text/plain": [
       "271661.3826124381"
      ]
     },
     "execution_count": 28,
     "metadata": {},
     "output_type": "execute_result"
    }
   ],
   "source": [
    "# Using mean absolute error to find the model2 errors\n",
    "mean_absolute_error(val_y,prediction2)"
   ]
  },
  {
   "cell_type": "code",
   "execution_count": null,
   "id": "0bbbcbcf",
   "metadata": {},
   "outputs": [],
   "source": [
    "'''\n",
    "this means that 'in-sample' and 'ex-sample' method make absolute different output/model. In practical, it is much better to use\n",
    "'ex-sample' method because it is more responsible when we get a new data.\n",
    "'''"
   ]
  }
 ],
 "metadata": {
  "kernelspec": {
   "display_name": "Python 3 (ipykernel)",
   "language": "python",
   "name": "python3"
  },
  "language_info": {
   "codemirror_mode": {
    "name": "ipython",
    "version": 3
   },
   "file_extension": ".py",
   "mimetype": "text/x-python",
   "name": "python",
   "nbconvert_exporter": "python",
   "pygments_lexer": "ipython3",
   "version": "3.9.13"
  }
 },
 "nbformat": 4,
 "nbformat_minor": 5
}
