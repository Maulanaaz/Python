{
 "cells": [
  {
   "cell_type": "markdown",
   "id": "3f858cfb",
   "metadata": {},
   "source": [
    "# String"
   ]
  },
  {
   "cell_type": "code",
   "execution_count": 1,
   "id": "ececfd0c",
   "metadata": {},
   "outputs": [
    {
     "name": "stdout",
     "output_type": "stream",
     "text": [
      "Hello there, my name is Aziz I am a mathematics student i am also a 'data enthusiast' I like some \"energic\" musics\n"
     ]
    }
   ],
   "source": [
    "# String Syntax\n",
    "a = \"Hello there, my name is Aziz\"\n",
    "b = 'I am a mathematics student'\n",
    "c = \"i am also a 'data enthusiast'\"\n",
    "d = 'I like some \"energic\" musics'\n",
    "print(a,b,c,d)"
   ]
  },
  {
   "cell_type": "code",
   "execution_count": 10,
   "id": "665f6790",
   "metadata": {},
   "outputs": [
    {
     "name": "stdout",
     "output_type": "stream",
     "text": [
      "i am also a 'data enthusiast'\n",
      "i wish i can also become a \"public speaker\"\n"
     ]
    }
   ],
   "source": [
    "# Escaping quotes\n",
    "a = 'i am also a \\'data enthusiast\\''\n",
    "b = \"i wish i can also become a \\\"public speaker\\\"\"\n",
    "print(a)\n",
    "print(b)"
   ]
  },
  {
   "cell_type": "code",
   "execution_count": 14,
   "id": "8c0c89b1",
   "metadata": {},
   "outputs": [
    {
     "name": "stdout",
     "output_type": "stream",
     "text": [
      "that is robin's bicycle!\n",
      "They called him \"The sea devil\"\n",
      "Look! it is a mountain /\\\n",
      "this is the first row \n",
      " and this is the second\n"
     ]
    }
   ],
   "source": [
    "# Backslash characters\n",
    "a = 'that is robin\\'s bicycle!'\n",
    "b = \"They called him \\\"The sea devil\\\"\"\n",
    "c = \"Look! it is a mountain /\\\\\"\n",
    "d = \"this is the first row \\n and this is the second\"\n",
    "print(a)\n",
    "print(b)\n",
    "print(c)\n",
    "print(d)"
   ]
  },
  {
   "cell_type": "code",
   "execution_count": 16,
   "id": "43d8f6e2",
   "metadata": {},
   "outputs": [
    {
     "name": "stdout",
     "output_type": "stream",
     "text": [
      "There is a way to make a space sequence\n",
      "rather than use \\n \n",
      "you can use triple quote to make spaced words\n",
      "this usually used to make a docstring\n",
      "\n",
      "\n"
     ]
    }
   ],
   "source": [
    "# Python triple quote syntax\n",
    "a = \"\"\"There is a way to make a space sequence\n",
    "rather than use \\\\n \n",
    "you can use triple quote to make spaced words\n",
    "this usually used to make a docstring\n",
    "\n",
    "\"\"\"\n",
    "print(a)"
   ]
  },
  {
   "cell_type": "code",
   "execution_count": 26,
   "id": "3491f6d7",
   "metadata": {},
   "outputs": [
    {
     "name": "stdout",
     "output_type": "stream",
     "text": [
      "E\n",
      "Pluto\n",
      "21\n",
      "E a r t h   M e r c u r i u s   P l u t o "
     ]
    }
   ],
   "source": [
    "# Strings are sequence\n",
    "planets = \"Earth Mercurius Pluto\"\n",
    "\n",
    "# indexing\n",
    "print(planets[0])\n",
    "# slicing\n",
    "print(planets[-5:])\n",
    "# length\n",
    "print(len(planets))\n",
    "# loop over them\n",
    "for word in planets :\n",
    "    print(word,end=\" \")"
   ]
  },
  {
   "cell_type": "code",
   "execution_count": 22,
   "id": "599a5405",
   "metadata": {},
   "outputs": [
    {
     "name": "stdout",
     "output_type": "stream",
     "text": [
      "INDONESIA\n",
      "sabar dikit bisa gak\n",
      "0\n",
      "10\n",
      "True\n",
      "False\n",
      "True\n",
      "False\n"
     ]
    }
   ],
   "source": [
    "# Strings method\n",
    "\n",
    "# all caps\n",
    "a = \"indonesia\"\n",
    "a = a.upper()\n",
    "print(a)\n",
    "\n",
    "# all low\n",
    "b = \"SABAR DIKIT BISA GAK\"\n",
    "b = b.lower()\n",
    "print(b)\n",
    "\n",
    "# searching for the first index\n",
    "c = \"Python is the most powerful language for Data Science over the R language\"\n",
    "print(c.index(\"Python\"))\n",
    "print(c.index(\"the\"))\n",
    "\n",
    "# check if a string exists at the first index\n",
    "d = \"AI will take over our world\"\n",
    "print(d.startswith(\"AI\"))\n",
    "print(d.startswith(\"I\"))\n",
    "\n",
    "# check if a string exists at the last index\n",
    "e = \"Ramadhan is coming\"\n",
    "print(e.endswith(\"coming\"))\n",
    "print(e.endswith(\"min\"))"
   ]
  },
  {
   "cell_type": "code",
   "execution_count": 29,
   "id": "12057092",
   "metadata": {},
   "outputs": [
    {
     "name": "stdout",
     "output_type": "stream",
     "text": [
      "['Semangat', 'belajar', 'pythonnya', 'slur!']\n",
      "Get-out-from-your-biggest-distraction\n"
     ]
    }
   ],
   "source": [
    "# going between string and list\n",
    "a = \"Semangat belajar pythonnya slur!\"\n",
    "a = a.split(\" \")\n",
    "print(a)\n",
    "b = [\"Get\",\"out\",\"from\",\"your\",\"biggest\",\"distraction\"]\n",
    "b = \"-\".join(b)\n",
    "print(b)"
   ]
  },
  {
   "cell_type": "code",
   "execution_count": 46,
   "id": "8fe7cbe1",
   "metadata": {},
   "outputs": [
    {
     "name": "stdout",
     "output_type": "stream",
     "text": [
      "I am using Python as my Data Science programming language\n",
      "Aku di umur 25 mempunyai jumlah rumah 21 dengan luas rata rata 5.9e+03, aku menggunakan 80.95% nya untuk dijadikan kos dan sisanya 19.05% aku jadikan hunian pribadi. Dengan total nilai kekayaan 91,749,404,803\n",
      "Halo Pak Jonathan perkenalkan saya Aziz dan saya ingin menemui Bapak Anies\n"
     ]
    }
   ],
   "source": [
    "# building string with format()\n",
    "\n",
    "# basic\n",
    "a = \"I am using {} as my Data Science {}\".format(\"Python\",\"programming language\")\n",
    "print(a)\n",
    "\n",
    "# decimal point, percent format, and separate with commas\n",
    "luas_tanah = 90.89232 * 65.23810\n",
    "jumlah_rumah = 21\n",
    "investasi = 17 / jumlah_rumah\n",
    "sisa = 1 - investasi\n",
    "harta = 91749404803\n",
    "kalimat = \"Aku di umur 25 mempunyai jumlah rumah {} dengan luas rata rata {:.2}, aku menggunakan {:.2%} nya untuk dijadikan kos dan sisanya {:.2%} aku jadikan hunian pribadi. Dengan total nilai kekayaan {:,}\"\n",
    "kalimat = kalimat.format(jumlah_rumah,luas_tanah,investasi,sisa,harta)\n",
    "print(kalimat)\n",
    "\n",
    "#referring by index\n",
    "greeting = \"Halo Pak {1} perkenalkan saya {0} dan saya ingin menemui Bapak {2}\"\n",
    "greeting = greeting.format(\"Aziz\",\"Jonathan\",\"Anies\")\n",
    "print(greeting)"
   ]
  },
  {
   "cell_type": "code",
   "execution_count": 47,
   "id": "32633f32",
   "metadata": {},
   "outputs": [
    {
     "name": "stdout",
     "output_type": "stream",
     "text": [
      "{'ayah': 'Zhao', 'ibu': 'Lina', 'anak1': 'Zhaolina', 'anak2': 'Zhaolana', 'happy_rate': 8}\n"
     ]
    }
   ],
   "source": [
    "# Dictionary is a builtin data structure to mapping keys to values\n",
    "keluarga = {\"ayah\":\"Zhao\",\"ibu\":\"Lina\",\"anak1\":\"Zhaolina\",\"anak2\":\"Zhaolana\",\"happy_rate\":8}\n",
    "print(keluarga)"
   ]
  },
  {
   "cell_type": "code",
   "execution_count": 50,
   "id": "f6782a59",
   "metadata": {},
   "outputs": [
    {
     "name": "stdout",
     "output_type": "stream",
     "text": [
      "Zhao\n",
      "{'ayah': 'Zhao', 'ibu': 'Lina', 'anak1': 'Zhaolina', 'anak2': 'Zhaolana', 'happy_rate': 8, 'anak3': 'Zhalin'}\n",
      "{'ayah': 'Zhao', 'ibu': 'Lina', 'anak1': 'Zhaolina', 'anak2': 'Zhaolana', 'happy_rate': 8.3, 'anak3': 'Zhalin'}\n"
     ]
    }
   ],
   "source": [
    "# basics dictionary\n",
    "\n",
    "# calling a value over its key\n",
    "print(keluarga[\"ayah\"])\n",
    "\n",
    "# add keys to values\n",
    "keluarga[\"anak3\"] = \"Zhalin\"\n",
    "print(keluarga)\n",
    "\n",
    "# change the values\n",
    "keluarga[\"happy_rate\"] = 8.3\n",
    "print(keluarga)"
   ]
  },
  {
   "cell_type": "code",
   "execution_count": null,
   "id": "c4696ee2",
   "metadata": {},
   "outputs": [],
   "source": [
    "# dictionary comprehension\n"
   ]
  }
 ],
 "metadata": {
  "kernelspec": {
   "display_name": "Python 3 (ipykernel)",
   "language": "python",
   "name": "python3"
  },
  "language_info": {
   "codemirror_mode": {
    "name": "ipython",
    "version": 3
   },
   "file_extension": ".py",
   "mimetype": "text/x-python",
   "name": "python",
   "nbconvert_exporter": "python",
   "pygments_lexer": "ipython3",
   "version": "3.9.13"
  }
 },
 "nbformat": 4,
 "nbformat_minor": 5
}
