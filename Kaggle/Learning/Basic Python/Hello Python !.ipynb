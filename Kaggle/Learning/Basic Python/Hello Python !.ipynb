{
 "cells": [
  {
   "cell_type": "markdown",
   "id": "f43d6922",
   "metadata": {},
   "source": [
    "# Hello Python !"
   ]
  },
  {
   "cell_type": "code",
   "execution_count": 12,
   "id": "68bdc711",
   "metadata": {},
   "outputs": [
    {
     "name": "stdout",
     "output_type": "stream",
     "text": [
      "80\n",
      "Budi got A\n",
      "Python Jaya Jaya Jaya \n",
      "87.5\n",
      "87\n",
      "16\n",
      "1\n",
      "8\n",
      "100\n",
      "80\n",
      "97.0\n"
     ]
    }
   ],
   "source": [
    "budi = 80 #variable assignment\n",
    "print(budi) # function call\n",
    "# this is a comment\n",
    "budi = budi + 5 # reassignment\n",
    "if budi > 80 : #Conditionals\n",
    "    print(\"Budi got A\")\n",
    "semboyan = \"Python \" + \"Jaya \" * 3 # operator overloading\n",
    "print(semboyan)\n",
    "type(semboyan) # variable type\n",
    "type(9.0) # float type\n",
    "kalkulus = 90\n",
    "aljabar = 85\n",
    "total = kalkulus + aljabar\n",
    "rata_rata = total/2 # true division\n",
    "rata_rata_dibulatkan_kebawah = total // 2\n",
    "print(rata_rata)\n",
    "print(rata_rata_dibulatkan_kebawah)\n",
    "operasi = 8 + 9 -2 * 1 ** 12 // 2 # Order operations\n",
    "print(operasi)\n",
    "\n",
    "#Built-in function to work with number\n",
    "numbers = (1,3,2,6,8,4,5,7)\n",
    "print(min(numbers)) # min\n",
    "print(max(numbers)) # max\n",
    "print(abs(-100)) # abs\n",
    "print(int(80.0233284471248124120930)) # change to int\n",
    "print(float(97)) # change to int\n"
   ]
  },
  {
   "cell_type": "markdown",
   "id": "3b5221fe",
   "metadata": {},
   "source": [
    "# Functions and Getting Help"
   ]
  },
  {
   "cell_type": "code",
   "execution_count": 15,
   "id": "86f492e9",
   "metadata": {},
   "outputs": [
    {
     "name": "stdout",
     "output_type": "stream",
     "text": [
      "Help on built-in function print in module builtins:\n",
      "\n",
      "print(...)\n",
      "    print(value, ..., sep=' ', end='\\n', file=sys.stdout, flush=False)\n",
      "    \n",
      "    Prints the values to a stream, or to sys.stdout by default.\n",
      "    Optional keyword arguments:\n",
      "    file:  a file-like object (stream); defaults to the current sys.stdout.\n",
      "    sep:   string inserted between values, default a space.\n",
      "    end:   string appended after the last value, default a newline.\n",
      "    flush: whether to forcibly flush the stream.\n",
      "\n"
     ]
    }
   ],
   "source": [
    "help(print) # Getting Help"
   ]
  },
  {
   "cell_type": "code",
   "execution_count": 22,
   "id": "645aab5b",
   "metadata": {},
   "outputs": [
    {
     "name": "stdout",
     "output_type": "stream",
     "text": [
      "Help on int object:\n",
      "\n",
      "class int(object)\n",
      " |  int([x]) -> integer\n",
      " |  int(x, base=10) -> integer\n",
      " |  \n",
      " |  Convert a number or string to an integer, or return 0 if no arguments\n",
      " |  are given.  If x is a number, return x.__int__().  For floating point\n",
      " |  numbers, this truncates towards zero.\n",
      " |  \n",
      " |  If x is not a number or if base is given, then x must be a string,\n",
      " |  bytes, or bytearray instance representing an integer literal in the\n",
      " |  given base.  The literal can be preceded by '+' or '-' and be surrounded\n",
      " |  by whitespace.  The base defaults to 10.  Valid bases are 0 and 2-36.\n",
      " |  Base 0 means to interpret the base from the string as an integer literal.\n",
      " |  >>> int('0b100', base=0)\n",
      " |  4\n",
      " |  \n",
      " |  Built-in subclasses:\n",
      " |      bool\n",
      " |  \n",
      " |  Methods defined here:\n",
      " |  \n",
      " |  __abs__(self, /)\n",
      " |      abs(self)\n",
      " |  \n",
      " |  __add__(self, value, /)\n",
      " |      Return self+value.\n",
      " |  \n",
      " |  __and__(self, value, /)\n",
      " |      Return self&value.\n",
      " |  \n",
      " |  __bool__(self, /)\n",
      " |      True if self else False\n",
      " |  \n",
      " |  __ceil__(...)\n",
      " |      Ceiling of an Integral returns itself.\n",
      " |  \n",
      " |  __divmod__(self, value, /)\n",
      " |      Return divmod(self, value).\n",
      " |  \n",
      " |  __eq__(self, value, /)\n",
      " |      Return self==value.\n",
      " |  \n",
      " |  __float__(self, /)\n",
      " |      float(self)\n",
      " |  \n",
      " |  __floor__(...)\n",
      " |      Flooring an Integral returns itself.\n",
      " |  \n",
      " |  __floordiv__(self, value, /)\n",
      " |      Return self//value.\n",
      " |  \n",
      " |  __format__(self, format_spec, /)\n",
      " |      Default object formatter.\n",
      " |  \n",
      " |  __ge__(self, value, /)\n",
      " |      Return self>=value.\n",
      " |  \n",
      " |  __getattribute__(self, name, /)\n",
      " |      Return getattr(self, name).\n",
      " |  \n",
      " |  __getnewargs__(self, /)\n",
      " |  \n",
      " |  __gt__(self, value, /)\n",
      " |      Return self>value.\n",
      " |  \n",
      " |  __hash__(self, /)\n",
      " |      Return hash(self).\n",
      " |  \n",
      " |  __index__(self, /)\n",
      " |      Return self converted to an integer, if self is suitable for use as an index into a list.\n",
      " |  \n",
      " |  __int__(self, /)\n",
      " |      int(self)\n",
      " |  \n",
      " |  __invert__(self, /)\n",
      " |      ~self\n",
      " |  \n",
      " |  __le__(self, value, /)\n",
      " |      Return self<=value.\n",
      " |  \n",
      " |  __lshift__(self, value, /)\n",
      " |      Return self<<value.\n",
      " |  \n",
      " |  __lt__(self, value, /)\n",
      " |      Return self<value.\n",
      " |  \n",
      " |  __mod__(self, value, /)\n",
      " |      Return self%value.\n",
      " |  \n",
      " |  __mul__(self, value, /)\n",
      " |      Return self*value.\n",
      " |  \n",
      " |  __ne__(self, value, /)\n",
      " |      Return self!=value.\n",
      " |  \n",
      " |  __neg__(self, /)\n",
      " |      -self\n",
      " |  \n",
      " |  __or__(self, value, /)\n",
      " |      Return self|value.\n",
      " |  \n",
      " |  __pos__(self, /)\n",
      " |      +self\n",
      " |  \n",
      " |  __pow__(self, value, mod=None, /)\n",
      " |      Return pow(self, value, mod).\n",
      " |  \n",
      " |  __radd__(self, value, /)\n",
      " |      Return value+self.\n",
      " |  \n",
      " |  __rand__(self, value, /)\n",
      " |      Return value&self.\n",
      " |  \n",
      " |  __rdivmod__(self, value, /)\n",
      " |      Return divmod(value, self).\n",
      " |  \n",
      " |  __repr__(self, /)\n",
      " |      Return repr(self).\n",
      " |  \n",
      " |  __rfloordiv__(self, value, /)\n",
      " |      Return value//self.\n",
      " |  \n",
      " |  __rlshift__(self, value, /)\n",
      " |      Return value<<self.\n",
      " |  \n",
      " |  __rmod__(self, value, /)\n",
      " |      Return value%self.\n",
      " |  \n",
      " |  __rmul__(self, value, /)\n",
      " |      Return value*self.\n",
      " |  \n",
      " |  __ror__(self, value, /)\n",
      " |      Return value|self.\n",
      " |  \n",
      " |  __round__(...)\n",
      " |      Rounding an Integral returns itself.\n",
      " |      Rounding with an ndigits argument also returns an integer.\n",
      " |  \n",
      " |  __rpow__(self, value, mod=None, /)\n",
      " |      Return pow(value, self, mod).\n",
      " |  \n",
      " |  __rrshift__(self, value, /)\n",
      " |      Return value>>self.\n",
      " |  \n",
      " |  __rshift__(self, value, /)\n",
      " |      Return self>>value.\n",
      " |  \n",
      " |  __rsub__(self, value, /)\n",
      " |      Return value-self.\n",
      " |  \n",
      " |  __rtruediv__(self, value, /)\n",
      " |      Return value/self.\n",
      " |  \n",
      " |  __rxor__(self, value, /)\n",
      " |      Return value^self.\n",
      " |  \n",
      " |  __sizeof__(self, /)\n",
      " |      Returns size in memory, in bytes.\n",
      " |  \n",
      " |  __sub__(self, value, /)\n",
      " |      Return self-value.\n",
      " |  \n",
      " |  __truediv__(self, value, /)\n",
      " |      Return self/value.\n",
      " |  \n",
      " |  __trunc__(...)\n",
      " |      Truncating an Integral returns itself.\n",
      " |  \n",
      " |  __xor__(self, value, /)\n",
      " |      Return self^value.\n",
      " |  \n",
      " |  as_integer_ratio(self, /)\n",
      " |      Return integer ratio.\n",
      " |      \n",
      " |      Return a pair of integers, whose ratio is exactly equal to the original int\n",
      " |      and with a positive denominator.\n",
      " |      \n",
      " |      >>> (10).as_integer_ratio()\n",
      " |      (10, 1)\n",
      " |      >>> (-10).as_integer_ratio()\n",
      " |      (-10, 1)\n",
      " |      >>> (0).as_integer_ratio()\n",
      " |      (0, 1)\n",
      " |  \n",
      " |  bit_length(self, /)\n",
      " |      Number of bits necessary to represent self in binary.\n",
      " |      \n",
      " |      >>> bin(37)\n",
      " |      '0b100101'\n",
      " |      >>> (37).bit_length()\n",
      " |      6\n",
      " |  \n",
      " |  conjugate(...)\n",
      " |      Returns self, the complex conjugate of any int.\n",
      " |  \n",
      " |  to_bytes(self, /, length, byteorder, *, signed=False)\n",
      " |      Return an array of bytes representing an integer.\n",
      " |      \n",
      " |      length\n",
      " |        Length of bytes object to use.  An OverflowError is raised if the\n",
      " |        integer is not representable with the given number of bytes.\n",
      " |      byteorder\n",
      " |        The byte order used to represent the integer.  If byteorder is 'big',\n",
      " |        the most significant byte is at the beginning of the byte array.  If\n",
      " |        byteorder is 'little', the most significant byte is at the end of the\n",
      " |        byte array.  To request the native byte order of the host system, use\n",
      " |        `sys.byteorder' as the byte order value.\n",
      " |      signed\n",
      " |        Determines whether two's complement is used to represent the integer.\n",
      " |        If signed is False and a negative integer is given, an OverflowError\n",
      " |        is raised.\n",
      " |  \n",
      " |  ----------------------------------------------------------------------\n",
      " |  Class methods defined here:\n",
      " |  \n",
      " |  from_bytes(bytes, byteorder, *, signed=False) from builtins.type\n",
      " |      Return the integer represented by the given array of bytes.\n",
      " |      \n",
      " |      bytes\n",
      " |        Holds the array of bytes to convert.  The argument must either\n",
      " |        support the buffer protocol or be an iterable object producing bytes.\n",
      " |        Bytes and bytearray are examples of built-in objects that support the\n",
      " |        buffer protocol.\n",
      " |      byteorder\n",
      " |        The byte order used to represent the integer.  If byteorder is 'big',\n",
      " |        the most significant byte is at the beginning of the byte array.  If\n",
      " |        byteorder is 'little', the most significant byte is at the end of the\n",
      " |        byte array.  To request the native byte order of the host system, use\n",
      " |        `sys.byteorder' as the byte order value.\n",
      " |      signed\n",
      " |        Indicates whether two's complement is used to represent the integer.\n",
      " |  \n",
      " |  ----------------------------------------------------------------------\n",
      " |  Static methods defined here:\n",
      " |  \n",
      " |  __new__(*args, **kwargs) from builtins.type\n",
      " |      Create and return a new object.  See help(type) for accurate signature.\n",
      " |  \n",
      " |  ----------------------------------------------------------------------\n",
      " |  Data descriptors defined here:\n",
      " |  \n",
      " |  denominator\n",
      " |      the denominator of a rational number in lowest terms\n",
      " |  \n",
      " |  imag\n",
      " |      the imaginary part of a complex number\n",
      " |  \n",
      " |  numerator\n",
      " |      the numerator of a rational number in lowest terms\n",
      " |  \n",
      " |  real\n",
      " |      the real part of a complex number\n",
      "\n"
     ]
    }
   ],
   "source": [
    "help(round(2.232)) # Getting help with expression in a function"
   ]
  },
  {
   "cell_type": "code",
   "execution_count": 25,
   "id": "4b82e551",
   "metadata": {},
   "outputs": [
    {
     "name": "stdout",
     "output_type": "stream",
     "text": [
      "14\n"
     ]
    }
   ],
   "source": [
    "# Defining function\n",
    "def least_difference(a,b,c) :\n",
    "    diff1 = abs(a - b)\n",
    "    diff2 = abs(a - c)\n",
    "    diff3 = abs(b - c)\n",
    "    return min(diff1,diff2,diff3)\n",
    "print(least_difference(123,643,109))"
   ]
  },
  {
   "cell_type": "code",
   "execution_count": 24,
   "id": "a54324d7",
   "metadata": {},
   "outputs": [
    {
     "name": "stdout",
     "output_type": "stream",
     "text": [
      "Help on function least_difference in module __main__:\n",
      "\n",
      "least_difference(a, b, c)\n",
      "\n"
     ]
    }
   ],
   "source": [
    "# Getting help about your function\n",
    "help(least_difference)"
   ]
  },
  {
   "cell_type": "code",
   "execution_count": 30,
   "id": "44071938",
   "metadata": {},
   "outputs": [
    {
     "name": "stdout",
     "output_type": "stream",
     "text": [
      "14\n"
     ]
    }
   ],
   "source": [
    "# Docstring\n",
    "def least_difference(a,b,c) :\n",
    "    \"\"\"\n",
    "    returning the least difference among three variables.\n",
    "    \n",
    "    >>> least_difference(4,2,3)\n",
    "    output : 2\n",
    "    \"\"\"\n",
    "    diff1 = abs(a - b)\n",
    "    diff2 = abs(a - c)\n",
    "    diff3 = abs(b - c)\n",
    "    return min(diff1,diff2,diff3)\n",
    "print(least_difference(123,643,109))"
   ]
  },
  {
   "cell_type": "code",
   "execution_count": 31,
   "id": "fc6c4b1a",
   "metadata": {},
   "outputs": [
    {
     "name": "stdout",
     "output_type": "stream",
     "text": [
      "Help on function least_difference in module __main__:\n",
      "\n",
      "least_difference(a, b, c)\n",
      "    returning the least difference among three variables.\n",
      "    \n",
      "    >>> least_difference(4,2,3)\n",
      "    output : 2\n",
      "\n"
     ]
    }
   ],
   "source": [
    "# Getting help about your function\n",
    "help(least_difference)"
   ]
  },
  {
   "cell_type": "code",
   "execution_count": 32,
   "id": "b1064467",
   "metadata": {},
   "outputs": [
    {
     "name": "stdout",
     "output_type": "stream",
     "text": [
      "None\n"
     ]
    }
   ],
   "source": [
    "# function that don't return\n",
    "def least_difference(a,b,c) :\n",
    "    \"\"\"\n",
    "    returning the least difference among three variables.\n",
    "    \n",
    "    >>> least_difference(4,2,3)\n",
    "    output : 2\n",
    "    \"\"\"\n",
    "    diff1 = abs(a - b)\n",
    "    diff2 = abs(a - c)\n",
    "    diff3 = abs(b - c)\n",
    "print(least_difference(123,643,109))"
   ]
  },
  {
   "cell_type": "code",
   "execution_count": 34,
   "id": "5813a736",
   "metadata": {},
   "outputs": [
    {
     "name": "stdout",
     "output_type": "stream",
     "text": [
      "\n",
      "None\n",
      "\n",
      "Help on NoneType object:\n",
      "\n",
      "class NoneType(object)\n",
      " |  Methods defined here:\n",
      " |  \n",
      " |  __bool__(self, /)\n",
      " |      True if self else False\n",
      " |  \n",
      " |  __repr__(self, /)\n",
      " |      Return repr(self).\n",
      " |  \n",
      " |  ----------------------------------------------------------------------\n",
      " |  Static methods defined here:\n",
      " |  \n",
      " |  __new__(*args, **kwargs) from builtins.type\n",
      " |      Create and return a new object.  See help(type) for accurate signature.\n",
      "\n",
      "None\n"
     ]
    }
   ],
   "source": [
    "# getting help with non-argumented function\n",
    "mystery = print()\n",
    "print(mystery)\n",
    "print(help(print()))"
   ]
  },
  {
   "cell_type": "code",
   "execution_count": 38,
   "id": "1a993765",
   "metadata": {},
   "outputs": [
    {
     "name": "stdout",
     "output_type": "stream",
     "text": [
      "John and Steve and Revy\n"
     ]
    }
   ],
   "source": [
    "# adding an optional argument\n",
    "print(\"John\",\"Steve\",\"Revy\",sep=\" and \")"
   ]
  },
  {
   "cell_type": "code",
   "execution_count": 36,
   "id": "55b3f384",
   "metadata": {},
   "outputs": [
    {
     "name": "stdout",
     "output_type": "stream",
     "text": [
      "12000\n",
      "10000\n"
     ]
    }
   ],
   "source": [
    "# function with optional arguments\n",
    "def buying_pen_and_pencil(pen,pencil,disc=0) :\n",
    "    return ((pen*3000)+(pencil*2000)-disc)\n",
    "print(buying_pen_and_pencil(2,3)) # without discount\n",
    "print(buying_pen_and_pencil(2,3,2000)) # with discount"
   ]
  },
  {
   "cell_type": "code",
   "execution_count": 47,
   "id": "b3053e85",
   "metadata": {},
   "outputs": [
    {
     "name": "stdout",
     "output_type": "stream",
     "text": [
      "30 30 150\n"
     ]
    }
   ],
   "source": [
    "# Function applied to function\n",
    "def mul_by5(num) :\n",
    "    return num * 5\n",
    "def call(fn,arg) :\n",
    "    return fn(arg)\n",
    "def squared_call(fn,arg) :\n",
    "    return fn(fn(arg))\n",
    "\n",
    "print(mul_by5(6),\n",
    "     call(mul_by5,6),\n",
    "     squared_call(mul_by5,6))"
   ]
  },
  {
   "cell_type": "code",
   "execution_count": 49,
   "id": "1f3c2496",
   "metadata": {},
   "outputs": [
    {
     "name": "stdout",
     "output_type": "stream",
     "text": [
      "Which number is the biggest\n",
      "100\n",
      "Which number has the biggest remainder of 5\n",
      "9\n"
     ]
    }
   ],
   "source": [
    "# Higher order builtin function\n",
    "def mod_5(x) :\n",
    "    return x % 5\n",
    "\n",
    "print(\"Which number is the biggest\",\n",
    "     max(100,98,9),\n",
    "     \"Which number has the biggest remainder of 5\",\n",
    "     max(100,98,9,key=mod_5),\n",
    "     sep=\"\\n\")"
   ]
  },
  {
   "cell_type": "code",
   "execution_count": 52,
   "id": "ba06e6c2",
   "metadata": {},
   "outputs": [
    {
     "data": {
      "text/plain": [
       "1"
      ]
     },
     "execution_count": 52,
     "metadata": {},
     "output_type": "execute_result"
    }
   ],
   "source": [
    "True + False + False"
   ]
  },
  {
   "cell_type": "markdown",
   "id": "7fd3734e",
   "metadata": {},
   "source": [
    "# Conditional Statements"
   ]
  },
  {
   "cell_type": "code",
   "execution_count": 54,
   "id": "6ccd01ea",
   "metadata": {},
   "outputs": [
    {
     "name": "stdout",
     "output_type": "stream",
     "text": [
      "<class 'bool'> <class 'bool'>\n"
     ]
    }
   ],
   "source": [
    "# Booleans\n",
    "x = True\n",
    "y = False\n",
    "print(type(x),type(y))"
   ]
  },
  {
   "cell_type": "code",
   "execution_count": 55,
   "id": "5d50ac69",
   "metadata": {},
   "outputs": [
    {
     "name": "stdout",
     "output_type": "stream",
     "text": [
      "True\n",
      "False\n",
      "True\n",
      "True\n",
      "True\n"
     ]
    }
   ],
   "source": [
    "# Comparison Operators\n",
    "a = 90\n",
    "b = 76\n",
    "c = 90\n",
    "print(a > b)\n",
    "print(a < b)\n",
    "print(a == c)\n",
    "print(a <= c)\n",
    "print(a >= b)"
   ]
  },
  {
   "cell_type": "code",
   "execution_count": 56,
   "id": "2dbf9e5c",
   "metadata": {},
   "outputs": [
    {
     "name": "stdout",
     "output_type": "stream",
     "text": [
      "The number is odd\n"
     ]
    }
   ],
   "source": [
    "# Comparison combined with arithmetics\n",
    "number = 5\n",
    "if number %2 == 0 :\n",
    "    print(\"The number is even\")\n",
    "else :\n",
    "    print(\"The number is odd\")"
   ]
  },
  {
   "cell_type": "code",
   "execution_count": 58,
   "id": "65079522",
   "metadata": {},
   "outputs": [
    {
     "name": "stdout",
     "output_type": "stream",
     "text": [
      "Data Exploration\n",
      "I don't know yet\n",
      "I don't know yet\n"
     ]
    }
   ],
   "source": [
    "# boolean with multiply condition\n",
    "def usefulness(language,library) :\n",
    "    if language == \"Python\" :\n",
    "        if library == \"Pandas\" :\n",
    "            return \"Data Exploration\"\n",
    "        elif library == \"Matplotlib\" :\n",
    "            return \"Data Visualization\"\n",
    "        elif library == \"TensorFlow\" :\n",
    "            return \"Machine Learning\"\n",
    "        else :\n",
    "            return \"I don't know yet\"\n",
    "    else :\n",
    "        return \"I don't know yet\"\n",
    "print(usefulness(\"Python\",\"Pandas\"))\n",
    "print(usefulness(\"Python\",\"Sklearn\"))\n",
    "print(usefulness(\"Java\",\"Replib\"))"
   ]
  },
  {
   "cell_type": "code",
   "execution_count": 60,
   "id": "e59bde70",
   "metadata": {},
   "outputs": [
    {
     "name": "stdout",
     "output_type": "stream",
     "text": [
      "True\n",
      "False\n",
      "True\n",
      "False\n"
     ]
    }
   ],
   "source": [
    "# Combined boolean values\n",
    "def high_grade(gaming,studying) :\n",
    "    return studying and (studying and (gaming or studying))\n",
    "\n",
    "andi = print(high_grade(True,True))\n",
    "budi = print(high_grade(True,False))\n",
    "nana = print(high_grade(False,True))\n",
    "jojo = print(high_grade(False,False))"
   ]
  },
  {
   "cell_type": "code",
   "execution_count": 64,
   "id": "44cdcd9c",
   "metadata": {},
   "outputs": [
    {
     "name": "stdout",
     "output_type": "stream",
     "text": [
      "5\n"
     ]
    }
   ],
   "source": [
    "# Multiply combined boolean values\n",
    "print(11//2)"
   ]
  },
  {
   "cell_type": "markdown",
   "id": "b9823ada",
   "metadata": {},
   "source": [
    "# Lists"
   ]
  },
  {
   "cell_type": "code",
   "execution_count": 65,
   "id": "13dce964",
   "metadata": {},
   "outputs": [
    {
     "name": "stdout",
     "output_type": "stream",
     "text": [
      "['George', 'Paul', 'Joseph', 'Putri']\n",
      "[1, 2, 3, 4, 5, 6]\n",
      "[[1, 2, 3], ['one', 'two', 'three']]\n",
      "[1, 'July', 209.112, ['IUP'], Type help() for interactive help, or help(object) for help about object.]\n"
     ]
    }
   ],
   "source": [
    "# Lists\n",
    "a = [\"George\",\"Paul\",\"Joseph\",\"Putri\"]\n",
    "b = [1,2,3,4,5,6]\n",
    "c = [[1,2,3],[\"one\",\"two\",\"three\"]]\n",
    "d = [1,\"July\",209.112,[\"IUP\"],help]\n",
    "print(a,b,c,d,sep=\"\\n\")"
   ]
  },
  {
   "cell_type": "code",
   "execution_count": 74,
   "id": "16ed35c2",
   "metadata": {},
   "outputs": [
    {
     "name": "stdout",
     "output_type": "stream",
     "text": [
      "January\n",
      "Augustus\n",
      "['January', 'February', 'March', 'April']\n",
      "['May', 'June', 'July', 'Augustus']\n",
      "['January', 'February', 'March']\n",
      "['March', 'April', 'May', 'June', 'July', 'Augustus']\n",
      "['January', 'February', 'March', 'April', 'May', 'June']\n"
     ]
    }
   ],
   "source": [
    "# Indexing\n",
    "months = [\"January\",\"February\",\"March\",\"April\",\"May\",\"June\",\"July\",\"Augustus\"]\n",
    "print(months[0]) # first item\n",
    "print(months[-1]) # last item\n",
    "print(months[0:4]) # 0 to 3 (index) item\n",
    "print(months[-4:len(months)]) # 3 to the last (from the last) item\n",
    "print(months[0:-5]) # 0 (from the start) to 5(from the last)\n",
    "print(months[2:]) # 2 to the last\n",
    "print(months[:6]) # 0 to the 5"
   ]
  },
  {
   "cell_type": "code",
   "execution_count": 75,
   "id": "596d3990",
   "metadata": {},
   "outputs": [
    {
     "name": "stdout",
     "output_type": "stream",
     "text": [
      "['Januari', 'Februari', 'Maret', 'April', 'May', 'June', 'July', 'Desember']\n"
     ]
    }
   ],
   "source": [
    "# Changing Lists\n",
    "months[0] = \"Januari\" # change the first item value\n",
    "months[-1] = \"Desember\" # change the last item value\n",
    "months[0:4] = [\"Januari\",\"Februari\",\"Maret\",\"April\"]\n",
    "print(months)"
   ]
  },
  {
   "cell_type": "code",
   "execution_count": 78,
   "id": "bfbfeb8c",
   "metadata": {},
   "outputs": [
    {
     "name": "stdout",
     "output_type": "stream",
     "text": [
      "8\n",
      "['April', 'Desember', 'Februari', 'Januari', 'July', 'June', 'Maret', 'May']\n",
      "523\n",
      "96\n",
      "79\n"
     ]
    }
   ],
   "source": [
    "# List Function\n",
    "print(len(months)) # Show the length of the months'list\n",
    "print(sorted(months)) # sort the list by alphabet\n",
    "grade = [80,90,79,85,93,96]\n",
    "print(sum(grade)) # sum the value in the list\n",
    "print(max(grade)) # return the maximum value\n",
    "print(min(grade)) # return the minimum value"
   ]
  },
  {
   "cell_type": "code",
   "execution_count": 84,
   "id": "930d997d",
   "metadata": {},
   "outputs": [
    {
     "name": "stdout",
     "output_type": "stream",
     "text": [
      "0.0\n",
      "6.0\n",
      "4\n"
     ]
    }
   ],
   "source": [
    "# Interlude : Object\n",
    "x = 9.2\n",
    "y = 7 + 6j\n",
    "z = 8\n",
    "print(x.imag) # the example of attribute\n",
    "print(y.imag)\n",
    "print(z.bit_length()) # the example of method"
   ]
  },
  {
   "cell_type": "code",
   "execution_count": 91,
   "id": "526da1a9",
   "metadata": {},
   "outputs": [
    {
     "name": "stdout",
     "output_type": "stream",
     "text": [
      "Help on method_descriptor:\n",
      "\n",
      "append(self, object, /)\n",
      "    Append object to the end of the list.\n",
      "\n",
      "None\n",
      "Help on method_descriptor:\n",
      "\n",
      "pop(self, index=-1, /)\n",
      "    Remove and return item at index (default last).\n",
      "    \n",
      "    Raises IndexError if list is empty or index is out of range.\n",
      "\n",
      "None\n",
      "['SQL', 'Azure', 'MySQL', 'SQLite']\n",
      "Help on class list in module builtins:\n",
      "\n",
      "class list(object)\n",
      " |  list(iterable=(), /)\n",
      " |  \n",
      " |  Built-in mutable sequence.\n",
      " |  \n",
      " |  If no argument is given, the constructor creates a new empty list.\n",
      " |  The argument must be an iterable if specified.\n",
      " |  \n",
      " |  Methods defined here:\n",
      " |  \n",
      " |  __add__(self, value, /)\n",
      " |      Return self+value.\n",
      " |  \n",
      " |  __contains__(self, key, /)\n",
      " |      Return key in self.\n",
      " |  \n",
      " |  __delitem__(self, key, /)\n",
      " |      Delete self[key].\n",
      " |  \n",
      " |  __eq__(self, value, /)\n",
      " |      Return self==value.\n",
      " |  \n",
      " |  __ge__(self, value, /)\n",
      " |      Return self>=value.\n",
      " |  \n",
      " |  __getattribute__(self, name, /)\n",
      " |      Return getattr(self, name).\n",
      " |  \n",
      " |  __getitem__(...)\n",
      " |      x.__getitem__(y) <==> x[y]\n",
      " |  \n",
      " |  __gt__(self, value, /)\n",
      " |      Return self>value.\n",
      " |  \n",
      " |  __iadd__(self, value, /)\n",
      " |      Implement self+=value.\n",
      " |  \n",
      " |  __imul__(self, value, /)\n",
      " |      Implement self*=value.\n",
      " |  \n",
      " |  __init__(self, /, *args, **kwargs)\n",
      " |      Initialize self.  See help(type(self)) for accurate signature.\n",
      " |  \n",
      " |  __iter__(self, /)\n",
      " |      Implement iter(self).\n",
      " |  \n",
      " |  __le__(self, value, /)\n",
      " |      Return self<=value.\n",
      " |  \n",
      " |  __len__(self, /)\n",
      " |      Return len(self).\n",
      " |  \n",
      " |  __lt__(self, value, /)\n",
      " |      Return self<value.\n",
      " |  \n",
      " |  __mul__(self, value, /)\n",
      " |      Return self*value.\n",
      " |  \n",
      " |  __ne__(self, value, /)\n",
      " |      Return self!=value.\n",
      " |  \n",
      " |  __repr__(self, /)\n",
      " |      Return repr(self).\n",
      " |  \n",
      " |  __reversed__(self, /)\n",
      " |      Return a reverse iterator over the list.\n",
      " |  \n",
      " |  __rmul__(self, value, /)\n",
      " |      Return value*self.\n",
      " |  \n",
      " |  __setitem__(self, key, value, /)\n",
      " |      Set self[key] to value.\n",
      " |  \n",
      " |  __sizeof__(self, /)\n",
      " |      Return the size of the list in memory, in bytes.\n",
      " |  \n",
      " |  append(self, object, /)\n",
      " |      Append object to the end of the list.\n",
      " |  \n",
      " |  clear(self, /)\n",
      " |      Remove all items from list.\n",
      " |  \n",
      " |  copy(self, /)\n",
      " |      Return a shallow copy of the list.\n",
      " |  \n",
      " |  count(self, value, /)\n",
      " |      Return number of occurrences of value.\n",
      " |  \n",
      " |  extend(self, iterable, /)\n",
      " |      Extend list by appending elements from the iterable.\n",
      " |  \n",
      " |  index(self, value, start=0, stop=9223372036854775807, /)\n",
      " |      Return first index of value.\n",
      " |      \n",
      " |      Raises ValueError if the value is not present.\n",
      " |  \n",
      " |  insert(self, index, object, /)\n",
      " |      Insert object before index.\n",
      " |  \n",
      " |  pop(self, index=-1, /)\n",
      " |      Remove and return item at index (default last).\n",
      " |      \n",
      " |      Raises IndexError if list is empty or index is out of range.\n",
      " |  \n",
      " |  remove(self, value, /)\n",
      " |      Remove first occurrence of value.\n",
      " |      \n",
      " |      Raises ValueError if the value is not present.\n",
      " |  \n",
      " |  reverse(self, /)\n",
      " |      Reverse *IN PLACE*.\n",
      " |  \n",
      " |  sort(self, /, *, key=None, reverse=False)\n",
      " |      Sort the list in ascending order and return None.\n",
      " |      \n",
      " |      The sort is in-place (i.e. the list itself is modified) and stable (i.e. the\n",
      " |      order of two equal elements is maintained).\n",
      " |      \n",
      " |      If a key function is given, apply it once to each list item and sort them,\n",
      " |      ascending or descending, according to their function values.\n",
      " |      \n",
      " |      The reverse flag can be set to sort in descending order.\n",
      " |  \n",
      " |  ----------------------------------------------------------------------\n",
      " |  Class methods defined here:\n",
      " |  \n",
      " |  __class_getitem__(...) from builtins.type\n",
      " |      See PEP 585\n",
      " |  \n",
      " |  ----------------------------------------------------------------------\n",
      " |  Static methods defined here:\n",
      " |  \n",
      " |  __new__(*args, **kwargs) from builtins.type\n",
      " |      Create and return a new object.  See help(type) for accurate signature.\n",
      " |  \n",
      " |  ----------------------------------------------------------------------\n",
      " |  Data and other attributes defined here:\n",
      " |  \n",
      " |  __hash__ = None\n",
      "\n",
      "None\n"
     ]
    }
   ],
   "source": [
    "# Some list methods\n",
    "print(help(list.append))\n",
    "print(help(list.pop))\n",
    "\n",
    "databases = [\"SQL\",\"Azure\",\"MySQL\",\"SQLite\"]\n",
    "databases.append(\"Amazon\")\n",
    "databases.pop()\n",
    "print(databases)\n",
    "\n",
    "print(help(list))"
   ]
  },
  {
   "cell_type": "code",
   "execution_count": 96,
   "id": "85a9169d",
   "metadata": {},
   "outputs": [
    {
     "name": "stdout",
     "output_type": "stream",
     "text": [
      "3\n",
      "True\n",
      "False\n",
      "True\n"
     ]
    }
   ],
   "source": [
    "# Searching list\n",
    "artis = [\"JKT48\",\"Tulus\",\"Justin Bieber\",\"Alan Walker\",\"Marsmello\",\"Hindia\"]\n",
    "print(artis.index(\"Alan Walker\")) # Show the index position of Alan Walker\n",
    "print(artis[3] == artis[artis.index(\"Alan Walker\")])\n",
    "\n",
    "# Show if the name in the list or no\n",
    "print(\"Skinnyfabs\" in artis)\n",
    "print(\"Tulus\" in artis)"
   ]
  },
  {
   "cell_type": "code",
   "execution_count": 97,
   "id": "818f098f",
   "metadata": {},
   "outputs": [
    {
     "name": "stdout",
     "output_type": "stream",
     "text": [
      "<class 'tuple'> <class 'tuple'>\n"
     ]
    }
   ],
   "source": [
    "# Tuples\n",
    "num = (1,2,3,4)\n",
    "nums = 1,2,3,4\n",
    "print(type(num),type(nums))"
   ]
  },
  {
   "cell_type": "code",
   "execution_count": null,
   "id": "0409b671",
   "metadata": {},
   "outputs": [],
   "source": []
  }
 ],
 "metadata": {
  "kernelspec": {
   "display_name": "Python 3 (ipykernel)",
   "language": "python",
   "name": "python3"
  },
  "language_info": {
   "codemirror_mode": {
    "name": "ipython",
    "version": 3
   },
   "file_extension": ".py",
   "mimetype": "text/x-python",
   "name": "python",
   "nbconvert_exporter": "python",
   "pygments_lexer": "ipython3",
   "version": "3.9.13"
  }
 },
 "nbformat": 4,
 "nbformat_minor": 5
}
