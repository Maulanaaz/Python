{
 "cells": [
  {
   "cell_type": "code",
   "execution_count": 1,
   "id": "a357b0fb",
   "metadata": {},
   "outputs": [
    {
     "name": "stdout",
     "output_type": "stream",
     "text": [
      "['Tomato', 15, True, 0.223, 7j, 9]\n"
     ]
    }
   ],
   "source": [
    "# a list can contain mix of different variables\n",
    "list_example = [\"Tomato\",15,True,0.223,7j,9]\n",
    "print(list_example)"
   ]
  },
  {
   "cell_type": "code",
   "execution_count": 4,
   "id": "da452fa7",
   "metadata": {},
   "outputs": [
    {
     "name": "stdout",
     "output_type": "stream",
     "text": [
      "The first level of school is  PAUD\n",
      "And the fourth is  S1\n",
      "The last one is  S3\n"
     ]
    }
   ],
   "source": [
    "# Indexing ( you can access element in the list using squares bracket)\n",
    "jenjang_sekolah = [\"PAUD\",\"TK\",\"SD\",\"SMP\",\"SMA\",\"S1\",\"S2\",\"S3\"]\n",
    "print(\"The first level of school is \", jenjang_sekolah[0])\n",
    "print(\"And the fourth is \", jenjang_sekolah[5])\n",
    "print(\"The last one is \", jenjang_sekolah[-1])"
   ]
  },
  {
   "cell_type": "code",
   "execution_count": 11,
   "id": "83ef041d",
   "metadata": {},
   "outputs": [
    {
     "name": "stdout",
     "output_type": "stream",
     "text": [
      "The first 10 years of education is  ['PAUD', 'TK', 'SD', 'SMP']\n",
      "The last 9 years is  ['S1', 'S2', 'S3']\n"
     ]
    }
   ],
   "source": [
    "# Slicing ( slicing is accessing 1 or more elements in a list with 1 line of code)\n",
    "jenjang_sekolah = [\"PAUD\",\"TK\",\"SD\",\"SMP\",\"SMA\",\"S1\",\"S2\",\"S3\"]\n",
    "print(\"The first 10 years of education is \",jenjang_sekolah[0:4])\n",
    "print(\"The last 9 years is \", jenjang_sekolah[-3:])"
   ]
  },
  {
   "cell_type": "code",
   "execution_count": 17,
   "id": "4ff6c54e",
   "metadata": {},
   "outputs": [
    {
     "name": "stdout",
     "output_type": "stream",
     "text": [
      "['avocado', 'mango', 'strawberry', 'apple', 'lemon', 'starfruit']\n",
      "['avocado', 'mango', 'strawberry', 'apple', 'jackfruit', 'starfruit']\n",
      "['durian', 'rambutan', 'pineapple', 'apple', 'jackfruit', 'starfruit']\n",
      "['durian', 'rambutan', 'banana', 'blueberry', 'jackfruit', 'starfruit']\n"
     ]
    }
   ],
   "source": [
    "# changing list \n",
    "\n",
    "fruit = [\"watermelon\",\"mango\",\"strawberry\",\"apple\",\"lemon\",\"starfruit\"]\n",
    "# 1. using index\n",
    "\n",
    "fruit[0] = \"avocado\"\n",
    "print(fruit)\n",
    "fruit[-2] = \"jackfruit\"\n",
    "print(fruit)\n",
    "\n",
    "# 2. slicing method\n",
    "fruit[0:3] = [\"durian\",\"rambutan\",\"pineapple\"]\n",
    "print(fruit)\n",
    "fruit[-4:-2] = [\"banana\",\"blueberry\"]"
   ]
  },
  {
   "cell_type": "code",
   "execution_count": 24,
   "id": "426256ba",
   "metadata": {},
   "outputs": [
    {
     "name": "stdout",
     "output_type": "stream",
     "text": [
      "21\n",
      "[79, 80, 80, 80, 81, 82, 83, 83, 83, 85, 86, 86, 87, 87, 87, 89, 90, 91, 93, 93, 95]\n",
      "1800\n",
      "79\n",
      "95\n"
     ]
    }
   ],
   "source": [
    "# list functions\n",
    "statistics_grade = [87,83,82,80,80,81,85,86,90,93,87,83,79,87,95,93,91,83,86,80,89]\n",
    "\n",
    "# len = length of the list\n",
    "print(len(statistics_grade))\n",
    "# sorted = sort the list from low to high or alphabetical sorting\n",
    "print(sorted(statistics_grade))\n",
    "# sum = summing the values in the list\n",
    "print(sum(statistics_grade))\n",
    "# min = search for a minimum value in the list\n",
    "print(min(statistics_grade))\n",
    "# max = search for a maximum value in the list\n",
    "print(max(statistics_grade))"
   ]
  },
  {
   "cell_type": "code",
   "execution_count": 32,
   "id": "d60e1c16",
   "metadata": {},
   "outputs": [
    {
     "name": "stdout",
     "output_type": "stream",
     "text": [
      "<class 'int'>\n",
      "<class 'str'>\n"
     ]
    },
    {
     "data": {
      "text/plain": [
       "<function str.upper()>"
      ]
     },
     "execution_count": 32,
     "metadata": {},
     "output_type": "execute_result"
    }
   ],
   "source": [
    "# interlude : object and methods\n",
    "\n",
    "# all inside the python's code line called object\n",
    "name = \"Maulana\"\n",
    "\n",
    "print(type(9))\n",
    "print(type(name))\n",
    "#print(help(type(name)))\n",
    "\n",
    "name.upper"
   ]
  },
  {
   "cell_type": "code",
   "execution_count": 46,
   "id": "86f09e6d",
   "metadata": {},
   "outputs": [
    {
     "name": "stdout",
     "output_type": "stream",
     "text": [
      "['HP', 'Vivo', 'Xiaomi', 'Samsung', 'Asus', 'Acer']\n",
      "['HP', 'Vivo', 'Xiaomi', 'Samsung', 'Asus']\n",
      "2\n",
      "['HP', 'Vivo', 'Xiaomi', 'Axioo', 'Samsung', 'Asus']\n"
     ]
    }
   ],
   "source": [
    "# list methods\n",
    "merk = [\"HP\",\"Vivo\",\"Xiaomi\",\"Samsung\",\"Asus\"]\n",
    "# append (add an element in the last index of the list)\n",
    "merk.append(\"Acer\")\n",
    "print(merk)\n",
    "# pop (delete the last element in the list (default) or as the parameter given)\n",
    "merk.pop()\n",
    "print(merk)\n",
    "# index (search for index of an element inside the list)\n",
    "print(merk.index(\"Xiaomi\"))\n",
    "# insert (insert an element in the list with a specified position)\n",
    "merk.insert(3,\"Axioo\")\n",
    "print(merk)"
   ]
  },
  {
   "cell_type": "code",
   "execution_count": 49,
   "id": "e53f048b",
   "metadata": {},
   "outputs": [
    {
     "name": "stdout",
     "output_type": "stream",
     "text": [
      "('wife', 'fate', 'religion', 'kindness')\n",
      "Help on class tuple in module builtins:\n",
      "\n",
      "class tuple(object)\n",
      " |  tuple(iterable=(), /)\n",
      " |  \n",
      " |  Built-in immutable sequence.\n",
      " |  \n",
      " |  If no argument is given, the constructor returns an empty tuple.\n",
      " |  If iterable is specified the tuple is initialized from iterable's items.\n",
      " |  \n",
      " |  If the argument is a tuple, the return value is the same object.\n",
      " |  \n",
      " |  Built-in subclasses:\n",
      " |      asyncgen_hooks\n",
      " |      UnraisableHookArgs\n",
      " |  \n",
      " |  Methods defined here:\n",
      " |  \n",
      " |  __add__(self, value, /)\n",
      " |      Return self+value.\n",
      " |  \n",
      " |  __contains__(self, key, /)\n",
      " |      Return key in self.\n",
      " |  \n",
      " |  __eq__(self, value, /)\n",
      " |      Return self==value.\n",
      " |  \n",
      " |  __ge__(self, value, /)\n",
      " |      Return self>=value.\n",
      " |  \n",
      " |  __getattribute__(self, name, /)\n",
      " |      Return getattr(self, name).\n",
      " |  \n",
      " |  __getitem__(self, key, /)\n",
      " |      Return self[key].\n",
      " |  \n",
      " |  __getnewargs__(self, /)\n",
      " |  \n",
      " |  __gt__(self, value, /)\n",
      " |      Return self>value.\n",
      " |  \n",
      " |  __hash__(self, /)\n",
      " |      Return hash(self).\n",
      " |  \n",
      " |  __iter__(self, /)\n",
      " |      Implement iter(self).\n",
      " |  \n",
      " |  __le__(self, value, /)\n",
      " |      Return self<=value.\n",
      " |  \n",
      " |  __len__(self, /)\n",
      " |      Return len(self).\n",
      " |  \n",
      " |  __lt__(self, value, /)\n",
      " |      Return self<value.\n",
      " |  \n",
      " |  __mul__(self, value, /)\n",
      " |      Return self*value.\n",
      " |  \n",
      " |  __ne__(self, value, /)\n",
      " |      Return self!=value.\n",
      " |  \n",
      " |  __repr__(self, /)\n",
      " |      Return repr(self).\n",
      " |  \n",
      " |  __rmul__(self, value, /)\n",
      " |      Return value*self.\n",
      " |  \n",
      " |  count(self, value, /)\n",
      " |      Return number of occurrences of value.\n",
      " |  \n",
      " |  index(self, value, start=0, stop=9223372036854775807, /)\n",
      " |      Return first index of value.\n",
      " |      \n",
      " |      Raises ValueError if the value is not present.\n",
      " |  \n",
      " |  ----------------------------------------------------------------------\n",
      " |  Class methods defined here:\n",
      " |  \n",
      " |  __class_getitem__(...) from builtins.type\n",
      " |      See PEP 585\n",
      " |  \n",
      " |  ----------------------------------------------------------------------\n",
      " |  Static methods defined here:\n",
      " |  \n",
      " |  __new__(*args, **kwargs) from builtins.type\n",
      " |      Create and return a new object.  See help(type) for accurate signature.\n",
      "\n",
      "None\n"
     ]
    }
   ],
   "source": [
    "# Tuples\n",
    "example = (\"wife\",\"fate\",\"religion\",\"kindness\")\n",
    "print(example)\n",
    "print(help(tuple))"
   ]
  },
  {
   "cell_type": "code",
   "execution_count": 50,
   "id": "0f93a3ac",
   "metadata": {},
   "outputs": [
    {
     "name": "stdout",
     "output_type": "stream",
     "text": [
      "1\n"
     ]
    }
   ],
   "source": [
    "print(8//5)"
   ]
  },
  {
   "cell_type": "code",
   "execution_count": 51,
   "id": "258790b7",
   "metadata": {},
   "outputs": [
    {
     "name": "stdout",
     "output_type": "stream",
     "text": [
      "1\n"
     ]
    }
   ],
   "source": [
    "print(int(8/5))"
   ]
  },
  {
   "cell_type": "code",
   "execution_count": null,
   "id": "270d4847",
   "metadata": {},
   "outputs": [],
   "source": [
    "print()"
   ]
  }
 ],
 "metadata": {
  "kernelspec": {
   "display_name": "Python 3 (ipykernel)",
   "language": "python",
   "name": "python3"
  },
  "language_info": {
   "codemirror_mode": {
    "name": "ipython",
    "version": 3
   },
   "file_extension": ".py",
   "mimetype": "text/x-python",
   "name": "python",
   "nbconvert_exporter": "python",
   "pygments_lexer": "ipython3",
   "version": "3.9.13"
  }
 },
 "nbformat": 4,
 "nbformat_minor": 5
}
