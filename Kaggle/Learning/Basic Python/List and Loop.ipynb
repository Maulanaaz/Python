{
 "cells": [
  {
   "cell_type": "markdown",
   "id": "5deb199e",
   "metadata": {},
   "source": [
    "# LIST"
   ]
  },
  {
   "cell_type": "code",
   "execution_count": 3,
   "id": "f3d04508",
   "metadata": {},
   "outputs": [
    {
     "name": "stdout",
     "output_type": "stream",
     "text": [
      "Python R PHP HTML JAVA JAVASCRIPT SQL CSS C C++ "
     ]
    }
   ],
   "source": [
    "# List is a way to repeatedly some code, for instance\n",
    "languages = [\"Python\",\"R\",\"PHP\",\"HTML\",\"JAVA\",\"JAVASCRIPT\",\"SQL\",\"CSS\",\"C\",\"C++\"]\n",
    "for language in languages :\n",
    "    print(language,end=\" \")"
   ]
  },
  {
   "cell_type": "markdown",
   "id": "3b4e162c",
   "metadata": {},
   "source": [
    "# For Loop"
   ]
  },
  {
   "cell_type": "code",
   "execution_count": 6,
   "id": "2a007622",
   "metadata": {},
   "outputs": [
    {
     "name": "stdout",
     "output_type": "stream",
     "text": [
      "85 84 80 89 87 90 95 78 74 96 "
     ]
    }
   ],
   "source": [
    "# Iterate over elements in tuple\n",
    "grades = (85,84,80,89,87,90,95,78,74,96)\n",
    "for grade in grades :\n",
    "    print(grade,end=\" \")"
   ]
  },
  {
   "cell_type": "code",
   "execution_count": 8,
   "id": "41004d1f",
   "metadata": {},
   "outputs": [
    {
     "name": "stdout",
     "output_type": "stream",
     "text": [
      "H e l l o   T h e r e ,   w e l c o m e   t o   t h e   j u n g l e "
     ]
    }
   ],
   "source": [
    "# Iterate over elements in a string\n",
    "greeting = \"Hello There, welcome to the jungle\"\n",
    "for word in greeting :\n",
    "    print(word, end=\" \")"
   ]
  },
  {
   "cell_type": "code",
   "execution_count": 9,
   "id": "b1a025c8",
   "metadata": {},
   "outputs": [
    {
     "name": "stdout",
     "output_type": "stream",
     "text": [
      "0 1 2 3 4 5 6 7 8 9 "
     ]
    }
   ],
   "source": [
    "# Range, is a function that returns iteration of numbers\n",
    "for b in range(10) :\n",
    "    print(b,end=\" \")"
   ]
  },
  {
   "cell_type": "markdown",
   "id": "12e175c1",
   "metadata": {},
   "source": [
    "# While Loop"
   ]
  },
  {
   "cell_type": "code",
   "execution_count": 17,
   "id": "e03f54df",
   "metadata": {},
   "outputs": [
    {
     "name": "stdout",
     "output_type": "stream",
     "text": [
      "['Hello', 'there,', 'welcome', 'to', 'the']\n"
     ]
    }
   ],
   "source": [
    "# While loop is a loop that iterate something until the condition is met\n",
    "greeting = \"Hello there, welcome to the jungle\"\n",
    "stakeholder = 0\n",
    "greeting_word = []\n",
    "while len(greeting) != 0 :\n",
    "    try :\n",
    "        boundary = greeting.index(\" \")\n",
    "        greeting_word.append(greeting[stakeholder:boundary])\n",
    "        greeting = greeting[boundary+1:]\n",
    "    except :\n",
    "        break\n",
    "print(greeting_word)"
   ]
  },
  {
   "cell_type": "markdown",
   "id": "34dea6b0",
   "metadata": {},
   "source": [
    "# List Comprehension"
   ]
  },
  {
   "cell_type": "code",
   "execution_count": 19,
   "id": "afb67a93",
   "metadata": {},
   "outputs": [
    {
     "name": "stdout",
     "output_type": "stream",
     "text": [
      "[0, 1, 4, 9, 16, 25, 36, 49, 64, 81]\n",
      "[0, 1, 4, 9, 16, 25, 36, 49, 64, 81]\n"
     ]
    }
   ],
   "source": [
    "# Basic\n",
    "\n",
    "# Without comprehension\n",
    "geometrics = []\n",
    "for i in range(10) :\n",
    "    geometrics.append(i**2)\n",
    "print(geometrics)\n",
    "\n",
    "# with comprehension\n",
    "print([i**2 for i in range(10)])"
   ]
  },
  {
   "cell_type": "code",
   "execution_count": 22,
   "id": "fedb76e6",
   "metadata": {},
   "outputs": [
    {
     "name": "stdout",
     "output_type": "stream",
     "text": [
      "Total of the passed students = 9\n",
      "Total of the passed students = 9\n"
     ]
    }
   ],
   "source": [
    "# If Condition\n",
    "grades = [45,60,94,56,20,86,49,50,86,98,79,80,82,94,91,81,40,49,56]\n",
    "\n",
    "# Without comprehension\n",
    "passed_students = []\n",
    "\n",
    "for i in grades :\n",
    "    if i >= 80 :\n",
    "        passed_students.append(1)\n",
    "print(\"Total of the passed students =\",sum(passed_students))\n",
    "\n",
    "# With comprehension\n",
    "passed_students = [1 for i in grades if i >= 80]\n",
    "print(\"Total of the passed students =\",sum(passed_students))"
   ]
  },
  {
   "cell_type": "code",
   "execution_count": 24,
   "id": "59d8860c",
   "metadata": {},
   "outputs": [
    {
     "name": "stdout",
     "output_type": "stream",
     "text": [
      "9\n",
      "9\n"
     ]
    }
   ],
   "source": [
    "# Comparison to replace function\n",
    "distance = [-1,5,29,-1,-3923,-453,-424,56,3,5,248,-3,4,-52,-242,411,90,-132]\n",
    "\n",
    "# Without comprehension\n",
    "def negative_value(n) :\n",
    "    total = []\n",
    "    for i in n :\n",
    "        if i < 0 :\n",
    "            total.append(1)\n",
    "    return sum(total)\n",
    "\n",
    "\n",
    "print(negative_value(distance))\n",
    "\n",
    "# With comprehension\n",
    "negative_value = [1 for i in distance if i<0]\n",
    "print(sum(negative_value))"
   ]
  },
  {
   "cell_type": "code",
   "execution_count": null,
   "id": "fca757c7",
   "metadata": {},
   "outputs": [],
   "source": []
  }
 ],
 "metadata": {
  "kernelspec": {
   "display_name": "Python 3 (ipykernel)",
   "language": "python",
   "name": "python3"
  },
  "language_info": {
   "codemirror_mode": {
    "name": "ipython",
    "version": 3
   },
   "file_extension": ".py",
   "mimetype": "text/x-python",
   "name": "python",
   "nbconvert_exporter": "python",
   "pygments_lexer": "ipython3",
   "version": "3.9.13"
  }
 },
 "nbformat": 4,
 "nbformat_minor": 5
}
