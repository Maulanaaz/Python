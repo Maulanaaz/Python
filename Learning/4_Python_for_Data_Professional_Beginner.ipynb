{
 "cells": [
  {
   "cell_type": "markdown",
   "metadata": {},
   "source": [
    "<img src=\"Images\\python_logo.png\" >\n",
    "Python is an interpreted, high-level and general-purpose programming language. Python's design philosophy emphasizes code readability with its notable use of significant whitespace. Its language constructs and object-oriented approach aim to help programmers write clear, logical code for small and large-scale projects\n",
    "\n",
    "Python was created in the late 1980s, and first released in 1991, by Guido van Rossum as a successor to the ABC programming language. Python 2.0, released in 2000, introduced new features, such as list comprehensions, and a garbage collection system with reference counting, and was discontinued with version 2.7 in 2020. Python 3.0, released in 2008, was a major revision of the language that is not completely backward-compatible and much Python 2 code does not run unmodified on Python 3. With Python 2's end-of-life, only Python 3.6.x and later are supported, with older versions still supporting e.g. Windows 7 (and old installers not restricted to 64-bit Windows)."
   ]
  },
  {
   "cell_type": "code",
   "execution_count": null,
   "metadata": {},
   "outputs": [],
   "source": [
    "#Hello World !\n",
    "print(\"Hello World!\")\n",
    "\n",
    "'''''\n",
    "The print() function prints the specified message to the screen, or other standard output device.\n",
    "The message can be a string, or any other object, the object will be converted into a string before written to the screen.\n",
    "'''''"
   ]
  },
  {
   "cell_type": "code",
   "execution_count": 2,
   "metadata": {},
   "outputs": [
    {
     "name": "stdout",
     "output_type": "stream",
     "text": [
      "Hello World!\n",
      "I Love Python\n",
      "Guido van Rossum\n",
      "15\n"
     ]
    },
    {
     "data": {
      "text/plain": [
       "\"''\\nUse (#) to make single-line comment\\nUse (double quarter ') to make multi-line comment\\n\""
      ]
     },
     "execution_count": 2,
     "metadata": {},
     "output_type": "execute_result"
    }
   ],
   "source": [
    "# Python Program Structure\n",
    "\n",
    "#1. Statements\n",
    "print(\"Hello World!\")\n",
    "print(\"I Love Python\")\n",
    "print(\"Guido van Rossum\")\n",
    "'''''\n",
    "Statements are the basic units of instruction that the Python interpreter parses and processes. \n",
    "In general, the interpreter executes statements sequentially, one after the next as it encounters them. \n",
    "'''''\n",
    "\n",
    "#2. Variables\n",
    "number_1 = 5\n",
    "number_2 = 10\n",
    "sentence = \"sentence\"\n",
    "'''''\n",
    "Variables are containers for storing data values.\n",
    "'''''\n",
    "\n",
    "#3. Literals\n",
    "variable = \"Literal\"\n",
    "'''''\n",
    "Generally, literals are a notation for representing a fixed value in source code. \n",
    "They can also be defined as raw value or data given in variables or constants.\n",
    "'''''\n",
    "\n",
    "#4. Operators\n",
    "print(number_1 + number_2)\n",
    "'''''\n",
    "Operators are used to perform operations on variables and values.\n",
    "'''''\n",
    "\n",
    "#5. Reserved words\n",
    "'''''\n",
    "Python has a set of keywords that are reserved words that cannot be used as variable names, function names, \n",
    "or any other identifiers. Example : (if,else,for,del,import,while,True,etc.)\n",
    "'''''\n",
    "\n",
    "#6. Whitespace\n",
    "'''''\n",
    "When parsing code, the Python interpreter breaks the input up into tokens. Informally, tokens are just the language \n",
    "elements that you have seen so far: identifiers, keywords, literals, and operators.\n",
    "\n",
    "Typically, what separates tokens from one another is whitespace: blank characters that provide empty space to improve \n",
    "readability. \n",
    "'''''\n",
    "\n",
    "#7. Comments\n",
    "  # single-line comment\n",
    "'''''\n",
    "  multi-line\n",
    "  comment\n",
    "'''''\n",
    "'''''\n",
    "Use (#) to make single-line comment\n",
    "Use (double quarter ') to make multi-line comment\n",
    "'''''"
   ]
  },
  {
   "cell_type": "code",
   "execution_count": 4,
   "metadata": {},
   "outputs": [
    {
     "name": "stdout",
     "output_type": "stream",
     "text": [
      "True\n"
     ]
    },
    {
     "data": {
      "text/plain": [
       "\"''\\nRules for Python variables:\\n\\n- A variable name must start with a letter or the underscore character\\n- A variable name cannot start with a number\\n- A variable name can only contain alpha-numeric characters and underscores (A-z, 0-9, and _ )\\n- Variable names are case-sensitive (age, Age and AGE are three different variables)\\n\""
      ]
     },
     "execution_count": 4,
     "metadata": {},
     "output_type": "execute_result"
    }
   ],
   "source": [
    "# Variables in Python\n",
    "_aa = \"Hello\"\n",
    "_Aa = \"World\"\n",
    "print(_aa != _Aa)\n",
    "'''''\n",
    "Rules for Python variables:\n",
    "\n",
    "- A variable name must start with a letter or the underscore character\n",
    "- A variable name cannot start with a number\n",
    "- A variable name can only contain alpha-numeric characters and underscores (A-z, 0-9, and _ )\n",
    "- Variable names are case-sensitive (age, Age and AGE are three different variables)\n",
    "'''''"
   ]
  },
  {
   "cell_type": "code",
   "execution_count": 8,
   "metadata": {},
   "outputs": [
    {
     "name": "stdout",
     "output_type": "stream",
     "text": [
      "<class 'NoneType'>\n",
      "<class 'bool'>\n",
      "True\n",
      "<class 'int'>\n",
      "<class 'float'>\n",
      "<class 'complex'>\n",
      "<class 'str'>\n"
     ]
    },
    {
     "data": {
      "text/plain": [
       "'\\'\\'\\nStrings in python are surrounded by either single quotation marks, or double quotation marks.\\n\\'hello\\' is the same as \"hello\".\\n'"
      ]
     },
     "execution_count": 8,
     "metadata": {},
     "output_type": "execute_result"
    }
   ],
   "source": [
    "# Basic Data Type\n",
    "\n",
    "#1. None\n",
    "lists = None\n",
    "print(type(lists))\n",
    "'''''\n",
    "The None keyword is used to define a null value, or no value at all.\n",
    "\n",
    "None is not the same as 0, False, or an empty string. None is a data type of its own (NoneType) and only None can be None.\n",
    "'''''\n",
    "\n",
    "#2. Boolean Type\n",
    "boolean1 = True\n",
    "boolean2 = False\n",
    "print(type(boolean1))\n",
    "print(type(boolean1) == type(boolean2))\n",
    "'''''\n",
    "Booleans represent one of two values: True or False.\n",
    "In programming you often need to know if an expression is True or False.\n",
    "You can evaluate any expression in Python, and get one of two answers, True or False.\n",
    "When you compare two values, the expression is evaluated and Python returns the Boolean answer.\n",
    "'''''\n",
    "\n",
    "#3. Numeric Type\n",
    "intg = 50\n",
    "floats = 9.3\n",
    "complx = 4j\n",
    "lists = [intg,floats,complx]\n",
    "for i  in lists :\n",
    "    print(type(i))\n",
    "'''''\n",
    "There are three distinct numeric types: integers, floating point numbers, and complex numbers.\n",
    "'''''\n",
    "\n",
    "#4. Strings\n",
    "hello = \"Hello\"\n",
    "print(type(hello))\n",
    "'''''\n",
    "Strings in python are surrounded by either single quotation marks, or double quotation marks.\n",
    "'hello' is the same as \"hello\".\n",
    "'''''"
   ]
  },
  {
   "cell_type": "code",
   "execution_count": 9,
   "metadata": {},
   "outputs": [
    {
     "name": "stdout",
     "output_type": "stream",
     "text": [
      "Hello\n",
      "[1, 3.0, 7890, 'Hello']\n"
     ]
    },
    {
     "data": {
      "text/plain": [
       "\"''\\nLists are one of 4 built-in data types in Python used to store collections of data, the other 3 are Tuple, Set, \\nand Dictionary, all with different qualities and usage.\\nLists are created using square brackets.\\nList items are ordered, changeable, and allow duplicate values.\\nList items are indexed, the first item has index [0], the second item has index [1] etc\\n\""
      ]
     },
     "execution_count": 9,
     "metadata": {},
     "output_type": "execute_result"
    }
   ],
   "source": [
    "# Sequence Type\n",
    "\n",
    "#1. Lists\n",
    "list_ex = [1,3.0,78j,\"Hello\"]\n",
    "print(list_ex[3])\n",
    "list_ex[2] = 7890\n",
    "print(list_ex)\n",
    "'''''\n",
    "Lists are one of 4 built-in data types in Python used to store collections of data, the other 3 are Tuple, Set, \n",
    "and Dictionary, all with different qualities and usage.\n",
    "Lists are created using square brackets.\n",
    "List items are ordered, changeable, and allow duplicate values.\n",
    "List items are indexed, the first item has index [0], the second item has index [1] etc\n",
    "'''''\n",
    "\n",
    "#2. Tuple\n",
    "tuples = (\"January\",\"February\",\"March\")\n",
    "print(tuples)\n",
    "print(tuples[0])\n",
    "'''''\n",
    "Tuples are written with round brackets.\n",
    "Tuple items are ordered, unchangeable, and allow duplicate values.\n",
    "Tuple items are indexed, the first item has index [0], the second item has index [1] etc.\n",
    "'''''"
   ]
  },
  {
   "cell_type": "code",
   "execution_count": 11,
   "metadata": {},
   "outputs": [
    {
     "name": "stdout",
     "output_type": "stream",
     "text": [
      "{83, 20, 45, 31}\n"
     ]
    },
    {
     "ename": "TypeError",
     "evalue": "'type' object is not subscriptable",
     "output_type": "error",
     "traceback": [
      "\u001b[1;31m---------------------------------------------------------------------------\u001b[0m",
      "\u001b[1;31mTypeError\u001b[0m                                 Traceback (most recent call last)",
      "\u001b[1;32m<ipython-input-11-9aca6df9f495>\u001b[0m in \u001b[0;36m<module>\u001b[1;34m\u001b[0m\n\u001b[0;32m     12\u001b[0m \u001b[0mlists\u001b[0m \u001b[1;33m=\u001b[0m \u001b[1;33m[\u001b[0m\u001b[1;34m\"Hello\"\u001b[0m\u001b[1;33m,\u001b[0m\u001b[1;34m\"I\"\u001b[0m\u001b[1;33m,\u001b[0m\u001b[1;34m\"Am\"\u001b[0m\u001b[1;33m,\u001b[0m\u001b[1;34m\"Learning\"\u001b[0m\u001b[1;33m,\u001b[0m\u001b[1;34m\"Python\"\u001b[0m\u001b[1;33m]\u001b[0m\u001b[1;33m\u001b[0m\u001b[1;33m\u001b[0m\u001b[0m\n\u001b[0;32m     13\u001b[0m \u001b[0mlists\u001b[0m \u001b[1;33m=\u001b[0m \u001b[0mfrozenset\u001b[0m\u001b[1;33m(\u001b[0m\u001b[0mlists\u001b[0m\u001b[1;33m)\u001b[0m\u001b[1;33m\u001b[0m\u001b[1;33m\u001b[0m\u001b[0m\n\u001b[1;32m---> 14\u001b[1;33m \u001b[0mprint\u001b[0m\u001b[1;33m(\u001b[0m\u001b[0mlist\u001b[0m\u001b[1;33m[\u001b[0m\u001b[1;36m1\u001b[0m\u001b[1;33m]\u001b[0m\u001b[1;33m)\u001b[0m\u001b[1;33m\u001b[0m\u001b[1;33m\u001b[0m\u001b[0m\n\u001b[0m",
      "\u001b[1;31mTypeError\u001b[0m: 'type' object is not subscriptable"
     ]
    }
   ],
   "source": [
    "# Set type\n",
    "sets = {45,83,31,31,20}\n",
    "print(sets)\n",
    "'''''\n",
    "A set is a collection which is both unordered and unindexed.\n",
    "Sets are written with curly brackets.\n",
    "Sets are unchangeable, meaning that we cannot change the items after the set has been created.\n",
    "Sets cannot have two items with the same value.\n",
    "'''''\n",
    "\n",
    "# Frozenzet Function\n",
    "lists = [\"Hello\",\"I\",\"Am\",\"Learning\",\"Python\"]\n",
    "lists = frozenset(lists)\n",
    "print(list[1]) #This will cause an error\n",
    "'''''\n",
    "The frozenset() function returns an unchangeable frozenset object (which is like a set object, only unchangeable).\n",
    "'''''"
   ]
  },
  {
   "cell_type": "code",
   "execution_count": 12,
   "metadata": {},
   "outputs": [
    {
     "name": "stdout",
     "output_type": "stream",
     "text": [
      "Maulana\n",
      "Student\n"
     ]
    },
    {
     "data": {
      "text/plain": [
       "\"''\\nDictionaries are used to store data values in key:value pairs.\\nA dictionary is a collection which is unordered, changeable and does not allow duplicates.\\nDictionaries are written with curly brackets, and have keys and values.\\n\""
      ]
     },
     "execution_count": 12,
     "metadata": {},
     "output_type": "execute_result"
    }
   ],
   "source": [
    "# Dictionary\n",
    "dictionary = {'Name':'Maulana','Job':'Student'}\n",
    "print(dictionary['Name'])\n",
    "print(dictionary['Job'])\n",
    "'''''\n",
    "Dictionaries are used to store data values in key:value pairs.\n",
    "A dictionary is a collection which is unordered, changeable and does not allow duplicates.\n",
    "Dictionaries are written with curly brackets, and have keys and values.\n",
    "'''''"
   ]
  },
  {
   "cell_type": "code",
   "execution_count": null,
   "metadata": {},
   "outputs": [],
   "source": [
    "# Python Operators\n",
    "\n",
    "#1. Arithmetic Operator\n",
    "'''''\n",
    "Operator \t Name \t Example\n",
    "+\t Addition \t x + y\n",
    "-\t Subtractio n\tx - y\n",
    "*\t Multiplication \tx * y\n",
    "/\t Division \tx / y\n",
    "%\t Modulus \tx % y\n",
    "**\t Exponentiation \tx ** y\n",
    "//\t Floor division \tx // y\n",
    "'''''\n",
    "\n",
    "#2. Assignment Operator\n",
    "'''''\n",
    "Operator\tExample\tSame As\n",
    "= \t x = 5 \t x = 5\n",
    "+= \t x += 3 \t x = x + 3\n",
    "-= \t x -= 3 \t x = x - 3\n",
    "*= \t x *= 3 \t x = x * 3\n",
    "/= \t x /= 3 \t x = x / 3\n",
    "%= \t x %= 3 \t x = x % 3\n",
    "//= \t x //= 3 \t x = x // 3\n",
    "**= \t x **= 3 \t x = x ** 3\n",
    "&= \t x &= 3 \t x = x & 3\n",
    "|= \t x |= 3 \t x = x | 3\n",
    "^= \t x ^= 3 \t x = x ^ 3\n",
    ">>= \t x >>= 3 \t x = x >> 3\n",
    "<<= \t x <<= 3 \t x = x << 3\n",
    "'''''\n",
    "\n",
    "#3. Comparison Operator\n",
    "'''''\n",
    "Comparison operators are used to compare two values:\n",
    "\n",
    "Operator \tName\tExample\n",
    "== \t Equal \t x == y \n",
    "!= \t Not equal \t x != y\n",
    "> \t Greater than \t x > y\n",
    "< \t Less than \t x < y\n",
    ">= \t Greater than or equal to \t x >= y\n",
    "<= \t Less than or equal to \t x <= y\n",
    "'''''\n",
    "\n",
    "#4. Logical Operator\n",
    "'''''\n",
    "Logical operators are used to combine conditional statements:\n",
    "\n",
    "Operator \t Description \t Example\n",
    "and \t Returns True if both statements are true \t x < 5 and  x < 10\n",
    "or \t Returns True if one of the statements is true \t x < 5 or x < 4\n",
    "not \t Reverse the result, returns False if the result is true \t not(x < 5 and x < 10)\n",
    "'''''\n",
    "\n",
    "#5. Identity Operator\n",
    "'''''\n",
    "Python Identity Operators\n",
    "Identity operators are used to compare the objects, not if they are equal, but if they are actually the same object, with the same memory location:\n",
    "\n",
    "Operator \t Description \t Example\n",
    "is \t Returns True if both variables are the same object \t x is y\n",
    "is not \t Returns True if both variables are not the same object \t x is not y\n",
    "'''''"
   ]
  },
  {
   "cell_type": "code",
   "execution_count": 3,
   "metadata": {},
   "outputs": [
    {
     "name": "stdout",
     "output_type": "stream",
     "text": [
      "375000.0\n",
      "375000.0\n"
     ]
    },
    {
     "data": {
      "text/plain": [
       "\"''\\nThe operator precedence in Python is listed in the following table. It is in descending order (upper group has higher \\nprecedence than the lower ones).\\n\\nOperators \\t Meaning\\n() \\t Parentheses\\n** \\t Exponent\\n+x, -x, ~x \\t Unary plus, Unary minus, Bitwise NOT\\n*, /, //, % \\t Multiplication, Division, Floor division, Modulus\\n+, - \\t Addition, Subtraction\\n<<, >> \\t Bitwise shift operators\\n& \\t Bitwise AND\\n^ \\t Bitwise XOR\\n| \\t Bitwise OR\\n==, !=, >, >=, <, <=, is, is not, in, not in \\t Comparisons, Identity, Membership operators\\nnot \\t Logical NOT\\nand \\t Logical AND\\nor \\t Logical OR\\n\""
      ]
     },
     "execution_count": 3,
     "metadata": {},
     "output_type": "execute_result"
    }
   ],
   "source": [
    "# Precedence Operator\n",
    "price = 500000\n",
    "discount = 0.35\n",
    "tax = 0.1\n",
    "discounted_price = 1 - discount\n",
    "discounted_price *= price\n",
    "tax_price = tax * price\n",
    "total_price = discounted_price + tax_price\n",
    "print(total_price)\n",
    "\n",
    "#If use Precedence Operator\n",
    "price = 500000\n",
    "discount = 0.35\n",
    "tax = 0.1\n",
    "discounted_price = (1-discount) * price\n",
    "discounted_price += tax * price\n",
    "print(discounted_price)\n",
    "'''''\n",
    "The operator precedence in Python is listed in the following table. It is in descending order (upper group has higher \n",
    "precedence than the lower ones).\n",
    "\n",
    "Operators \t Meaning\n",
    "() \t Parentheses\n",
    "** \t Exponent\n",
    "+x, -x, ~x \t Unary plus, Unary minus, Bitwise NOT\n",
    "*, /, //, % \t Multiplication, Division, Floor division, Modulus\n",
    "+, - \t Addition, Subtraction\n",
    "<<, >> \t Bitwise shift operators\n",
    "& \t Bitwise AND\n",
    "^ \t Bitwise XOR\n",
    "| \t Bitwise OR\n",
    "==, !=, >, >=, <, <=, is, is not, in, not in \t Comparisons, Identity, Membership operators\n",
    "not \t Logical NOT\n",
    "and \t Logical AND\n",
    "or \t Logical OR\n",
    "'''''"
   ]
  },
  {
   "cell_type": "code",
   "execution_count": 16,
   "metadata": {},
   "outputs": [
    {
     "name": "stdout",
     "output_type": "stream",
     "text": [
      "x is an even number\n",
      "y is an odd number\n",
      "z is a prime number\n"
     ]
    },
    {
     "data": {
      "text/plain": [
       "'\\'\\'\\nPython supports the usual logical conditions from mathematics:\\n\\n- Equals: a == b\\n- Not Equals: a != b\\n- Less than: a < b\\n- Less than or equal to: a <= b\\n- Greater than: a > b\\n- Greater than or equal to: a >= b\\nThese conditions can be used in several ways, most commonly in \"if statements\" and loops.\\n'"
      ]
     },
     "execution_count": 16,
     "metadata": {},
     "output_type": "execute_result"
    }
   ],
   "source": [
    "# If condition for make a decision\n",
    "x = 78\n",
    "if x %2 == 0 : #An \"if statement\" is written by using the if keyword.\n",
    "    print(\"x is an even number\")\n",
    "else :\n",
    "    print(\"x is an odd number\")\n",
    "\n",
    "y = 43\n",
    "if y % 2 == 0 :\n",
    "    print(\"x is an even number\")\n",
    "else : #The else keyword catches anything which isn't caught by the preceding conditions.\n",
    "    print(\"y is an odd number\")\n",
    "\n",
    "z = 17\n",
    "if z % 2 == 0 :\n",
    "    print(\"z is an even number\")\n",
    "elif z % 2 != 0 or z % 3 != 0 :#The elif keyword is pythons way of saying \"if the previous conditions were not true, \n",
    "    print(\"z is a prime number\") #then try this condition\".\n",
    "    \n",
    "'''''\n",
    "Python supports the usual logical conditions from mathematics:\n",
    "\n",
    "- Equals: a == b\n",
    "- Not Equals: a != b\n",
    "- Less than: a < b\n",
    "- Less than or equal to: a <= b\n",
    "- Greater than: a > b\n",
    "- Greater than or equal to: a >= b\n",
    "These conditions can be used in several ways, most commonly in \"if statements\" and loops.\n",
    "'''''"
   ]
  },
  {
   "cell_type": "code",
   "execution_count": 14,
   "metadata": {},
   "outputs": [
    {
     "name": "stdout",
     "output_type": "stream",
     "text": [
      "-----WHILE LOOP-----\n",
      "190000\n",
      "error negative integer found\n",
      "negative integer found in index  2\n",
      "-1\n",
      "190000\n",
      "-----FOR LOOP-----\n",
      "190000\n",
      "error negative integer found\n",
      "negative integer found in index  2\n",
      "10000\n",
      "190000\n",
      "Python  Interpreter\n",
      "Java  Interpreter\n",
      "C++  Interpreter\n",
      "Python  Compiler\n",
      "Java  Compiler\n",
      "C++  Compiler\n",
      "Python  Application\n",
      "Java  Application\n",
      "C++  Application\n"
     ]
    },
    {
     "data": {
      "text/plain": [
       "'\\'\\'\\nA nested loop is a loop inside a loop.\\nThe \"inner loop\" will be executed one time for each iteration of the \"outer loop\"\\n'"
      ]
     },
     "execution_count": 14,
     "metadata": {},
     "output_type": "execute_result"
    }
   ],
   "source": [
    "# Python Loops\n",
    "'''''\n",
    "Python has two primitive loop commands:\n",
    "- while loops\n",
    "- for loops\n",
    "'''''\n",
    "#1. While loop\n",
    "print(\"-----WHILE LOOP-----\")\n",
    "price = [10000,55000,25000,100000]\n",
    "len_price = len(price)\n",
    "i = 0\n",
    "sum_of_price = 0\n",
    "while i < len_price :\n",
    "    sum_of_price += price[i]\n",
    "    i += 1\n",
    "print(sum_of_price)\n",
    "\n",
    "price = [10000,-90000,55000,-15000,25000,100000]\n",
    "len_price = len(price)\n",
    "sum_of_price = 0\n",
    "i = 0\n",
    "while i < len(price) :\n",
    "    if price[i] < 0 :\n",
    "        print(\"error negative integer found\")\n",
    "        print(\"negative integer found in index \",i+1)\n",
    "        sum_of_price = -1\n",
    "        break #The purpose of this statement is to end the execution of the loop\n",
    "              #immediately and the program control goes to the statement after the last statement of the loop\n",
    "    sum_of_price += price[i]\n",
    "    i +=1\n",
    "print(sum_of_price)\n",
    "\n",
    "price = [10000,-90000,55000,-15000,25000,100000]\n",
    "len_price = len(price)\n",
    "sum_of_price = 0\n",
    "i = 0\n",
    "while i < len(price) :\n",
    "    if price[i] < 0 :\n",
    "        i += 1\n",
    "        continue #The continue statement rejects all the remaining statements in the current iteration of the loop \n",
    "                 #and moves the control back to the top of the loop.\n",
    "    sum_of_price += price[i]\n",
    "    i +=1\n",
    "print(sum_of_price)\n",
    "\n",
    "#2. For Loop\n",
    "print(\"-----FOR LOOP-----\")\n",
    "price = [10000,55000,25000,100000]\n",
    "sum_of_price = 0\n",
    "for each in price :\n",
    "    sum_of_price += each\n",
    "print(sum_of_price)\n",
    "\n",
    "price = [10000,-90000,55000,-15000,25000,100000]\n",
    "sum_of_price = 0\n",
    "for each in price :\n",
    "    if each < 0 :\n",
    "        print(\"error negative integer found\")\n",
    "        print(\"negative integer found in index \",price.index(each)+1)\n",
    "        break\n",
    "    sum_of_price += each\n",
    "print(sum_of_price)\n",
    "\n",
    "price = [10000,-90000,55000,-15000,25000,100000]\n",
    "sum_of_price = 0\n",
    "for each in price :\n",
    "    if each < 0 :\n",
    "        continue\n",
    "    sum_of_price += each\n",
    "print(sum_of_price)\n",
    "\n",
    "# Nested Loops\n",
    "terms = [\"Interpreter\",\"Compiler\",\"Application\"]\n",
    "languages = [\"Python\",\"Java\",\"C++\"]\n",
    "for term in terms :\n",
    "    for language in languages :\n",
    "        print(language + \"  \" + term)\n",
    "'''''\n",
    "A nested loop is a loop inside a loop.\n",
    "The \"inner loop\" will be executed one time for each iteration of the \"outer loop\"\n",
    "'''''"
   ]
  },
  {
   "cell_type": "markdown",
   "metadata": {},
   "source": [
    "#### Learning Sources :\n",
    "- www.dqlab.id\n",
    "- en.wikipedia.org\n",
    "- www.realpython.com\n",
    "- www.geeksforgeeks.org\n",
    "- www.w3schools.com\n",
    "- www.programiz.com\n",
    "- www.w3resource.com\n",
    "- docs.python.org"
   ]
  },
  {
   "cell_type": "markdown",
   "metadata": {},
   "source": [
    "### Summarized by : Maulana Zulfikar Aziz"
   ]
  }
 ],
 "metadata": {
  "kernelspec": {
   "display_name": "Python 3",
   "language": "python",
   "name": "python3"
  },
  "language_info": {
   "codemirror_mode": {
    "name": "ipython",
    "version": 3
   },
   "file_extension": ".py",
   "mimetype": "text/x-python",
   "name": "python",
   "nbconvert_exporter": "python",
   "pygments_lexer": "ipython3",
   "version": "3.8.1"
  }
 },
 "nbformat": 4,
 "nbformat_minor": 4
}
