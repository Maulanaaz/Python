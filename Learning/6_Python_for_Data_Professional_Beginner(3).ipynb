{
 "cells": [
  {
   "cell_type": "markdown",
   "metadata": {},
   "source": [
    "# WHAT IS OOP ?\n",
    "OOP stands for Object-Oriented Programming.\n",
    "\n",
    "Procedural programming is about writing procedures or functions that perform operations on the data, while object-oriented programming is about creating objects that contain both data and functions.\n",
    "Classes and objects are the two main aspects of object-oriented programming.\n",
    "A class is a template for objects, and an object is an instance of a class.\n",
    "When the individual objects are created, they inherit all the variables and functions from the class.\n",
    "Object-oriented programming has several advantages over procedural programming:\n",
    "\n",
    "- OOP is faster and easier to execute\n",
    "- OOP provides a clear structure for the programs\n",
    "- OOP helps to keep the Python code DRY \"Don't Repeat Yourself\", and makes the code easier to maintain, modify and debug\n",
    "- OOP makes it possible to create full reusable applications with less code and shorter development time\n",
    "\n",
    "Tip: The \"Don't Repeat Yourself\" (DRY) principle is about reducing the repetition of code. You should extract out the codes that are common for the application, and place them at a single place and reuse them instead of repeating it.\n"
   ]
  },
  {
   "cell_type": "code",
   "execution_count": 3,
   "metadata": {},
   "outputs": [
    {
     "name": "stdout",
     "output_type": "stream",
     "text": [
      "budi's school before changed :  01 Highscool\n",
      "john's school before changed :  01 Highscool\n",
      "budi's school after changed :  02 Highscool\n",
      "john's school after changed :  02 Highscool\n"
     ]
    }
   ],
   "source": [
    "# Python Class\n",
    "'''''\n",
    "Python is an object oriented programming language.\n",
    "Almost everything in Python is an object, with its properties and methods.\n",
    "A Class is like an object constructor, or a \"blueprint\" for creating objects.\n",
    "'''''\n",
    "class student :\n",
    "    school_name = \"01 Highscool\"\n",
    "budi = student()\n",
    "john = student()\n",
    "print(\"budi's school before changed : \",budi.__class__.school_name) #This is how we access the school_name\n",
    "print(\"john's school before changed : \",john.__class__.school_name)\n",
    "budi.__class__.school_name = \"02 Highscool\"\n",
    "print(\"budi's school after changed : \",budi.__class__.school_name)\n",
    "print(\"john's school after changed : \",john.__class__.school_name)"
   ]
  },
  {
   "cell_type": "code",
   "execution_count": 10,
   "metadata": {},
   "outputs": [
    {
     "name": "stdout",
     "output_type": "stream",
     "text": [
      "Name : Ani  Age : 16  Major : Natural Sciences\n",
      "Name : Kath  Age : 17  Major : Social Sciences\n"
     ]
    }
   ],
   "source": [
    "# Self Parameter\n",
    "'''''\n",
    "The self parameter is a reference to the current instance of the class, and is used to access variables that belongs \n",
    "to the class.\n",
    "It does not have to be named self , you can call it whatever you like, but it has to be the first parameter of any \n",
    "function in the class.\n",
    "'''''\n",
    "class student :\n",
    "    def __init__(self,name,age,major) :\n",
    "        self.name = name\n",
    "        self.age = age\n",
    "        self.major = major\n",
    "ani = student(\"Ani\",16,\"Natural Sciences\")\n",
    "kath = student(\"Kath\",17,\"Social Sciences\")\n",
    "print(\"Name :\",ani.name,\" Age :\",ani.age,\" Major :\",ani.major)\n",
    "print(\"Name :\",kath.name,\" Age :\",kath.age,\" Major :\",kath.major)"
   ]
  },
  {
   "cell_type": "code",
   "execution_count": 12,
   "metadata": {},
   "outputs": [
    {
     "name": "stdout",
     "output_type": "stream",
     "text": [
      "Andi's total salary =  8150000\n"
     ]
    }
   ],
   "source": [
    "# Class behaviour\n",
    "'''''\n",
    "Classes are used to create user-defined data structures. Classes define functions called methods, which identify \n",
    "the behaviors and actions that an object created from the class can perform with its data.\n",
    "'''''\n",
    "class worker :\n",
    "    company = \"PT. Mencari Nafkah\"\n",
    "    extra = 150000\n",
    "    def __init__(self,name,age,salary) :\n",
    "        self.name = name\n",
    "        self.age = age\n",
    "        self.salary = salary\n",
    "        self.bonus = 0\n",
    "    def extra_work(self) :\n",
    "        self.bonus += self.extra\n",
    "    def big_project(self,gift) :\n",
    "        self.bonus += gift\n",
    "    def total_salary(self) :\n",
    "        self.salary += self.bonus\n",
    "        return self.salary\n",
    "andi = worker(\"Andi\",29,6500000)\n",
    "andi.extra_work()\n",
    "andi.big_project(1500000)\n",
    "print(\"Andi's total salary = \",andi.total_salary())"
   ]
  },
  {
   "cell_type": "code",
   "execution_count": 15,
   "metadata": {},
   "outputs": [
    {
     "ename": "AttributeError",
     "evalue": "'parrot' object has no attribute '__name'",
     "output_type": "error",
     "traceback": [
      "\u001b[1;31m---------------------------------------------------------------------------\u001b[0m",
      "\u001b[1;31mAttributeError\u001b[0m                            Traceback (most recent call last)",
      "\u001b[1;32m<ipython-input-15-fa17404038d8>\u001b[0m in \u001b[0;36m<module>\u001b[1;34m\u001b[0m\n\u001b[0;32m     15\u001b[0m \u001b[0mblu\u001b[0m \u001b[1;33m=\u001b[0m \u001b[0mparrot\u001b[0m\u001b[1;33m(\u001b[0m\u001b[1;34m\"Blu\"\u001b[0m\u001b[1;33m,\u001b[0m\u001b[1;34m\"5\"\u001b[0m\u001b[1;33m,\u001b[0m\u001b[1;34m\"Blue\"\u001b[0m\u001b[1;33m)\u001b[0m\u001b[1;33m\u001b[0m\u001b[1;33m\u001b[0m\u001b[0m\n\u001b[0;32m     16\u001b[0m \u001b[0mblu\u001b[0m\u001b[1;33m.\u001b[0m\u001b[0mspecies\u001b[0m\u001b[1;33m(\u001b[0m\u001b[1;33m)\u001b[0m\u001b[1;33m\u001b[0m\u001b[1;33m\u001b[0m\u001b[0m\n\u001b[1;32m---> 17\u001b[1;33m \u001b[0mblu\u001b[0m\u001b[1;33m.\u001b[0m\u001b[0m__name\u001b[0m\u001b[1;33m\u001b[0m\u001b[1;33m\u001b[0m\u001b[0m\n\u001b[0m",
      "\u001b[1;31mAttributeError\u001b[0m: 'parrot' object has no attribute '__name'"
     ]
    }
   ],
   "source": [
    "# Encapsulation\n",
    "'''''\n",
    "Using OOP in Python, we can restrict access to methods and variables. This prevents data from direct modification \n",
    "which is called encapsulation. In Python, we denote private attributes using underscore as the prefix i.e \n",
    "single _ or double __\n",
    "'''''\n",
    "class parrot :\n",
    "    population = 500\n",
    "    def __init__(self,name,age,color) :\n",
    "        self.__name = name\n",
    "        self.__age = age\n",
    "        self.__color = color\n",
    "    def species (self) :\n",
    "        return self.__name + self.__color\n",
    "blu = parrot(\"Blu\",\"5\",\"Blue\")\n",
    "blu.species()\n",
    "blu.__name #It will cause an error because of we accessed private attribute"
   ]
  },
  {
   "cell_type": "code",
   "execution_count": 41,
   "metadata": {},
   "outputs": [
    {
     "name": "stdout",
     "output_type": "stream",
     "text": [
      "Maulana is a 16 years old Python programmer\n",
      "Maulana is a 16 years old Python programmer\n",
      "Maulana is also a 16 years old R programmer\n"
     ]
    }
   ],
   "source": [
    "# Inheritance\n",
    "'''''\n",
    "Inheritance is a way of creating a new class for using details of an existing class without modifying it. \n",
    "The newly formed class is a derived class (or child class). Similarly, the existing class is a base class (or parent class).\n",
    "'''''\n",
    "class programmer :\n",
    "    def __init__(self,name,age,language) :\n",
    "        self.name = name\n",
    "        self.age = age\n",
    "        self.language = language\n",
    "    def status (self) :\n",
    "        text = \"{} is a {} years old {} programmer\".format(self.name,self.age,self.language)\n",
    "        return text\n",
    "maulana = programmer(\"Maulana\",16,\"Python\")\n",
    "\n",
    "class second(programmer) :\n",
    "    def __init__(self,name,age,language) :\n",
    "        super().__init__(name,age,language) #This allows us to run the __init__() method of the parent class inside the child class.\n",
    "    def status2 (self,languages2) :\n",
    "        text = \"{} is also a {} years old {} programmer\".format(self.name,self.age,languages2)\n",
    "        return text\n",
    "maulana = second(\"Maulana\",16,\"Python\")\n",
    "print(maulana.status())\n",
    "print(maulana.status2(\"R\"))"
   ]
  },
  {
   "cell_type": "code",
   "execution_count": 20,
   "metadata": {},
   "outputs": [
    {
     "name": "stdout",
     "output_type": "stream",
     "text": [
      "4800000\n",
      "7350000\n"
     ]
    }
   ],
   "source": [
    "# Polymorphism\n",
    "'''''\n",
    "In Python, Polymorphism lets us define methods in the child class that have the same name as the methods in the parent \n",
    "class.\n",
    "'''''\n",
    "class worker :\n",
    "    overtime_bonus = 100000\n",
    "    def __init__(self,name,gender,salary) :\n",
    "        self.name = name\n",
    "        self.gender = gender\n",
    "        self.salary = salary\n",
    "        self.bonus = 0\n",
    "    def overtime(self,hour) :\n",
    "        self.bonus += (hour * self.overtime_bonus)\n",
    "    def total_salary(self) :\n",
    "        return self.salary + self.bonus\n",
    "\n",
    "worker1 = worker(\"kevin\",\"male\",4500000)\n",
    "worker1.overtime(3) # 3 hours\n",
    "print(worker1.total_salary())\n",
    "\n",
    "class elder_worker(worker) :\n",
    "    def __init__(self,name,gender,salary) :\n",
    "        super().__init__(name,gender,salary)\n",
    "    def overtime(self,hour) : # Polymorphism\n",
    "        self.bonus += ((hour * self.overtime_bonus)+(0.1 * self.salary))\n",
    "        self.bonus = int(self.bonus)\n",
    "\n",
    "worker2 = elder_worker(\"noelle\",\"female\",6500000)\n",
    "worker2.overtime(2) # 2 hours\n",
    "print(worker2.total_salary())"
   ]
  },
  {
   "cell_type": "code",
   "execution_count": 30,
   "metadata": {},
   "outputs": [
    {
     "name": "stdout",
     "output_type": "stream",
     "text": [
      "4800000\n",
      "7350000\n"
     ]
    }
   ],
   "source": [
    "# Polymorphism 2\n",
    "'''''\n",
    "In inheritance's concept, the child class inherits the methods from the parent class.\n",
    "'''''\n",
    "class worker :\n",
    "    overtime_bonus = 100000\n",
    "    def __init__(self,name,gender,salary) :\n",
    "        self.name = name\n",
    "        self.gender = gender\n",
    "        self.salary = salary\n",
    "        self.bonus = 0\n",
    "    def overtime(self,hour) :\n",
    "        self.bonus += (hour * self.overtime_bonus)\n",
    "    def total_salary(self) :\n",
    "        return self.salary + self.bonus\n",
    "\n",
    "worker1 = worker(\"kevin\",\"male\",4500000)\n",
    "worker1.overtime(3) # 3 hours\n",
    "print(worker1.total_salary())\n",
    "\n",
    "class elder_worker(worker) :\n",
    "    def __init__(self,name,gender,salary) :\n",
    "        super().__init__(name,gender,salary)\n",
    "    def overtime(self,hour) :\n",
    "        super().overtime(hour)\n",
    "        self.bonus += (self.salary * 0.1)\n",
    "        self.bonus = int(self.bonus)\n",
    "worker2 = elder_worker(\"gordon\",\"male\",6500000)\n",
    "worker2.overtime(2)\n",
    "print(worker2.total_salary())"
   ]
  },
  {
   "cell_type": "code",
   "execution_count": 1,
   "metadata": {},
   "outputs": [
    {
     "name": "stdout",
     "output_type": "stream",
     "text": [
      "Kevin's total salary is Rp 38575000\n"
     ]
    }
   ],
   "source": [
    "# Overloading\n",
    "'''''\n",
    "Python supports both function and operator overloading. In function overloading, we can use the same name for many Python \n",
    "functions but with the different number or types of parameters. With operator overloading, we are able to change \n",
    "the meaning of a Python operator within the scope of a class.\n",
    "'''''\n",
    "class employee :\n",
    "    overtime_bonus = 150000\n",
    "    def __init__(self,name,age,experience,salary) :\n",
    "        self.name = name\n",
    "        self.age = age\n",
    "        self.experience = experience\n",
    "        self.salary = salary\n",
    "        self.bonus = 0\n",
    "    def overtime(self,hour) :\n",
    "        self.bonus += int(self.overtime_bonus*hour)\n",
    "    def total_salary(self) :\n",
    "        return self.salary + self.bonus\n",
    "\n",
    "class data_scientist(employee) :\n",
    "    def __init__(self,name,age,experience,salary) :\n",
    "        super().__init__(name,age,experience,salary)\n",
    "    def overtime(self,hour) :\n",
    "        super().overtime(hour)\n",
    "        self.bonus += int(self.salary * 0.25)\n",
    "    def project(self,project_profit) :\n",
    "        self.bonus += int(project_profit * 0.15)\n",
    "\n",
    "kevin = data_scientist(\"Kevin\",30,4,12500000)\n",
    "kevin.overtime(3)\n",
    "kevin.project(150000000)\n",
    "print(\"Kevin's total salary is Rp\",kevin.total_salary())"
   ]
  },
  {
   "cell_type": "markdown",
   "metadata": {},
   "source": [
    "Learning Sources :\n",
    "- www.dqlab.id\n",
    "- www.w3schools.com\n",
    "- www.realpython.com\n",
    "- www.programiz.com\n",
    "- www.stackabuse.com"
   ]
  }
 ],
 "metadata": {
  "kernelspec": {
   "display_name": "Python 3",
   "language": "python",
   "name": "python3"
  },
  "language_info": {
   "codemirror_mode": {
    "name": "ipython",
    "version": 3
   },
   "file_extension": ".py",
   "mimetype": "text/x-python",
   "name": "python",
   "nbconvert_exporter": "python",
   "pygments_lexer": "ipython3",
   "version": "3.8.1"
  }
 },
 "nbformat": 4,
 "nbformat_minor": 4
}
