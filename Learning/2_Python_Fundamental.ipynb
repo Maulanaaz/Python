{
 "cells": [
  {
   "cell_type": "code",
   "execution_count": 1,
   "metadata": {},
   "outputs": [
    {
     "name": "stdout",
     "output_type": "stream",
     "text": [
      "Hello World !\n",
      "I am so Enthusiast !\n",
      "1991\n"
     ]
    },
    {
     "data": {
      "text/plain": [
       "\"''\\nThe print() function prints the specified message to the screen, or other standard output device.\\n\\nThe message can be a string, or any other object, the object will be converted into a string before written to the screen.\\n\""
      ]
     },
     "execution_count": 1,
     "metadata": {},
     "output_type": "execute_result"
    }
   ],
   "source": [
    "#Hello World\n",
    "\n",
    "print (\"Hello World !\")\n",
    "print (\"I am so Enthusiast !\")\n",
    "print (50*20+991)\n",
    "\n",
    "'''''\n",
    "The print() function prints the specified message to the screen, or other standard output device.\n",
    "\n",
    "The message can be a string, or any other object, the object will be converted into a string before written to the screen.\n",
    "'''''"
   ]
  },
  {
   "cell_type": "code",
   "execution_count": 3,
   "metadata": {},
   "outputs": [
    {
     "name": "stdout",
     "output_type": "stream",
     "text": [
      "This will be printed\n",
      "What is Happen ?\n"
     ]
    },
    {
     "data": {
      "text/plain": [
       "\"''\\n- Comment starts with a (#) and Python will ignore it\\n\\n- Comments can be used to explain Python code.\\n\\n- Comments can be used to make the code more readable.\\n\\n- Comments can be used to prevent execution when testing code.\\n\""
      ]
     },
     "execution_count": 3,
     "metadata": {},
     "output_type": "execute_result"
    }
   ],
   "source": [
    "#Comment in Python\n",
    "\n",
    "print (\"This will be printed\") #This will not be printed\n",
    "print (\"What is Happen ?\") #Because this is comment\n",
    "\n",
    "'''''\n",
    "- Comment starts with a (#) and Python will ignore it\n",
    "\n",
    "- Comments can be used to explain Python code.\n",
    "\n",
    "- Comments can be used to make the code more readable.\n",
    "\n",
    "- Comments can be used to prevent execution when testing code.\n",
    "'''''"
   ]
  },
  {
   "cell_type": "code",
   "execution_count": 13,
   "metadata": {},
   "outputs": [
    {
     "name": "stdout",
     "output_type": "stream",
     "text": [
      "Data type = String\n",
      "I Love Python !\n",
      "True\n",
      "False\n",
      "5000\n",
      "-94363\n",
      "3.14\n",
      "-0.47392\n",
      "[1, 5, 4, 3, 66, 89, 1]\n",
      "['What', 51, True, 0.164]\n",
      "(14, 17, 88, 17, 14, 50, 100)\n",
      "('Hello', 'World', 1991, 3.14, False)\n",
      "{'name': 'Maulana', 'age': 16}\n",
      "{'Key': 404, 'Language': 'Python'}\n"
     ]
    }
   ],
   "source": [
    "#Data Types In Python\n",
    "\n",
    "'''''\n",
    "Strings = Strings in python are surrounded by either single quotation marks, or double quotation marks.\n",
    "Like many other popular programming languages, strings in Python are arrays of bytes representing unicode characters.\n",
    "'''''\n",
    "print (\"Data type = String\")\n",
    "print (\"I Love Python !\")\n",
    "\n",
    "'''''\n",
    "Booleans = Booleans represent one of two arguments : True or False\n",
    "In programming you often need to know if an expression is True or False.\n",
    "You can evaluate any expression in Python, and get one of two answers, True or False.\n",
    "When you compare two values, the expression is evaluated and Python returns the Boolean answer.\n",
    "'''''\n",
    "print (True)\n",
    "print (15 < 10)\n",
    "\n",
    "'''''\n",
    "Integer = Int, or integer, is a whole number, positive or negative, without decimals, of unlimited length.\n",
    "'''''\n",
    "print (5000)\n",
    "print (-94363)\n",
    "\n",
    "'''''\n",
    "Float = Float, or \"floating point number\" is a number, positive or negative, containing one or more decimals\n",
    "'''''\n",
    "print (3.14)\n",
    "print(-0.47392)\n",
    "\n",
    "'''''\n",
    "List = List is used to store multiple items in a single variable.\n",
    "Lists are created using square brackets.\n",
    "List items are ordered, changeable, and allow duplicate values.\n",
    "'''''\n",
    "print ([1,5,4,3,66,89,1])\n",
    "print([\"What\",51,True,0.164])\n",
    "\n",
    "'''''\n",
    "Tuple = Tuple is used to store multiple items in a single variable.\n",
    "A tuple is a collection which is ordered,unchangeable, and allow duplicate values.\n",
    "Tuples are written with round brackets.\n",
    "'''''\n",
    "print((14,17,88,17,14,50,100))\n",
    "print((\"Hello\",\"World\",1991,3.14,False))\n",
    "\n",
    "'''''\n",
    "Dictionary = Dictionary is used to store data values in key:value pairs.\n",
    "A dictionary is a collection which is unordered, changeable and does not allow duplicates.\n",
    "Dictionaries are written with curly brackets, and have keys and values\n",
    "'''''\n",
    "print({\"name\" : \"Maulana\" , \"age\" : 16})\n",
    "dicts = {\n",
    "    \"Key\" : \"Value\",\n",
    "    \"Key\" : 404, #Duplicate values will overwrite existing values\n",
    "    \"Language\" : \"Python\"\n",
    "}\n",
    "print(dicts)"
   ]
  },
  {
   "cell_type": "code",
   "execution_count": 19,
   "metadata": {},
   "outputs": [
    {
     "name": "stdout",
     "output_type": "stream",
     "text": [
      "Yes, 50 is higher than 20\n",
      "100 is smaller than 101\n",
      "This number is higher than 7 !\n",
      "This number is higher than 50 And less than 100\n"
     ]
    }
   ],
   "source": [
    "#IF Statement\n",
    "\n",
    "'''''\n",
    "What is Python If Statement? Python if Statement is used for decision-making operations. \n",
    "It contains a body of code which runs only when the condition given in the if statement is true.\n",
    "If the condition is false, then the optional else statement runs which contains some code for the else condition.\n",
    "'''''\n",
    "if (50 > 20) :\n",
    "    print (\"Yes, 50 is higher than 20\") #Do not forget to give indentation !\n",
    "    \n",
    "a = 100\n",
    "b = 101\n",
    "\n",
    "if (a > b) :\n",
    "    print (\"100 is higher than 101\")\n",
    "else :\n",
    "    print (\"100 is smaller than 101\") #The system printed this because the statements are false\n",
    "\n",
    "'''''\n",
    "The elif keyword is pythons way of saying \"if the previous conditions were not true, then try this condition\".\n",
    "'''''\n",
    "a = 10\n",
    "if (a == 7) :\n",
    "    print (\"This number is 7 !\")\n",
    "elif (a > 7) :\n",
    "    print (\"This number is higher than 7 !\")\n",
    "else :\n",
    "    print (\"This number is not 7 or higher than 7 !\")\n",
    "    \n",
    "'''''\n",
    "You can have if statements inside if statements, this is called nested if statements.\n",
    "'''''\n",
    "a = 75\n",
    "if (a > 50) :\n",
    "    print (\"This number is higher than 50 \",end=\"\")\n",
    "    if (a < 100) :\n",
    "        print (\"And less than 100\")\n",
    "    else :\n",
    "        print (\"And higher than 100\")\n",
    "else :\n",
    "    print(\"This number is less than 50\")"
   ]
  },
  {
   "cell_type": "code",
   "execution_count": 21,
   "metadata": {},
   "outputs": [
    {
     "name": "stdout",
     "output_type": "stream",
     "text": [
      "6 + 10 =  16\n",
      "70 - 25 =  45\n",
      "60 / 4 =  15.0\n",
      "7 * 43 =  301\n",
      "7 ** 4 =  2401\n",
      "80 % 3 =  2\n"
     ]
    }
   ],
   "source": [
    "#Arithmetic Operators in Python\n",
    "addition = 6 + 10\n",
    "substraction = 70 - 25\n",
    "division = 60 / 4\n",
    "multiplication = 7 * 43\n",
    "exponentiation = 7 ** 4\n",
    "modulus = 80 % 3\n",
    "\n",
    "print(\"6 + 10 = \",addition)\n",
    "print(\"70 - 25 = \",substraction)\n",
    "print(\"60 / 4 = \",division)\n",
    "print(\"7 * 43 = \",multiplication)\n",
    "print(\"7 ** 4 = \",exponentiation)\n",
    "print(\"80 % 3 = \",modulus)"
   ]
  },
  {
   "cell_type": "code",
   "execution_count": 22,
   "metadata": {},
   "outputs": [
    {
     "name": "stdout",
     "output_type": "stream",
     "text": [
      "This looped for  0 time(s)\n",
      "This looped for  1 time(s)\n",
      "This looped for  2 time(s)\n",
      "This looped for  3 time(s)\n",
      "This looped for  4 time(s)\n",
      "This looped for  5 time(s)\n",
      "This looped for  6 time(s)\n",
      "This looped for  7 time(s)\n",
      "This looped for  8 time(s)\n",
      "This looped for  9 time(s)\n"
     ]
    }
   ],
   "source": [
    "#While Loop\n",
    "\n",
    "'''''\n",
    "With the while loop we can execute a set of statements as long as a condition is true.\n",
    "'''''\n",
    "a = 0\n",
    "while (a < 10) :\n",
    "    print (\"This looped for \",a,\"time(s)\")\n",
    "    a = a + 1 #remember to increment a, or else the loop will continue forever."
   ]
  },
  {
   "cell_type": "code",
   "execution_count": 24,
   "metadata": {},
   "outputs": [
    {
     "name": "stdout",
     "output_type": "stream",
     "text": [
      "Looped for  1 time(s)\n",
      "Looped for  2 time(s)\n",
      "Looped for  3 time(s)\n",
      "I\n",
      "Love\n",
      "Python\n"
     ]
    }
   ],
   "source": [
    "#For Loop\n",
    "\n",
    "'''''\n",
    "A for loop is used for iterating over a sequence (that is either a list, a tuple, a dictionary, a set, or a string).\n",
    "This is less like the for keyword in other programming languages, and works more like an iterator method as found in other\n",
    "object-orientated programming languages.\n",
    "With the for loop we can execute a set of statements, once for each item in a list, tuple, set etc.\n",
    "'''''\n",
    "for a in range (1,4) :\n",
    "    print (\"Looped for \",a,\"time(s)\") #The for loop does not require an indexing variable to set beforehand.\n",
    "\n",
    "lists = [\"I\",\"Love\",\"Python\"]\n",
    "for a in lists :\n",
    "    print (a)"
   ]
  },
  {
   "cell_type": "code",
   "execution_count": 30,
   "metadata": {},
   "outputs": [
    {
     "name": "stdout",
     "output_type": "stream",
     "text": [
      "Hello World !\n",
      "area of triangle = 35.000000\n",
      "area of triangle = 12.000000\n",
      "area of triangle =  17.5\n"
     ]
    }
   ],
   "source": [
    "#Function in Python\n",
    "\n",
    "'''''\n",
    "A function is a block of code which only runs when it is called.\n",
    "You can pass data, known as parameters, into a function.\n",
    "A function can return data as a result.\n",
    "'''''\n",
    "def welcome() :\n",
    "    print (\"Hello World !\")\n",
    "welcome () #Call function\n",
    "\n",
    "'''''\n",
    "Information can be passed into functions as arguments.\n",
    "Arguments are specified after the function name, inside the parentheses. You can add as many arguments as you want, \n",
    "just separate them with a comma.\n",
    "'''''\n",
    "def area_of_triangle(base,height) :\n",
    "    area = base * height / 2\n",
    "    print (\"area of triangle = %f\" %area)\n",
    "area_of_triangle(10,7)\n",
    "area_of_triangle(4,6)\n",
    "\n",
    "'''''\n",
    "To let a function return a value, use the return statement\n",
    "'''''\n",
    "def area_of_triangle(base,height) :\n",
    "    area = base * height / 2\n",
    "    return area\n",
    "print (\"area of triangle = \",area_of_triangle(5,7))"
   ]
  },
  {
   "cell_type": "code",
   "execution_count": 31,
   "metadata": {},
   "outputs": [
    {
     "name": "stdout",
     "output_type": "stream",
     "text": [
      "The value of pi is :  3.141592653589793\n"
     ]
    }
   ],
   "source": [
    "#Import package and use module\n",
    "\n",
    "'''''\n",
    "Consider a module to be the same as a code library.\n",
    "A file containing a set of functions you want to include in your application.\n",
    "'''''\n",
    "import math\n",
    "print (\"The value of pi is : \",math.pi) #math.pi is a syntax for call function from package"
   ]
  },
  {
   "cell_type": "code",
   "execution_count": 32,
   "metadata": {},
   "outputs": [
    {
     "name": "stdout",
     "output_type": "stream",
     "text": [
      "The value of pi is :  3.141592653589793\n"
     ]
    }
   ],
   "source": [
    "#Create alias when import module\n",
    "\n",
    "import math as mt\n",
    "print(\"The value of pi is : \",mt.pi)"
   ]
  },
  {
   "cell_type": "code",
   "execution_count": 33,
   "metadata": {},
   "outputs": [
    {
     "name": "stdout",
     "output_type": "stream",
     "text": [
      "The value of pi is :  3.141592653589793\n"
     ]
    }
   ],
   "source": [
    "#Import from module\n",
    "\n",
    "'''''\n",
    "You can choose to import only parts from a module, by using the from keyword.\n",
    "'''''\n",
    "from math import pi\n",
    "print (\"The value of pi is : \",pi)"
   ]
  },
  {
   "cell_type": "code",
   "execution_count": 34,
   "metadata": {},
   "outputs": [
    {
     "name": "stdout",
     "output_type": "stream",
     "text": [
      "The value of e is :  2.718281828459045\n"
     ]
    }
   ],
   "source": [
    "#Import all module contents\n",
    "\n",
    "from math import *\n",
    "print (\"The value of e is : \",e)"
   ]
  },
  {
   "cell_type": "code",
   "execution_count": 38,
   "metadata": {},
   "outputs": [
    {
     "name": "stdout",
     "output_type": "stream",
     "text": [
      "['Kelompok Usia', 'Laki-laki', 'Perempuan']\n",
      "['21-25 tahun', '45', '53']\n",
      "['26-30 tahun', '124', '156']\n",
      "['31-35 tahun', '198', '208']\n",
      "['36-40 tahun', '353', '332']\n",
      "['41-45 tahun', '516', '420']\n",
      "['46-50 tahun', '502', '319']\n",
      "['51-55 tahun', '417', '199']\n"
     ]
    },
    {
     "data": {
      "text/plain": [
       "<function TextIOWrapper.close()>"
      ]
     },
     "execution_count": 38,
     "metadata": {},
     "output_type": "execute_result"
    }
   ],
   "source": [
    "#Reading CSV (Comma Separated Value) file\n",
    "import csv\n",
    "f = open('Document\\Dataset_Karyawan_From_DQLab.csv')\n",
    "reader = csv.reader(f)\n",
    "for row in reader : #Read the row of the data\n",
    "    print (row)\n",
    "f.close #Close the session"
   ]
  },
  {
   "cell_type": "code",
   "execution_count": 39,
   "metadata": {},
   "outputs": [
    {
     "name": "stdout",
     "output_type": "stream",
     "text": [
      "    TAHUN         NAMA PROVINSI NAMA KABUPATEN/KOTA NAMA KECAMATAN  \\\n",
      "0    2013  PROVINSI DKI JAKARTA       JAKARTA PUSAT         GAMBIR   \n",
      "1    2013  PROVINSI DKI JAKARTA       JAKARTA PUSAT         GAMBIR   \n",
      "2    2013  PROVINSI DKI JAKARTA       JAKARTA PUSAT         GAMBIR   \n",
      "3    2013  PROVINSI DKI JAKARTA       JAKARTA PUSAT         GAMBIR   \n",
      "4    2013  PROVINSI DKI JAKARTA       JAKARTA PUSAT         GAMBIR   \n",
      "5    2013  PROVINSI DKI JAKARTA       JAKARTA PUSAT         GAMBIR   \n",
      "6    2013  PROVINSI DKI JAKARTA       JAKARTA PUSAT    SAWAH BESAR   \n",
      "7    2013  PROVINSI DKI JAKARTA       JAKARTA PUSAT    SAWAH BESAR   \n",
      "8    2013  PROVINSI DKI JAKARTA       JAKARTA PUSAT    SAWAH BESAR   \n",
      "9    2013  PROVINSI DKI JAKARTA       JAKARTA PUSAT    SAWAH BESAR   \n",
      "10   2013  PROVINSI DKI JAKARTA       JAKARTA PUSAT    SAWAH BESAR   \n",
      "11   2013  PROVINSI DKI JAKARTA       JAKARTA PUSAT      KEMAYORAN   \n",
      "12   2013  PROVINSI DKI JAKARTA       JAKARTA PUSAT      KEMAYORAN   \n",
      "13   2013  PROVINSI DKI JAKARTA       JAKARTA PUSAT      KEMAYORAN   \n",
      "14   2013  PROVINSI DKI JAKARTA       JAKARTA PUSAT      KEMAYORAN   \n",
      "15   2013  PROVINSI DKI JAKARTA       JAKARTA PUSAT      KEMAYORAN   \n",
      "16   2013  PROVINSI DKI JAKARTA       JAKARTA PUSAT      KEMAYORAN   \n",
      "17   2013  PROVINSI DKI JAKARTA       JAKARTA PUSAT      KEMAYORAN   \n",
      "18   2013  PROVINSI DKI JAKARTA       JAKARTA PUSAT      KEMAYORAN   \n",
      "19   2013  PROVINSI DKI JAKARTA       JAKARTA PUSAT          SENEN   \n",
      "20   2013  PROVINSI DKI JAKARTA       JAKARTA PUSAT          SENEN   \n",
      "21   2013  PROVINSI DKI JAKARTA       JAKARTA PUSAT          SENEN   \n",
      "22   2013  PROVINSI DKI JAKARTA       JAKARTA PUSAT          SENEN   \n",
      "23   2013  PROVINSI DKI JAKARTA       JAKARTA PUSAT          SENEN   \n",
      "24   2013  PROVINSI DKI JAKARTA       JAKARTA PUSAT          SENEN   \n",
      "25   2013  PROVINSI DKI JAKARTA       JAKARTA PUSAT  CEMPAKA PUTIH   \n",
      "26   2013  PROVINSI DKI JAKARTA       JAKARTA PUSAT  CEMPAKA PUTIH   \n",
      "27   2013  PROVINSI DKI JAKARTA       JAKARTA PUSAT  CEMPAKA PUTIH   \n",
      "28   2013  PROVINSI DKI JAKARTA       JAKARTA PUSAT        MENTENG   \n",
      "29   2013  PROVINSI DKI JAKARTA       JAKARTA PUSAT        MENTENG   \n",
      "30   2013  PROVINSI DKI JAKARTA       JAKARTA PUSAT        MENTENG   \n",
      "31   2013  PROVINSI DKI JAKARTA       JAKARTA PUSAT        MENTENG   \n",
      "32   2013  PROVINSI DKI JAKARTA       JAKARTA PUSAT        MENTENG   \n",
      "33   2013  PROVINSI DKI JAKARTA       JAKARTA PUSAT    TANAH ABANG   \n",
      "34   2013  PROVINSI DKI JAKARTA       JAKARTA PUSAT    TANAH ABANG   \n",
      "35   2013  PROVINSI DKI JAKARTA       JAKARTA PUSAT    TANAH ABANG   \n",
      "36   2013  PROVINSI DKI JAKARTA       JAKARTA PUSAT    TANAH ABANG   \n",
      "37   2013  PROVINSI DKI JAKARTA       JAKARTA PUSAT    TANAH ABANG   \n",
      "38   2013  PROVINSI DKI JAKARTA       JAKARTA PUSAT    TANAH ABANG   \n",
      "39   2013  PROVINSI DKI JAKARTA       JAKARTA PUSAT    TANAH ABANG   \n",
      "40   2013  PROVINSI DKI JAKARTA       JAKARTA PUSAT     JOHAR BARU   \n",
      "41   2013  PROVINSI DKI JAKARTA       JAKARTA PUSAT     JOHAR BARU   \n",
      "42   2013  PROVINSI DKI JAKARTA       JAKARTA PUSAT     JOHAR BARU   \n",
      "43   2013  PROVINSI DKI JAKARTA       JAKARTA PUSAT     JOHAR BARU   \n",
      "\n",
      "           NAMA KELURAHAN  LAKI-LAKI WNI  PEREMPUAN WNI  LAKI-LAKI WNA  \\\n",
      "0                  GAMBIR           1790           1690            1.0   \n",
      "1                  CIDENG           9159           9206            5.0   \n",
      "2            PETOJO UTARA          10811          10436           10.0   \n",
      "3          PETOJO SELATAN           8455           8023            5.0   \n",
      "4            KEBON KELAPA           6300           6078            6.0   \n",
      "5               DURI PULO          13056          12588            2.0   \n",
      "6              PASAR BARU           7557           7552           34.0   \n",
      "7            KARANG ANYAR          16327          15859            4.0   \n",
      "8                 KARTINI          13610          13808            3.0   \n",
      "9     GUNUNG SAHARI UTARA           9734           9889           15.0   \n",
      "10     MANGGA DUA SELATAN          17269          16458           42.0   \n",
      "11              KEMAYORAN          12365          11932            6.0   \n",
      "12           KEBON KOSONG          15933          15665           33.0   \n",
      "13          HARAPAN MULIA          13523          13049            2.0   \n",
      "14                SERDANG          17284          17020            1.0   \n",
      "15  GUNUNG SAHARI SELATAN          11730          11487           13.0   \n",
      "16           CEMPAKA BARU          19103          18601            NaN   \n",
      "17             SUMUR BATU          13441          13288           20.0   \n",
      "18           UTAN PANJANG          17125          16351            4.0   \n",
      "19                  SENEN           4236           3975           10.0   \n",
      "20                 KENARI           5445           5252            2.0   \n",
      "21                PASEBAN          13787          13477            NaN   \n",
      "22                 KRAMAT          17482          16331            2.0   \n",
      "23                KWITANG           9176           9148            1.0   \n",
      "24                 BUNGUR          11200          10849            4.0   \n",
      "25    CEMPAKA PUTIH TIMUR          13630          13686           24.0   \n",
      "26    CEMPAKA PUTIH BARAT          20029          19681           12.0   \n",
      "27               RAWASARI          12462          12465            1.0   \n",
      "28                MENTENG          14576          14610            7.0   \n",
      "29             PEGANGSAAN          13392          13214            2.0   \n",
      "30                 CIKINI           4825           4772            5.0   \n",
      "31             GONDANGDIA           2196           2443           11.0   \n",
      "32            KEBON SIRIH           7976           7439            2.0   \n",
      "33                 GELORA           1865           1883            6.0   \n",
      "34        BENDUNGAN HILIR          12713          12582           11.0   \n",
      "35          KARET TENGSIN          11002          10271           10.0   \n",
      "36             PETAMBURAN          20112          18794           17.0   \n",
      "37           KEBON MELATI          19826          18672            8.0   \n",
      "38           KEBON KACANG          12873          12357            3.0   \n",
      "39           KAMPUNG BALI           7348           7205            3.0   \n",
      "40             JOHAR BARU          21016          20953            2.0   \n",
      "41           KAMPUNG RAWA          13337          12499            1.0   \n",
      "42                  GALUR          11077          10259            NaN   \n",
      "43           TANAH TINGGI          22680          21450            NaN   \n",
      "\n",
      "    PEREMPUAN WNA  Unnamed: 9  Unnamed: 10  Unnamed: 11  Unnamed: 12  \\\n",
      "0             2.0         NaN          NaN          NaN          NaN   \n",
      "1             6.0         NaN          NaN          NaN          NaN   \n",
      "2             8.0         NaN          NaN          NaN          NaN   \n",
      "3             7.0         NaN          NaN          NaN          NaN   \n",
      "4            10.0         NaN          NaN          NaN          NaN   \n",
      "5             6.0         NaN          NaN          NaN          NaN   \n",
      "6            55.0         NaN          NaN          NaN          NaN   \n",
      "7             2.0         NaN          NaN          NaN          NaN   \n",
      "8             3.0         NaN          NaN          NaN          NaN   \n",
      "9            30.0         NaN          NaN          NaN          NaN   \n",
      "10           33.0         NaN          NaN          NaN          NaN   \n",
      "11            8.0         NaN          NaN          NaN          NaN   \n",
      "12           25.0         NaN          NaN          NaN          NaN   \n",
      "13            3.0         NaN          NaN          NaN          NaN   \n",
      "14            1.0         NaN          NaN          NaN          NaN   \n",
      "15           15.0         NaN          NaN          NaN          NaN   \n",
      "16            3.0         NaN          NaN          NaN          NaN   \n",
      "17           13.0         NaN          NaN          NaN          NaN   \n",
      "18            3.0         NaN          NaN          NaN          NaN   \n",
      "19            7.0         NaN          NaN          NaN          NaN   \n",
      "20            NaN         NaN          NaN          NaN          NaN   \n",
      "21            NaN         NaN          NaN          NaN          NaN   \n",
      "22            2.0         NaN          NaN          NaN          NaN   \n",
      "23            1.0         NaN          NaN          NaN          NaN   \n",
      "24            3.0         NaN          NaN          NaN          NaN   \n",
      "25           24.0         NaN          NaN          NaN          NaN   \n",
      "26            2.0         NaN          NaN          NaN          NaN   \n",
      "27            3.0         NaN          NaN          NaN          NaN   \n",
      "28           10.0         NaN          NaN          NaN          NaN   \n",
      "29            NaN         NaN          NaN          NaN          NaN   \n",
      "30            1.0         NaN          NaN          NaN          NaN   \n",
      "31           13.0         NaN          NaN          NaN          NaN   \n",
      "32            2.0         NaN          NaN          NaN          NaN   \n",
      "33            2.0         NaN          NaN          NaN          NaN   \n",
      "34            2.0         NaN          NaN          NaN          NaN   \n",
      "35            3.0         NaN          NaN          NaN          NaN   \n",
      "36           13.0         NaN          NaN          NaN          NaN   \n",
      "37            4.0         NaN          NaN          NaN          NaN   \n",
      "38            4.0         NaN          NaN          NaN          NaN   \n",
      "39            1.0         NaN          NaN          NaN          NaN   \n",
      "40            NaN         NaN          NaN          NaN          NaN   \n",
      "41            NaN         NaN          NaN          NaN          NaN   \n",
      "42            NaN         NaN          NaN          NaN          NaN   \n",
      "43            NaN         NaN          NaN          NaN          NaN   \n",
      "\n",
      "    Unnamed: 13  Unnamed: 14  Unnamed: 15  Unnamed: 16  Unnamed: 17  \n",
      "0           NaN          NaN          NaN          NaN          NaN  \n",
      "1           NaN          NaN          NaN          NaN          NaN  \n",
      "2           NaN          NaN          NaN          NaN          NaN  \n",
      "3           NaN          NaN          NaN          NaN          NaN  \n",
      "4           NaN          NaN          NaN          NaN          NaN  \n",
      "5           NaN          NaN          NaN          NaN          NaN  \n",
      "6           NaN          NaN          NaN          NaN          NaN  \n",
      "7           NaN          NaN          NaN          NaN          NaN  \n",
      "8           NaN          NaN          NaN          NaN          NaN  \n",
      "9           NaN          NaN          NaN          NaN          NaN  \n",
      "10          NaN          NaN          NaN          NaN          NaN  \n",
      "11          NaN          NaN          NaN          NaN          NaN  \n",
      "12          NaN          NaN          NaN          NaN          NaN  \n",
      "13          NaN          NaN          NaN          NaN          NaN  \n",
      "14          NaN          NaN          NaN          NaN          NaN  \n",
      "15          NaN          NaN          NaN          NaN          NaN  \n",
      "16          NaN          NaN          NaN          NaN          NaN  \n",
      "17          NaN          NaN          NaN          NaN          NaN  \n",
      "18          NaN          NaN          NaN          NaN          NaN  \n",
      "19          NaN          NaN          NaN          NaN          NaN  \n",
      "20          NaN          NaN          NaN          NaN          NaN  \n",
      "21          NaN          NaN          NaN          NaN          NaN  \n",
      "22          NaN          NaN          NaN          NaN          NaN  \n",
      "23          NaN          NaN          NaN          NaN          NaN  \n",
      "24          NaN          NaN          NaN          NaN          NaN  \n",
      "25          NaN          NaN          NaN          NaN          NaN  \n",
      "26          NaN          NaN          NaN          NaN          NaN  \n",
      "27          NaN          NaN          NaN          NaN          NaN  \n",
      "28          NaN          NaN          NaN          NaN          NaN  \n",
      "29          NaN          NaN          NaN          NaN          NaN  \n",
      "30          NaN          NaN          NaN          NaN          NaN  \n",
      "31          NaN          NaN          NaN          NaN          NaN  \n",
      "32          NaN          NaN          NaN          NaN          NaN  \n",
      "33          NaN          NaN          NaN          NaN          NaN  \n",
      "34          NaN          NaN          NaN          NaN          NaN  \n",
      "35          NaN          NaN          NaN          NaN          NaN  \n",
      "36          NaN          NaN          NaN          NaN          NaN  \n",
      "37          NaN          NaN          NaN          NaN          NaN  \n",
      "38          NaN          NaN          NaN          NaN          NaN  \n",
      "39          NaN          NaN          NaN          NaN          NaN  \n",
      "40          NaN          NaN          NaN          NaN          NaN  \n",
      "41          NaN          NaN          NaN          NaN          NaN  \n",
      "42          NaN          NaN          NaN          NaN          NaN  \n",
      "43          NaN          NaN          NaN          NaN          NaN  \n"
     ]
    }
   ],
   "source": [
    "#Reading CSV file with Pandas\n",
    "\n",
    "'''''\n",
    "Pandas is a Python library used for working with data sets.\n",
    "It has functions for analyzing, cleaning, exploring, and manipulating data.\n",
    "'''''\n",
    "import pandas as pd\n",
    "data = pd.read_csv(\"https://academy.dqlab.id/dataset/penduduk_gender_head.csv\")\n",
    "data.head\n",
    "print(data)"
   ]
  },
  {
   "cell_type": "code",
   "execution_count": 40,
   "metadata": {},
   "outputs": [
    {
     "data": {
      "image/png": "[encoded data removed]",
      "text/plain": [
       "<Figure size 432x288 with 1 Axes>"
      ]
     },
     "metadata": {
      "needs_background": "light"
     },
     "output_type": "display_data"
    }
   ],
   "source": [
    "#Bar chart\n",
    "\n",
    "'''''\n",
    "In this tutorial we will not discuss about how to make chart further,we just need to look the code and understanding about\n",
    "the modules that we will learn.\n",
    "'''''\n",
    "import pandas as pd\n",
    "import numpy as np\n",
    "import matplotlib.pyplot as plt\n",
    "\n",
    "\n",
    "table = pd.read_csv(\"https://academy.dqlab.id/dataset/penduduk_gender_head.csv\")\n",
    "table.head()\n",
    "x_label = table['NAMA KELURAHAN']\n",
    "plt.bar(x=np.arange(len(x_label)),height=table['LAKI-LAKI WNI'])\n",
    "plt.show()\n",
    "\n",
    "'''''\n",
    "MATPLOTLIB\n",
    "\n",
    "Matplotlib is a low level graph plotting library in python that serves as a visualization utility.\n",
    "Matplotlib was created by John D. Hunter.\n",
    "Matplotlib is open source and we can use it freely.\n",
    "Matplotlib is mostly written in python, a few segments are written in C, Objective-C and Javascript for Platform \n",
    "compatibility.\n",
    "'''''\n",
    "\n",
    "'''''\n",
    "NUMPY\n",
    "\n",
    "NumPy is a Python library used for working with arrays.\n",
    "It also has functions for working in domain of linear algebra, fourier transform, and matrices.\n",
    "NumPy was created in 2005 by Travis Oliphant. It is an open source project and you can use it freely.\n",
    "NumPy stands for Numerical Python.\n",
    "'''''"
   ]
  },
  {
   "cell_type": "markdown",
   "metadata": {},
   "source": [
    "Learning Sources : www.dqlab.id | www.w3schools.com | www.guru99.com"
   ]
  }
 ],
 "metadata": {
  "kernelspec": {
   "display_name": "Python 3",
   "language": "python",
   "name": "python3"
  },
  "language_info": {
   "codemirror_mode": {
    "name": "ipython",
    "version": 3
   },
   "file_extension": ".py",
   "mimetype": "text/x-python",
   "name": "python",
   "nbconvert_exporter": "python",
   "pygments_lexer": "ipython3",
   "version": "3.8.1"
  }
 },
 "nbformat": 4,
 "nbformat_minor": 4
}
