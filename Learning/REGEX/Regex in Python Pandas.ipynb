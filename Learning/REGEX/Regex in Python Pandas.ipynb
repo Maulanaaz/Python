{
 "cells": [
  {
   "cell_type": "markdown",
   "id": "30a2562a",
   "metadata": {},
   "source": [
    "# REGEX\n",
    "Regex (Regular Expression) is a sequence of special characters that specifies a match in text. it can be\n",
    "used to find and replace the weird text in data. Here, we will learn how to declare REGEX using pandas.Series.str.contains() and\n",
    "pandas.Series.str.replace()\n",
    "\n",
    "Check the documentation here : \n",
    "- https://pandas.pydata.org/docs/reference/api/pandas.Series.str.contains.html\n",
    "- https://pandas.pydata.org/docs/reference/api/pandas.Series.str.replace.html"
   ]
  },
  {
   "cell_type": "markdown",
   "id": "950f4268",
   "metadata": {},
   "source": [
    "# REGEX on Pandas"
   ]
  },
  {
   "cell_type": "code",
   "execution_count": 6,
   "id": "b1673745",
   "metadata": {},
   "outputs": [
    {
     "name": "stderr",
     "output_type": "stream",
     "text": [
      "C:\\Users\\User\\AppData\\Local\\Temp\\ipykernel_10276\\885550283.py:6: UserWarning: This pattern is interpreted as a regular expression, and has match groups. To actually get the groups, use str.extract.\n",
      "  data[\"kota_with_prefix_j_s\"] = data['kota'].str.contains('^(j|s)',case=False)\n"
     ]
    },
    {
     "data": {
      "text/html": [
       "<div>\n",
       "<style scoped>\n",
       "    .dataframe tbody tr th:only-of-type {\n",
       "        vertical-align: middle;\n",
       "    }\n",
       "\n",
       "    .dataframe tbody tr th {\n",
       "        vertical-align: top;\n",
       "    }\n",
       "\n",
       "    .dataframe thead th {\n",
       "        text-align: right;\n",
       "    }\n",
       "</style>\n",
       "<table border=\"1\" class=\"dataframe\">\n",
       "  <thead>\n",
       "    <tr style=\"text-align: right;\">\n",
       "      <th></th>\n",
       "      <th>kota</th>\n",
       "      <th>kota_with_prefix_j_s</th>\n",
       "    </tr>\n",
       "  </thead>\n",
       "  <tbody>\n",
       "    <tr>\n",
       "      <th>0</th>\n",
       "      <td>Jakarta</td>\n",
       "      <td>True</td>\n",
       "    </tr>\n",
       "    <tr>\n",
       "      <th>1</th>\n",
       "      <td>Jakarta</td>\n",
       "      <td>True</td>\n",
       "    </tr>\n",
       "    <tr>\n",
       "      <th>2</th>\n",
       "      <td>Bandung</td>\n",
       "      <td>False</td>\n",
       "    </tr>\n",
       "    <tr>\n",
       "      <th>3</th>\n",
       "      <td>Bandung</td>\n",
       "      <td>False</td>\n",
       "    </tr>\n",
       "    <tr>\n",
       "      <th>4</th>\n",
       "      <td>Semarang</td>\n",
       "      <td>True</td>\n",
       "    </tr>\n",
       "    <tr>\n",
       "      <th>5</th>\n",
       "      <td>Semarang</td>\n",
       "      <td>True</td>\n",
       "    </tr>\n",
       "  </tbody>\n",
       "</table>\n",
       "</div>"
      ],
      "text/plain": [
       "       kota  kota_with_prefix_j_s\n",
       "0   Jakarta                  True\n",
       "1   Jakarta                  True\n",
       "2   Bandung                 False\n",
       "3   Bandung                 False\n",
       "4  Semarang                  True\n",
       "5  Semarang                  True"
      ]
     },
     "execution_count": 6,
     "metadata": {},
     "output_type": "execute_result"
    }
   ],
   "source": [
    "# We can use regex on pandas use pandas.Series.str.contains() function\n",
    "import pandas as pd\n",
    "data = pd.read_csv(\"https://storage.googleapis.com/dqlab-dataset/dqlabregex.tsv\",sep='\\t')\n",
    "\n",
    "# Here, we will find the 'kota' values with j or s prefix\n",
    "data[\"kota_with_prefix_j_s\"] = data['kota'].str.contains('^(j|s)',case=False)\n",
    "data[['kota','kota_with_prefix_j_s']]"
   ]
  },
  {
   "cell_type": "code",
   "execution_count": 8,
   "id": "feb8c026",
   "metadata": {},
   "outputs": [
    {
     "data": {
      "text/html": [
       "<div>\n",
       "<style scoped>\n",
       "    .dataframe tbody tr th:only-of-type {\n",
       "        vertical-align: middle;\n",
       "    }\n",
       "\n",
       "    .dataframe tbody tr th {\n",
       "        vertical-align: top;\n",
       "    }\n",
       "\n",
       "    .dataframe thead th {\n",
       "        text-align: right;\n",
       "    }\n",
       "</style>\n",
       "<table border=\"1\" class=\"dataframe\">\n",
       "  <thead>\n",
       "    <tr style=\"text-align: right;\">\n",
       "      <th></th>\n",
       "      <th>no_pencatatan</th>\n",
       "      <th>tanggal_catat</th>\n",
       "      <th>kota</th>\n",
       "      <th>jumlah_member</th>\n",
       "      <th>staf_pencatat</th>\n",
       "      <th>kota_with_prefix_j_s</th>\n",
       "      <th>check_senja</th>\n",
       "    </tr>\n",
       "  </thead>\n",
       "  <tbody>\n",
       "    <tr>\n",
       "      <th>0</th>\n",
       "      <td>1</td>\n",
       "      <td>01-05-2020</td>\n",
       "      <td>Jakarta</td>\n",
       "      <td>311</td>\n",
       "      <td>Andra</td>\n",
       "      <td>True</td>\n",
       "      <td>False</td>\n",
       "    </tr>\n",
       "    <tr>\n",
       "      <th>1</th>\n",
       "      <td>2</td>\n",
       "      <td>30-06-2020</td>\n",
       "      <td>Jakarta</td>\n",
       "      <td>1I2</td>\n",
       "      <td>Andra</td>\n",
       "      <td>True</td>\n",
       "      <td>False</td>\n",
       "    </tr>\n",
       "    <tr>\n",
       "      <th>2</th>\n",
       "      <td>3</td>\n",
       "      <td>05/02/2020</td>\n",
       "      <td>Bandung</td>\n",
       "      <td>5S0</td>\n",
       "      <td>Antara</td>\n",
       "      <td>False</td>\n",
       "      <td>False</td>\n",
       "    </tr>\n",
       "    <tr>\n",
       "      <th>3</th>\n",
       "      <td>4</td>\n",
       "      <td>06/28/2020</td>\n",
       "      <td>Bandung</td>\n",
       "      <td>670</td>\n",
       "      <td>Antara</td>\n",
       "      <td>False</td>\n",
       "      <td>False</td>\n",
       "    </tr>\n",
       "    <tr>\n",
       "      <th>4</th>\n",
       "      <td>5</td>\n",
       "      <td>05/10/2020</td>\n",
       "      <td>Semarang</td>\n",
       "      <td>81O</td>\n",
       "      <td>Senja</td>\n",
       "      <td>True</td>\n",
       "      <td>True</td>\n",
       "    </tr>\n",
       "    <tr>\n",
       "      <th>5</th>\n",
       "      <td>6</td>\n",
       "      <td>06/28/2020</td>\n",
       "      <td>Semarang</td>\n",
       "      <td>1O2</td>\n",
       "      <td>Sendja</td>\n",
       "      <td>True</td>\n",
       "      <td>True</td>\n",
       "    </tr>\n",
       "  </tbody>\n",
       "</table>\n",
       "</div>"
      ],
      "text/plain": [
       "   no_pencatatan tanggal_catat      kota jumlah_member staf_pencatat  \\\n",
       "0              1    01-05-2020   Jakarta           311         Andra   \n",
       "1              2    30-06-2020   Jakarta           1I2         Andra   \n",
       "2              3    05/02/2020   Bandung           5S0        Antara   \n",
       "3              4    06/28/2020   Bandung           670        Antara   \n",
       "4              5    05/10/2020  Semarang           81O         Senja   \n",
       "5              6    06/28/2020  Semarang           1O2        Sendja   \n",
       "\n",
       "   kota_with_prefix_j_s  check_senja  \n",
       "0                  True        False  \n",
       "1                  True        False  \n",
       "2                 False        False  \n",
       "3                 False        False  \n",
       "4                  True         True  \n",
       "5                  True         True  "
      ]
     },
     "execution_count": 8,
     "metadata": {},
     "output_type": "execute_result"
    }
   ],
   "source": [
    "# Check the staff named 'senja/sendja/sen_ja/ any other equivalent patterns'\n",
    "data['check_senja'] = data['staf_pencatat'].str.contains('Sen.?ja')\n",
    "data"
   ]
  },
  {
   "cell_type": "markdown",
   "id": "f7177da1",
   "metadata": {},
   "source": [
    "# REPLACE"
   ]
  },
  {
   "cell_type": "code",
   "execution_count": 8,
   "id": "d65cabe9",
   "metadata": {},
   "outputs": [
    {
     "name": "stderr",
     "output_type": "stream",
     "text": [
      "C:\\Users\\User\\AppData\\Local\\Temp\\ipykernel_8388\\3939391847.py:7: FutureWarning: The default value of regex will change from True to False in a future version.\n",
      "  data['staf_pencatat'] = data['staf_pencatat'].str.replace(\"Sen.?ja\",\"Senja\")\n"
     ]
    },
    {
     "data": {
      "text/plain": [
       "0     Andra\n",
       "1     Andra\n",
       "2    Antara\n",
       "3    Antara\n",
       "4     Senja\n",
       "5     Senja\n",
       "Name: staf_pencatat, dtype: object"
      ]
     },
     "execution_count": 8,
     "metadata": {},
     "output_type": "execute_result"
    }
   ],
   "source": [
    "# After knowing how to locate the text pattern using regex, now we will learn how to replace that pattern\n",
    "# Here, we will use df.str.replace() \n",
    "import pandas as pd\n",
    "data = pd.read_csv(\"https://storage.googleapis.com/dqlab-dataset/dqlabregex.tsv\",sep='\\t')\n",
    "# We will locate 'staf_pencatat' which its value has pattern sen_ja, senDja, or any other possible pattern\n",
    "# and then replace it by 'Senja'\n",
    "data['staf_pencatat'] = data['staf_pencatat'].str.replace(\"Sen.?ja\",\"Senja\")\n",
    "data[\"staf_pencatat\"]"
   ]
  },
  {
   "cell_type": "code",
   "execution_count": 4,
   "id": "ee2eb148",
   "metadata": {},
   "outputs": [
    {
     "name": "stdout",
     "output_type": "stream",
     "text": [
      "  jumlah_member jumlah_member_clean\n",
      "0           311                 311\n",
      "1           1I2                 112\n",
      "2           5S0                 550\n",
      "3           670                 670\n",
      "4           81O                 810\n",
      "5           1O2                 102\n"
     ]
    }
   ],
   "source": [
    "# Now, we will try to replace the non-numerical object in 'jumlah_member' column \n",
    "# and change O to 0, I to 1, and S to 5\n",
    "mapchanges = {\"O\":\"0\", \"I\":\"1\", \"S\" : \"5\"}\n",
    "data['jumlah_member_clean'] = data['jumlah_member']\n",
    "for modify, modifier in mapchanges.items() :\n",
    "    data[\"jumlah_member_clean\"] = data[\"jumlah_member_clean\"].str.replace(modify,modifier, case = False)\n",
    "print(data[['jumlah_member','jumlah_member_clean']])"
   ]
  },
  {
   "cell_type": "code",
   "execution_count": 5,
   "id": "43e62da5",
   "metadata": {},
   "outputs": [
    {
     "name": "stdout",
     "output_type": "stream",
     "text": [
      "  jumlah_member\n",
      "0           311\n",
      "1            12\n",
      "2            50\n",
      "3           670\n",
      "4            81\n",
      "5            12\n"
     ]
    },
    {
     "name": "stderr",
     "output_type": "stream",
     "text": [
      "C:\\Users\\User\\AppData\\Local\\Temp\\ipykernel_8388\\944175464.py:2: FutureWarning: The default value of regex will change from True to False in a future version.\n",
      "  data['jumlah_member'] = data['jumlah_member'].str.replace(\"[^0-9]\",\"\")\n"
     ]
    }
   ],
   "source": [
    "# How if we just want to delete the non-numerical object in 'jumlah_member' ?\n",
    "data['jumlah_member'] = data['jumlah_member'].str.replace(\"[^0-9]\",\"\")\n",
    "print(data[['jumlah_member']])"
   ]
  },
  {
   "cell_type": "code",
   "execution_count": 9,
   "id": "37b1f8af",
   "metadata": {},
   "outputs": [
    {
     "name": "stdout",
     "output_type": "stream",
     "text": [
      "  tanggal_catat\n",
      "0    05/01/2020\n",
      "1    06/30/2020\n",
      "2    05/02/2020\n",
      "3    06/28/2020\n",
      "4    05/10/2020\n",
      "5    06/28/2020\n"
     ]
    },
    {
     "name": "stderr",
     "output_type": "stream",
     "text": [
      "C:\\Users\\User\\AppData\\Local\\Temp\\ipykernel_8388\\64850371.py:3: FutureWarning: The default value of regex will change from True to False in a future version.\n",
      "  data['tanggal_catat'] = data['tanggal_catat'].str.replace(\"([0-9]{2})-([0-9]{2})-([0-9]{4})\",\"\\\\2/\\\\1/\\\\3\")\n"
     ]
    }
   ],
   "source": [
    "# If we look at 'tanggal_catat', we will find that there are 2 kinds of datetime format DD-MM-YYYY and MM/DD/YYYY\n",
    "# Our purpose is to change DD-MM-YYYY to MM/DD/YYYY\n",
    "data['tanggal_catat'] = data['tanggal_catat'].str.replace(\"([0-9]{2})-([0-9]{2})-([0-9]{4})\",\"\\\\2/\\\\1/\\\\3\")\n",
    "print(data[['tanggal_catat']])"
   ]
  },
  {
   "cell_type": "markdown",
   "id": "66a1fa13",
   "metadata": {},
   "source": [
    "# Time to Take a Mini Project !"
   ]
  },
  {
   "cell_type": "code",
   "execution_count": 17,
   "id": "722d90dc",
   "metadata": {},
   "outputs": [
    {
     "name": "stdout",
     "output_type": "stream",
     "text": [
      "Uncleaned Data :\n",
      "    no_pencatatan tanggal_catat      kota jumlah_member staf_pencatat\n",
      "0              1    01-05-2020   Jakarta           311         Andra\n",
      "1              2    30-06-2020   Jakarta           1I2         Andra\n",
      "2              3    05/02/2020   Bandung           5S0        Antara\n",
      "3              4    06/28/2020   Bandung           670        Antara\n",
      "4              5    05/10/2020  Semarang           81O         Senja\n",
      "5              6    06/28/2020  Semarang           1O2        Sendja\n",
      "\n",
      "\n",
      "Cleaned Data :\n",
      "    no_pencatatan tanggal_catat      kota  jumlah_member staf_pencatat\n",
      "0              1    2020-05-01   Jakarta            311         Andra\n",
      "1              2    2020-06-30   Jakarta             12         Andra\n",
      "2              3    2020-05-02   Bandung             50        Antara\n",
      "3              4    2020-06-28   Bandung            670        Antara\n",
      "4              5    2020-05-10  Semarang             81         Senja\n",
      "5              6    2020-06-28  Semarang             12         Senja\n"
     ]
    },
    {
     "name": "stderr",
     "output_type": "stream",
     "text": [
      "C:\\Users\\User\\AppData\\Local\\Temp\\ipykernel_8388\\1716010283.py:16: FutureWarning: The default value of regex will change from True to False in a future version.\n",
      "  data[\"tanggal_catat\"] = data[\"tanggal_catat\"].str.replace(modify, modifier)\n",
      "C:\\Users\\User\\AppData\\Local\\Temp\\ipykernel_8388\\1716010283.py:21: FutureWarning: The default value of regex will change from True to False in a future version.\n",
      "  data[\"jumlah_member\"] = data[\"jumlah_member\"].str.replace(\"[^0-9]\",\"\")\n",
      "C:\\Users\\User\\AppData\\Local\\Temp\\ipykernel_8388\\1716010283.py:26: FutureWarning: The default value of regex will change from True to False in a future version.\n",
      "  data[\"staf_pencatat\"] = data[\"staf_pencatat\"].str.replace(\"Sen.?ja\",\"Senja\")\n"
     ]
    }
   ],
   "source": [
    "# Mini Project\n",
    "'''\n",
    "Given data, there are our purposes :\n",
    "- change the datetime format of 'tanggal_catat' to YYYY-MM-DD and then change its type to pandas datetime\n",
    "- delete the non-numerical text in 'jumlah_member' and then change its type to int\n",
    "- change the Sendja, Sen-ja, Sen_ja, or any other equivalent patterns in 'staf_pencatat' to Senja\n",
    "'''\n",
    "import pandas as pd\n",
    "data = pd.read_csv(\"https://storage.googleapis.com/dqlab-dataset/dqlabregex.tsv\",sep=\"\\t\")\n",
    "print(\"Uncleaned Data :\\n\",data)\n",
    "\n",
    "#1\n",
    "mapchanges = {\"([0-9]{2})-([0-9]{2})-([0-9]{4})\":\"\\\\3/\\\\2/\\\\1\",\n",
    "             \"([0-9]{2})/([0-9]{2})/([0-9]{4})\":\"\\\\3/\\\\1/\\\\2\"}\n",
    "for modify, modifier in mapchanges.items() :\n",
    "    data[\"tanggal_catat\"] = data[\"tanggal_catat\"].str.replace(modify, modifier)\n",
    "#print(data[['tanggal_catat']])\n",
    "data[\"tanggal_catat\"] = pd.to_datetime(data[\"tanggal_catat\"])\n",
    "\n",
    "#2\n",
    "data[\"jumlah_member\"] = data[\"jumlah_member\"].str.replace(\"[^0-9]\",\"\")\n",
    "data[\"jumlah_member\"] = data[\"jumlah_member\"].astype(int)\n",
    "#print(data[['jumlah_member']])\n",
    "\n",
    "#3\n",
    "data[\"staf_pencatat\"] = data[\"staf_pencatat\"].str.replace(\"Sen.?ja\",\"Senja\")\n",
    "#print(data[['staf_pencatat']])\n",
    "\n",
    "print(\"\\n\")\n",
    "print(\"Cleaned Data :\\n\",data)"
   ]
  },
  {
   "cell_type": "markdown",
   "id": "8ca682cc",
   "metadata": {},
   "source": [
    "Learning Source : www.dqlab.id"
   ]
  }
 ],
 "metadata": {
  "kernelspec": {
   "display_name": "Python 3 (ipykernel)",
   "language": "python",
   "name": "python3"
  },
  "language_info": {
   "codemirror_mode": {
    "name": "ipython",
    "version": 3
   },
   "file_extension": ".py",
   "mimetype": "text/x-python",
   "name": "python",
   "nbconvert_exporter": "python",
   "pygments_lexer": "ipython3",
   "version": "3.9.13"
  }
 },
 "nbformat": 4,
 "nbformat_minor": 5
}
