{
 "cells": [
  {
   "cell_type": "code",
   "execution_count": 1,
   "metadata": {},
   "outputs": [
    {
     "name": "stdout",
     "output_type": "stream",
     "text": [
      "Hello World\n",
      "My name is Maulana\n"
     ]
    },
    {
     "data": {
      "text/plain": [
       "'\\'\\'\\n- \"Hello World\" and \"My name is Maulana\" named statement \\n- The print() function prints the specified message to the screen, or other standard output device.\\n  The message can be a string, or any other object\\n'"
      ]
     },
     "execution_count": 1,
     "metadata": {},
     "output_type": "execute_result"
    }
   ],
   "source": [
    "#Python Hello World and Statements\n",
    "\n",
    "print (\"Hello World\")\n",
    "print (\"My name is Maulana\")\n",
    "\n",
    "\n",
    "'''''\n",
    "- \"Hello World\" and \"My name is Maulana\" named statement \n",
    "- The print() function prints the specified message to the screen, or other standard output device.\n",
    "  The message can be a string, or any other object\n",
    "'''''"
   ]
  },
  {
   "cell_type": "code",
   "execution_count": 3,
   "metadata": {},
   "outputs": [
    {
     "name": "stdout",
     "output_type": "stream",
     "text": [
      "topia up 19 20 1 2\n"
     ]
    },
    {
     "data": {
      "text/plain": [
       "\"''\\nVariable rules in Python :\\n- Must begin with a letter (a - z, A - B) or underscore (_)\\n- Other characters can be letters, numbers or _\\n- Case Sensitive\\n- Can be any (reasonable) length\\n- There are some reserved words which you cannot use as a variable name because Python uses them for other things.\\n\""
      ]
     },
     "execution_count": 3,
     "metadata": {},
     "output_type": "execute_result"
    }
   ],
   "source": [
    "#Python Variable\n",
    "\n",
    "grow = \"topia\"\n",
    "Grow = \"up\"\n",
    "num1 = 19\n",
    "num_1 = 20\n",
    "one = 1 ; two = 2\n",
    "print (grow,Grow,num1,num_1,one,two)\n",
    "'''''\n",
    "Variable rules in Python :\n",
    "- Must begin with a letter (a - z, A - B) or underscore (_)\n",
    "- Other characters can be letters, numbers or _\n",
    "- Case Sensitive\n",
    "- Can be any (reasonable) length\n",
    "- There are some reserved words which you cannot use as a variable name because Python uses them for other things.\n",
    "'''''"
   ]
  },
  {
   "cell_type": "code",
   "execution_count": 4,
   "metadata": {},
   "outputs": [],
   "source": [
    "#Comments in Python\n",
    "'''''\n",
    "    A comment begins with a hash character(#) which is not a part of the string literal and ends at the end of the physical\n",
    "    line. All characters after the (#) character up to the end of the line are part of the comment and the Python \n",
    "    interpreter ignores them\n",
    "'''''\n",
    "\n",
    "1. Single Line Comment\n",
    "    # You can use (#) to make single comment that will not be read by system\n",
    "\n",
    "2. Multi Line Comment\n",
    "    '''''\n",
    "    You can use Quintuper (5x {'})\n",
    "    For making Multi Line Comment\n",
    "    '''''"
   ]
  },
  {
   "cell_type": "code",
   "execution_count": 10,
   "metadata": {},
   "outputs": [
    {
     "name": "stdout",
     "output_type": "stream",
     "text": [
      "['I', ' ', 'L', 'o', 'v', 'e', ' ', 'P', 'y', 't', 'h', 'o', 'n']\n",
      "('I', ' ', 'L', 'o', 'v', 'e', ' ', 'P', 'y', 't', 'h', 'o', 'n')\n",
      "{'h', 'v', 't', 'o', 'I', 'P', 'L', 'y', ' ', 'e', 'n'}\n"
     ]
    }
   ],
   "source": [
    "#List Tuple and Set\n",
    "'''''\n",
    "- List\n",
    "    A list is a container which holds comma-separated values (items or elements) between square brackets where items or \n",
    "    elements need not all have the same type.\n",
    "    \n",
    "    In general, we can define a list as an object that contains multiple data items (elements). The contents of a list can \n",
    "    be changed during program execution. The size of a list can also change during execution, as elements are added or \n",
    "    removed from it.\n",
    "    \n",
    "- Tuple\n",
    "    A tuple is a container which holds a series of comma-separated values (items or elements) between parentheses such as \n",
    "    an (x, y) co-ordinate. Tuples are like lists, except they are immutable (i.e. you cannot change its content once \n",
    "    created) and can hold mix data types. Tuples play a sort of \"struct\" role in Python -- a convenient way to pass around \n",
    "    a little logical, fixed size bundle of values.\n",
    "    \n",
    "- Set\n",
    "    A set object is an unordered collection of distinct hashable objects. It is commonly used in membership testing, \n",
    "    removing duplicates from a sequence, and computing mathematical operations such as intersection, union, difference, \n",
    "    and symmetric difference.\n",
    "'''''\n",
    "\n",
    "var = \"I Love Python\"\n",
    "\n",
    "print(list(var)) #Change the data type of var to list\n",
    "print(tuple(var)) #Change the data type of var to tuple\n",
    "print(set(var)) #Change the data type of var to set"
   ]
  },
  {
   "cell_type": "code",
   "execution_count": 11,
   "metadata": {},
   "outputs": [],
   "source": [
    "#Python Library\n",
    "\n",
    "'''''\n",
    "The “Python library” contains several different kinds of components.\n",
    "The library also contains built-in functions and exceptions — objects that can be used by all Python code without the \n",
    "need of an \"import\" statement. Some of these are defined by the core language, but many are not essential for the core \n",
    "semantics and are only described here.\n",
    "'''''\n",
    "import math as mt\n",
    "import pandas as pd\n",
    "import seaborn as sns\n",
    "import numpy as np"
   ]
  },
  {
   "cell_type": "markdown",
   "metadata": {},
   "source": [
    "Sources :\n",
    "www.dqlab.id\n",
    "www.w3resource.com\n",
    "www.docs.python.org"
   ]
  }
 ],
 "metadata": {
  "kernelspec": {
   "display_name": "Python 3",
   "language": "python",
   "name": "python3"
  },
  "language_info": {
   "codemirror_mode": {
    "name": "ipython",
    "version": 3
   },
   "file_extension": ".py",
   "mimetype": "text/x-python",
   "name": "python",
   "nbconvert_exporter": "python",
   "pygments_lexer": "ipython3",
   "version": "3.8.1"
  }
 },
 "nbformat": 4,
 "nbformat_minor": 4
}
