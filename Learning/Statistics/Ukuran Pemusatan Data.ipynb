{
 "cells": [
  {
   "cell_type": "code",
   "execution_count": 3,
   "id": "a9a6340b",
   "metadata": {},
   "outputs": [
    {
     "name": "stdout",
     "output_type": "stream",
     "text": [
      "   tinggi badan (cm)\n",
      "0                157\n",
      "1                163\n",
      "2                156\n",
      "3                166\n",
      "4                162\n"
     ]
    }
   ],
   "source": [
    "# Membaca Data Survei\n",
    "import pandas as pd\n",
    "data = pd.read_csv(\"https://storage.googleapis.com/dqlab-dataset/survei_tinggi_badan.txt\")\n",
    "print(data.head())"
   ]
  },
  {
   "cell_type": "code",
   "execution_count": 4,
   "id": "c8cc89d5",
   "metadata": {},
   "outputs": [
    {
     "data": {
      "text/html": [
       "<div>\n",
       "<style scoped>\n",
       "    .dataframe tbody tr th:only-of-type {\n",
       "        vertical-align: middle;\n",
       "    }\n",
       "\n",
       "    .dataframe tbody tr th {\n",
       "        vertical-align: top;\n",
       "    }\n",
       "\n",
       "    .dataframe thead th {\n",
       "        text-align: right;\n",
       "    }\n",
       "</style>\n",
       "<table border=\"1\" class=\"dataframe\">\n",
       "  <thead>\n",
       "    <tr style=\"text-align: right;\">\n",
       "      <th></th>\n",
       "      <th>Tinggi_Badan</th>\n",
       "    </tr>\n",
       "  </thead>\n",
       "  <tbody>\n",
       "    <tr>\n",
       "      <th>0</th>\n",
       "      <td>157</td>\n",
       "    </tr>\n",
       "    <tr>\n",
       "      <th>1</th>\n",
       "      <td>163</td>\n",
       "    </tr>\n",
       "    <tr>\n",
       "      <th>2</th>\n",
       "      <td>156</td>\n",
       "    </tr>\n",
       "    <tr>\n",
       "      <th>3</th>\n",
       "      <td>166</td>\n",
       "    </tr>\n",
       "    <tr>\n",
       "      <th>4</th>\n",
       "      <td>162</td>\n",
       "    </tr>\n",
       "  </tbody>\n",
       "</table>\n",
       "</div>"
      ],
      "text/plain": [
       "   Tinggi_Badan\n",
       "0           157\n",
       "1           163\n",
       "2           156\n",
       "3           166\n",
       "4           162"
      ]
     },
     "execution_count": 4,
     "metadata": {},
     "output_type": "execute_result"
    }
   ],
   "source": [
    "# Mengubah nama kolom\n",
    "data.rename({\"tinggi badan (cm)\":\"Tinggi_Badan\"},axis=1,inplace=True)\n",
    "data.head()"
   ]
  },
  {
   "cell_type": "code",
   "execution_count": 20,
   "id": "bd615b95",
   "metadata": {},
   "outputs": [
    {
     "name": "stdout",
     "output_type": "stream",
     "text": [
      "Eksistensi data yang bernilai Null : False\n",
      "Dimensi dari data hasil survey : (250, 1)\n",
      "Rata-rata dari data survey tersebut adalah 161.352\n"
     ]
    }
   ],
   "source": [
    "# Mengecek apakah ada data yang bernilai Null\n",
    "print(\"Eksistensi data yang bernilai Null : {}\".format(data.isnull().any().any()))\n",
    "\n",
    "# Mengecek dimensi data\n",
    "print(\"Dimensi dari data hasil survey : {}\".format(data.shape))\n",
    "\n",
    "# Mencari mean dari data \n",
    "print(\"Rata-rata dari data survey tersebut adalah {}\".format(data[\"Tinggi_Badan\"].mean()))"
   ]
  },
  {
   "cell_type": "code",
   "execution_count": 24,
   "id": "5bb43b46",
   "metadata": {},
   "outputs": [
    {
     "name": "stdout",
     "output_type": "stream",
     "text": [
      "Median dari data survey tersebut adalah 161.0\n",
      "Modus dari data survey tersebut adalah 162\n"
     ]
    }
   ],
   "source": [
    "# Mencari median dari data\n",
    "print(\"Median dari data survey tersebut adalah {}\".format(data[\"Tinggi_Badan\"].median()))\n",
    "\n",
    "# Mencari modus dari data\n",
    "print(\"Modus dari data survey tersebut adalah {}\".format(data[\"Tinggi_Badan\"].mode()[0]))"
   ]
  },
  {
   "cell_type": "code",
   "execution_count": 26,
   "id": "6f5b7f9f",
   "metadata": {},
   "outputs": [
    {
     "name": "stdout",
     "output_type": "stream",
     "text": [
      "    x1  x2  x3  x4     y1    y2     y3     y4\n",
      "0   10  10  10   8   8.04  9.14   7.46   6.58\n",
      "1    8   8   8   8   6.95  8.14   6.77   5.76\n",
      "2   13  13  13   8   7.58  8.74  12.74   7.71\n",
      "3    9   9   9   8   8.81  8.77   7.11   8.84\n",
      "4   11  11  11   8   8.33  9.26   7.81   8.47\n",
      "5   14  14  14   8   9.96  8.10   8.84   7.04\n",
      "6    6   6   6   8   7.24  6.13   6.08   5.25\n",
      "7    4   4   4  19   4.26  3.10   5.39  12.50\n",
      "8   12  12  12   8  10.84  9.13   8.15   5.56\n",
      "9    7   7   7   8   4.82  7.26   6.42   7.91\n",
      "10   5   5   5   8   5.68  4.74   5.73   6.89\n",
      "Mean dari masing-masing kolom dari data anscombe :\n",
      "x1    9.000000\n",
      "x2    9.000000\n",
      "x3    9.000000\n",
      "x4    9.000000\n",
      "y1    7.500909\n",
      "y2    7.500909\n",
      "y3    7.500000\n",
      "y4    7.500909\n",
      "dtype: float64\n"
     ]
    }
   ],
   "source": [
    "# Anscombe's Quartet\n",
    "'''\n",
    "Anscombe’s Quartet pertama kali diperkenalkan oleh Francis John “Frank” Anscombe pada tahun 1973. Anscombe’s Quartet berisi \n",
    "4 dataset yang memiliki nilai statistik yang hampir sama, tetapi sangat berbeda ketika digambarkan dalam bentuk grafik. \n",
    "Setiap dataset memiliki 11 data poin yang merepresentasikan nilai x dan y.\n",
    "'''\n",
    "data = pd.read_csv(\"https://storage.googleapis.com/dqlab-dataset/anscombe.csv\")\n",
    "print(data)\n",
    "print(\"Mean dari masing-masing kolom dari data anscombe :\")\n",
    "print(data.mean())"
   ]
  },
  {
   "cell_type": "code",
   "execution_count": 27,
   "id": "4090e998",
   "metadata": {},
   "outputs": [
    {
     "data": {
      "text/plain": [
       "<matplotlib.collections.PathCollection at 0x203d3c834c0>"
      ]
     },
     "execution_count": 27,
     "metadata": {},
     "output_type": "execute_result"
    },
    {
     "data": {
      "image/png": "[encoded data removed]",
      "text/plain": [
       "<Figure size 800x800 with 4 Axes>"
      ]
     },
     "metadata": {},
     "output_type": "display_data"
    }
   ],
   "source": [
    "# Visualisasi setiap pasang kolom yang ada pada data anscombe tersebut (x1,y1), (x2,y2), dst\n",
    "import matplotlib.pyplot as plt\n",
    "fig, ax = plt.subplots(2,2,figsize=(8,8))\n",
    "ax[0][0].scatter(data.x1,data.y1)\n",
    "ax[0][1].scatter(data.x2,data.y2)\n",
    "ax[1][0].scatter(data.x3,data.y3)\n",
    "ax[1][1].scatter(data.x4,data.y4)"
   ]
  },
  {
   "cell_type": "markdown",
   "id": "554b3e83",
   "metadata": {},
   "source": [
    "Sumber Belajar = www.dqlab.id"
   ]
  }
 ],
 "metadata": {
  "kernelspec": {
   "display_name": "Python 3 (ipykernel)",
   "language": "python",
   "name": "python3"
  },
  "language_info": {
   "codemirror_mode": {
    "name": "ipython",
    "version": 3
   },
   "file_extension": ".py",
   "mimetype": "text/x-python",
   "name": "python",
   "nbconvert_exporter": "python",
   "pygments_lexer": "ipython3",
   "version": "3.10.9"
  }
 },
 "nbformat": 4,
 "nbformat_minor": 5
}
