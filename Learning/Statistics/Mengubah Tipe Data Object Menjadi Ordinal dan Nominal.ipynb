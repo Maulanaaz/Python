{
 "cells": [
  {
   "cell_type": "code",
   "execution_count": 6,
   "id": "399420b5",
   "metadata": {},
   "outputs": [
    {
     "name": "stdout",
     "output_type": "stream",
     "text": [
      "Jenis_Kelamin    object\n",
      "dtype: object\n",
      "Jenis_Kelamin    category\n",
      "dtype: object\n"
     ]
    }
   ],
   "source": [
    "# Mengubah Data Ordinal\n",
    "import pandas as pd\n",
    "gender = [\"Pria\", \"Pria\", \"Wanita\", \"Pria\", \"Wanita\",\n",
    "          \"Wanita\", \"Wanita\", \"Pria\", \"Pria\", \"Wanita\"]\n",
    "df = pd.DataFrame({\"Jenis_Kelamin\":gender})\n",
    "print(df.dtypes) # Kita akan ubah tipe data Jenis_Kelamin dari object menjadi Category\n",
    "\n",
    "# Definisikan sebuah variabel bernama cat yang nantinya akan digunakan untuk merubah tipe data\n",
    "cat = pd.CategoricalDtype([\"Pria\",\"Wanita\"])\n",
    "df = df.astype({\"Jenis_Kelamin\":cat})\n",
    "print(df.dtypes)"
   ]
  },
  {
   "cell_type": "code",
   "execution_count": 11,
   "id": "5c5f51cb",
   "metadata": {},
   "outputs": [
    {
     "name": "stdout",
     "output_type": "stream",
     "text": [
      "Jenis_Kelamin    object\n",
      "Cek_Medis        object\n",
      "dtype: object\n",
      "Jenis_Kelamin    category\n",
      "Cek_Medis        category\n",
      "dtype: object\n"
     ]
    },
    {
     "data": {
      "text/plain": [
       "0              tidak pernah\n",
       "1    rutin (1 tahun sekali)\n",
       "2      tidak tentu waktunya\n",
       "3              tidak pernah\n",
       "4    rutin (1 tahun sekali)\n",
       "Name: Cek_Medis, dtype: category\n",
       "Categories (5, object): ['tidak pernah' < 'tidak tentu waktunya' < 'lebih dari 2 tahun sekali' < '2 tahun sekali' < 'rutin (1 tahun sekali)']"
      ]
     },
     "execution_count": 11,
     "metadata": {},
     "output_type": "execute_result"
    }
   ],
   "source": [
    "# Mengubah Data Nominal\n",
    "gender = [\"Pria\", \"Pria\", \"Wanita\", \"Pria\", \"Wanita\",\n",
    "          \"Wanita\", \"Wanita\", \"Pria\", \"Pria\", \"Wanita\"]\n",
    "# Data cek medis\n",
    "mcu = [\"tidak pernah\", \"rutin (1 tahun sekali)\",\n",
    "       \"tidak tentu waktunya\", \"tidak pernah\", \n",
    "       \"rutin (1 tahun sekali)\", \"lebih dari 2 tahun sekali\",\n",
    "       \"tidak pernah\", \"tidak pernah\", \n",
    "       \"rutin (1 tahun sekali)\", \"2 tahun sekali\"]\n",
    "\n",
    "df = pd.DataFrame({\"Jenis_Kelamin\":gender,\"Cek_Medis\":mcu})\n",
    "print(df.dtypes)\n",
    "\n",
    "cat = pd.CategoricalDtype([\"Pria\",\"Wanita\"])\n",
    "cat2 = pd.CategoricalDtype([\"tidak pernah\",\"tidak tentu waktunya\",\"lebih dari 2 tahun sekali\",\n",
    "                            \"2 tahun sekali\",\"rutin (1 tahun sekali)\"],ordered=True)\n",
    "df = df.astype({\"Jenis_Kelamin\":cat,\"Cek_Medis\":cat2})\n",
    "print(df.dtypes)\n",
    "\n",
    "df[\"Cek_Medis\"].head()"
   ]
  },
  {
   "cell_type": "code",
   "execution_count": 15,
   "id": "48b081cf",
   "metadata": {},
   "outputs": [
    {
     "data": {
      "text/html": [
       "<div>\n",
       "<style scoped>\n",
       "    .dataframe tbody tr th:only-of-type {\n",
       "        vertical-align: middle;\n",
       "    }\n",
       "\n",
       "    .dataframe tbody tr th {\n",
       "        vertical-align: top;\n",
       "    }\n",
       "\n",
       "    .dataframe thead th {\n",
       "        text-align: right;\n",
       "    }\n",
       "</style>\n",
       "<table border=\"1\" class=\"dataframe\">\n",
       "  <thead>\n",
       "    <tr style=\"text-align: right;\">\n",
       "      <th></th>\n",
       "      <th>Frekuensi</th>\n",
       "    </tr>\n",
       "    <tr>\n",
       "      <th>Rentang Berat Badan</th>\n",
       "      <th></th>\n",
       "    </tr>\n",
       "  </thead>\n",
       "  <tbody>\n",
       "    <tr>\n",
       "      <th>[63, 64)</th>\n",
       "      <td>2</td>\n",
       "    </tr>\n",
       "    <tr>\n",
       "      <th>[64, 65)</th>\n",
       "      <td>2</td>\n",
       "    </tr>\n",
       "    <tr>\n",
       "      <th>[65, 66)</th>\n",
       "      <td>10</td>\n",
       "    </tr>\n",
       "    <tr>\n",
       "      <th>[66, 67)</th>\n",
       "      <td>19</td>\n",
       "    </tr>\n",
       "    <tr>\n",
       "      <th>[67, 68)</th>\n",
       "      <td>22</td>\n",
       "    </tr>\n",
       "    <tr>\n",
       "      <th>[68, 69)</th>\n",
       "      <td>28</td>\n",
       "    </tr>\n",
       "    <tr>\n",
       "      <th>[69, 70)</th>\n",
       "      <td>21</td>\n",
       "    </tr>\n",
       "    <tr>\n",
       "      <th>[70, 71)</th>\n",
       "      <td>9</td>\n",
       "    </tr>\n",
       "    <tr>\n",
       "      <th>[71, 72)</th>\n",
       "      <td>5</td>\n",
       "    </tr>\n",
       "    <tr>\n",
       "      <th>[72, 73)</th>\n",
       "      <td>2</td>\n",
       "    </tr>\n",
       "  </tbody>\n",
       "</table>\n",
       "</div>"
      ],
      "text/plain": [
       "                     Frekuensi\n",
       "Rentang Berat Badan           \n",
       "[63, 64)                     2\n",
       "[64, 65)                     2\n",
       "[65, 66)                    10\n",
       "[66, 67)                    19\n",
       "[67, 68)                    22\n",
       "[68, 69)                    28\n",
       "[69, 70)                    21\n",
       "[70, 71)                     9\n",
       "[71, 72)                     5\n",
       "[72, 73)                     2"
      ]
     },
     "execution_count": 15,
     "metadata": {},
     "output_type": "execute_result"
    }
   ],
   "source": [
    "# Membuat data kategorikal\n",
    "# Data berat badan 120 orang \n",
    "bb120 = [71.2, 66.8, 66.9, 65.9, 69.7, 63.4, 71.5, 66.5, 68.6, 67.5, \n",
    "         70.9, 63.9, 67.4, 67.2, 70.3, 65.8, 67.7, 66.2, 68.1, 69.2, \n",
    "         65.8, 70.3, 69.8, 69.0, 69.8, 66.6, 67.8, 66.1, 67.5, 69.1, \n",
    "         66.6, 67.2, 66.6, 66.3, 66.7, 68.0, 65.8, 68.5, 71.3, 69.5, \n",
    "         67.6, 66.2, 66.5, 71.4, 68.1, 66.7, 68.4, 72.2, 68.2, 69.2, \n",
    "         68.6, 67.3, 65.7, 67.3, 67.6, 69.2, 69.7, 69.9, 68.6, 69.8, \n",
    "         66.5, 70.5, 69.0, 67.4, 69.0, 67.8, 70.3, 71.0, 72.4, 65.2, \n",
    "         65.1, 67.0, 68.3, 69.8, 68.6, 64.0, 67.4, 69.7, 68.5, 69.5, \n",
    "         67.6, 67.6, 68.4, 68.8, 68.4, 68.2, 66.7, 68.8, 68.2, 70.3, \n",
    "         70.4, 68.4, 67.2, 66.7, 68.8, 68.2, 67.3, 68.1, 66.8, 69.4, \n",
    "         67.1, 70.4, 68.8, 69.2, 65.8, 68.3, 69.5, 66.1, 67.5, 68.1, \n",
    "         65.3, 68.6, 69.7, 66.3, 68.7, 65.4, 67.9, 64.8, 70.2, 68.8]\n",
    "rentang = list(range(63,74))\n",
    "bins = pd.cut(bb120,rentang,right=False,include_lowest=True)\n",
    "df = pd.DataFrame(bb120)\n",
    "df = df.groupby(bins).count()\n",
    "df.rename(columns={0:\"Frekuensi\"},inplace=True)\n",
    "df.index.rename(\"Rentang Berat Badan\",inplace=True)\n",
    "df"
   ]
  },
  {
   "cell_type": "code",
   "execution_count": 32,
   "id": "9ec5ebd1",
   "metadata": {},
   "outputs": [
    {
     "data": {
      "text/html": [
       "<div>\n",
       "<style scoped>\n",
       "    .dataframe tbody tr th:only-of-type {\n",
       "        vertical-align: middle;\n",
       "    }\n",
       "\n",
       "    .dataframe tbody tr th {\n",
       "        vertical-align: top;\n",
       "    }\n",
       "\n",
       "    .dataframe thead th {\n",
       "        text-align: right;\n",
       "    }\n",
       "</style>\n",
       "<table border=\"1\" class=\"dataframe\">\n",
       "  <thead>\n",
       "    <tr style=\"text-align: right;\">\n",
       "      <th></th>\n",
       "      <th>Jumlah</th>\n",
       "    </tr>\n",
       "    <tr>\n",
       "      <th>BMI</th>\n",
       "      <th></th>\n",
       "    </tr>\n",
       "  </thead>\n",
       "  <tbody>\n",
       "    <tr>\n",
       "      <th>[0.0, 18.5)</th>\n",
       "      <td>0</td>\n",
       "    </tr>\n",
       "    <tr>\n",
       "      <th>[18.5, 25.0)</th>\n",
       "      <td>32</td>\n",
       "    </tr>\n",
       "    <tr>\n",
       "      <th>[25.0, 30.0)</th>\n",
       "      <td>83</td>\n",
       "    </tr>\n",
       "    <tr>\n",
       "      <th>[30.0, 1000.0)</th>\n",
       "      <td>5</td>\n",
       "    </tr>\n",
       "  </tbody>\n",
       "</table>\n",
       "</div>"
      ],
      "text/plain": [
       "                Jumlah\n",
       "BMI                   \n",
       "[0.0, 18.5)          0\n",
       "[18.5, 25.0)        32\n",
       "[25.0, 30.0)        83\n",
       "[30.0, 1000.0)       5"
      ]
     },
     "execution_count": 32,
     "metadata": {},
     "output_type": "execute_result"
    }
   ],
   "source": [
    "# Mini Project : Membuat data yang berisi berat badan, tinggi badan, dan BMI. Kemudian kelompokkan BMI\n",
    "bb120 = [71.2, 66.8, 66.9, 65.9, 69.7, 63.4, 71.5, 66.5, 68.6, 67.5, \n",
    "         70.9, 63.9, 67.4, 67.2, 70.3, 65.8, 67.7, 66.2, 68.1, 69.2, \n",
    "         65.8, 70.3, 69.8, 69.0, 69.8, 66.6, 67.8, 66.1, 67.5, 69.1, \n",
    "         66.6, 67.2, 66.6, 66.3, 66.7, 68.0, 65.8, 68.5, 71.3, 69.5, \n",
    "         67.6, 66.2, 66.5, 71.4, 68.1, 66.7, 68.4, 72.2, 68.2, 69.2, \n",
    "         68.6, 67.3, 65.7, 67.3, 67.6, 69.2, 69.7, 69.9, 68.6, 69.8, \n",
    "         66.5, 70.5, 69.0, 67.4, 69.0, 67.8, 70.3, 71.0, 72.4, 65.2, \n",
    "         65.1, 67.0, 68.3, 69.8, 68.6, 64.0, 67.4, 69.7, 68.5, 69.5, \n",
    "         67.6, 67.6, 68.4, 68.8, 68.4, 68.2, 66.7, 68.8, 68.2, 70.3, \n",
    "         70.4, 68.4, 67.2, 66.7, 68.8, 68.2, 67.3, 68.1, 66.8, 69.4, \n",
    "         67.1, 70.4, 68.8, 69.2, 65.8, 68.3, 69.5, 66.1, 67.5, 68.1, \n",
    "         65.3, 68.6, 69.7, 66.3, 68.7, 65.4, 67.9, 64.8, 70.2, 68.8]\n",
    "# Data tinggi badan 120 orang (cm)\n",
    "tb120 = [157., 163., 156., 166., 162., 165., 155., 160., 164., 161., \n",
    "         172., 149., 166., 162., 167., 161., 144., 164., 160., 155., \n",
    "         157., 162., 177., 163., 155., 173., 159., 156., 154., 157., \n",
    "         174., 167., 166., 162., 163., 165., 163., 162., 168., 160., \n",
    "         163., 156., 171., 170., 150., 160., 165., 165., 166., 159., \n",
    "         136., 163., 152., 166., 166., 149., 167., 160., 157., 164., \n",
    "         170., 171., 154., 159., 162., 162., 159., 147., 160., 154., \n",
    "         162., 156., 161., 157., 159., 159., 170., 166., 160., 154., \n",
    "         168., 152., 154., 157., 155., 156., 170., 161., 157., 166., \n",
    "         163., 154., 158., 165., 174., 171., 167., 161., 151., 157., \n",
    "         160., 165., 162., 162., 173., 164., 160., 159., 162., 156.,\n",
    "         170., 160., 158., 156., 167., 153., 159., 163., 161., 163.]\n",
    "df = pd.DataFrame({\"Berat_Badan\":bb120,\"Tinggi_Badan\":tb120})\n",
    "df[\"Tinggi_Badan\"] = df[\"Tinggi_Badan\"]/100\n",
    "df[\"BMI\"] = df[\"Berat_Badan\"]/df[\"Tinggi_Badan\"]**2\n",
    "\n",
    "# Kelompokkan BMI\n",
    "rentang = [0,18.5,25,30,1000]\n",
    "bins = pd.cut(df[\"BMI\"],rentang,right=False,include_lowest=True)\n",
    "kondisi = df[[\"BMI\"]].groupby(bins).count()\n",
    "kondisi.rename(columns={\"BMI\":\"Jumlah\"},inplace=True)\n",
    "kondisi"
   ]
  },
  {
   "cell_type": "markdown",
   "id": "5d2ec0e0",
   "metadata": {},
   "source": [
    "Sumber Belajar : www.dqlab.id"
   ]
  }
 ],
 "metadata": {
  "kernelspec": {
   "display_name": "Python 3 (ipykernel)",
   "language": "python",
   "name": "python3"
  },
  "language_info": {
   "codemirror_mode": {
    "name": "ipython",
    "version": 3
   },
   "file_extension": ".py",
   "mimetype": "text/x-python",
   "name": "python",
   "nbconvert_exporter": "python",
   "pygments_lexer": "ipython3",
   "version": "3.10.9"
  }
 },
 "nbformat": 4,
 "nbformat_minor": 5
}
