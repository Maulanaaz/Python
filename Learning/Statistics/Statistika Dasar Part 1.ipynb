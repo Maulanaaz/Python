{
 "cells": [
  {
   "cell_type": "code",
   "execution_count": 1,
   "id": "7bc915fa",
   "metadata": {},
   "outputs": [],
   "source": [
    "# Load Library yang diperlukan untuk keperluan analisis data\n",
    "import pandas as pd\n",
    "import numpy as np"
   ]
  },
  {
   "cell_type": "code",
   "execution_count": 2,
   "id": "4c7e98be",
   "metadata": {},
   "outputs": [],
   "source": [
    "# Load Dataset\n",
    "df = pd.read_csv(\"https://storage.googleapis.com/dqlab-dataset/dataset_statistic.csv\",sep=\";\")"
   ]
  },
  {
   "cell_type": "code",
   "execution_count": 3,
   "id": "50dc2ff3",
   "metadata": {},
   "outputs": [
    {
     "name": "stdout",
     "output_type": "stream",
     "text": [
      "    ID Pelanggan     Nama  Jenis Kelamin  Pendapatan Produk   Harga  Jumlah   \\\n",
      "0              1     Arif              1      600000      A  100000        4   \n",
      "1              2     Dian              2     1200000      D  250000        4   \n",
      "2              3    Dinda              2      950000      D  250000        3   \n",
      "3              4    Fajar              1      400000      A  100000        2   \n",
      "4              5      Ika              2     1200000      D  250000        4   \n",
      "5              6    Ilham              1      800000      B  150000        4   \n",
      "6              7    Indra              1      950000      B  150000        5   \n",
      "7              8  Kartika              2     1100000      E  300000        3   \n",
      "8              9  Lestari              2      800000      E  300000        2   \n",
      "9             10      Lia              2     1700000      E  300000        5   \n",
      "10            11    Maria              2      600000      A  100000        4   \n",
      "11            12     Maya              2      950000      B  150000        5   \n",
      "12            13     Mila              2      400000      C  200000        1   \n",
      "13            14    Nurul              2     6450000      D  250000        5   \n",
      "14            15    Retno              2     1000000      C  200000        4   \n",
      "15            16     Rini              2      800000      B  150000        4   \n",
      "16            17    Rizki              1     1200000      C  200000        5   \n",
      "17            18     Sari              2      700000      D  250000        2   \n",
      "18            19     Tyas              2      600000      A  100000        4   \n",
      "19            20    Wahyu              1      800000      C  200000        3   \n",
      "\n",
      "      Total  Tingkat Kepuasan  \n",
      "0    400000                 2  \n",
      "1   1000000                 2  \n",
      "2    750000                 3  \n",
      "3    200000                 3  \n",
      "4   1000000                 2  \n",
      "5    600000                 3  \n",
      "6    750000                 1  \n",
      "7    900000                 3  \n",
      "8    600000                 1  \n",
      "9   1500000                 1  \n",
      "10   400000                 3  \n",
      "11   750000                 3  \n",
      "12   200000                 2  \n",
      "13  1250000                 1  \n",
      "14   800000                 2  \n",
      "15   600000                 1  \n",
      "16  1000000                 3  \n",
      "17   500000                 1  \n",
      "18   400000                 3  \n",
      "19   600000                 1  \n",
      "    ID Pelanggan     Nama  Jenis Kelamin  Pendapatan Produk   Harga  Jumlah   \\\n",
      "0              1     Arif              1      600000      A  100000        4   \n",
      "1              2     Dian              2     1200000      D  250000        4   \n",
      "2              3    Dinda              2      950000      D  250000        3   \n",
      "3              4    Fajar              1      400000      A  100000        2   \n",
      "4              5      Ika              2     1200000      D  250000        4   \n",
      "5              6    Ilham              1      800000      B  150000        4   \n",
      "6              7    Indra              1      950000      B  150000        5   \n",
      "7              8  Kartika              2     1100000      E  300000        3   \n",
      "8              9  Lestari              2      800000      E  300000        2   \n",
      "9             10      Lia              2     1700000      E  300000        5   \n",
      "10            11    Maria              2      600000      A  100000        4   \n",
      "11            12     Maya              2      950000      B  150000        5   \n",
      "12            13     Mila              2      400000      C  200000        1   \n",
      "13            14    Nurul              2     6450000      D  250000        5   \n",
      "14            15    Retno              2     1000000      C  200000        4   \n",
      "\n",
      "      Total  Tingkat Kepuasan  \n",
      "0    400000                 2  \n",
      "1   1000000                 2  \n",
      "2    750000                 3  \n",
      "3    200000                 3  \n",
      "4   1000000                 2  \n",
      "5    600000                 3  \n",
      "6    750000                 1  \n",
      "7    900000                 3  \n",
      "8    600000                 1  \n",
      "9   1500000                 1  \n",
      "10   400000                 3  \n",
      "11   750000                 3  \n",
      "12   200000                 2  \n",
      "13  1250000                 1  \n",
      "14   800000                 2  \n",
      "    ID Pelanggan   Nama  Jenis Kelamin  Pendapatan Produk   Harga  Jumlah   \\\n",
      "15            16   Rini              2      800000      B  150000        4   \n",
      "16            17  Rizki              1     1200000      C  200000        5   \n",
      "17            18   Sari              2      700000      D  250000        2   \n",
      "18            19   Tyas              2      600000      A  100000        4   \n",
      "19            20  Wahyu              1      800000      C  200000        3   \n",
      "\n",
      "      Total  Tingkat Kepuasan  \n",
      "15   600000                 1  \n",
      "16  1000000                 3  \n",
      "17   500000                 1  \n",
      "18   400000                 3  \n",
      "19   600000                 1  \n"
     ]
    }
   ],
   "source": [
    "# Inspeksi Data\n",
    "\n",
    "# Menampilkan seluruh baris dalam data\n",
    "print(df)\n",
    "\n",
    "# Menampilkan 15 data teratas\n",
    "print(df.head(15))\n",
    "\n",
    "# Menampilkan 5 data terbawah\n",
    "print(df.tail())"
   ]
  },
  {
   "cell_type": "code",
   "execution_count": 4,
   "id": "cf262cd8",
   "metadata": {
    "scrolled": true
   },
   "outputs": [
    {
     "name": "stdout",
     "output_type": "stream",
     "text": [
      "Ukuran Data :  (20, 9)\n",
      "Ukuran Baris :  20\n",
      "Ukuran Kolom :  9\n"
     ]
    }
   ],
   "source": [
    "# Melihat dimensi data\n",
    "print(\"Ukuran Data : \",df.shape)\n",
    "print(\"Ukuran Baris : \", df.shape[0])\n",
    "print(\"Ukuran Kolom : \",df.shape[1])"
   ]
  },
  {
   "cell_type": "code",
   "execution_count": 5,
   "id": "18541b97",
   "metadata": {},
   "outputs": [
    {
     "name": "stdout",
     "output_type": "stream",
     "text": [
      "Index(['ID Pelanggan', 'Nama', 'Jenis Kelamin', 'Pendapatan', 'Produk',\n",
      "       'Harga', 'Jumlah ', 'Total', 'Tingkat Kepuasan'],\n",
      "      dtype='object')\n"
     ]
    }
   ],
   "source": [
    "# Melihat nama-nama kolom dalam data\n",
    "print(df.columns)"
   ]
  },
  {
   "cell_type": "code",
   "execution_count": 6,
   "id": "c81832d4",
   "metadata": {},
   "outputs": [
    {
     "name": "stdout",
     "output_type": "stream",
     "text": [
      "    ID Pelanggan   Nama  Jenis Kelamin  Pendapatan  Produk  Harga  Jumlah   \\\n",
      "0          False  False          False       False   False  False    False   \n",
      "1          False  False          False       False   False  False    False   \n",
      "2          False  False          False       False   False  False    False   \n",
      "3          False  False          False       False   False  False    False   \n",
      "4          False  False          False       False   False  False    False   \n",
      "5          False  False          False       False   False  False    False   \n",
      "6          False  False          False       False   False  False    False   \n",
      "7          False  False          False       False   False  False    False   \n",
      "8          False  False          False       False   False  False    False   \n",
      "9          False  False          False       False   False  False    False   \n",
      "10         False  False          False       False   False  False    False   \n",
      "11         False  False          False       False   False  False    False   \n",
      "12         False  False          False       False   False  False    False   \n",
      "13         False  False          False       False   False  False    False   \n",
      "14         False  False          False       False   False  False    False   \n",
      "15         False  False          False       False   False  False    False   \n",
      "16         False  False          False       False   False  False    False   \n",
      "17         False  False          False       False   False  False    False   \n",
      "18         False  False          False       False   False  False    False   \n",
      "19         False  False          False       False   False  False    False   \n",
      "\n",
      "    Total  Tingkat Kepuasan  \n",
      "0   False             False  \n",
      "1   False             False  \n",
      "2   False             False  \n",
      "3   False             False  \n",
      "4   False             False  \n",
      "5   False             False  \n",
      "6   False             False  \n",
      "7   False             False  \n",
      "8   False             False  \n",
      "9   False             False  \n",
      "10  False             False  \n",
      "11  False             False  \n",
      "12  False             False  \n",
      "13  False             False  \n",
      "14  False             False  \n",
      "15  False             False  \n",
      "16  False             False  \n",
      "17  False             False  \n",
      "18  False             False  \n",
      "19  False             False  \n",
      "ID Pelanggan        0\n",
      "Nama                0\n",
      "Jenis Kelamin       0\n",
      "Pendapatan          0\n",
      "Produk              0\n",
      "Harga               0\n",
      "Jumlah              0\n",
      "Total               0\n",
      "Tingkat Kepuasan    0\n",
      "dtype: int64\n"
     ]
    }
   ],
   "source": [
    "# Mengidentifikasi apakah ada NA Values dalam data kita\n",
    "print(df.isna())\n",
    "print(df.isna().sum())"
   ]
  },
  {
   "cell_type": "code",
   "execution_count": 7,
   "id": "e49906de",
   "metadata": {},
   "outputs": [
    {
     "name": "stdout",
     "output_type": "stream",
     "text": [
      "       ID Pelanggan  Jenis Kelamin    Pendapatan          Harga    Jumlah   \\\n",
      "count      20.00000      20.000000  2.000000e+01      20.000000  20.000000   \n",
      "mean       10.50000       1.700000  1.160000e+06  197500.000000   3.650000   \n",
      "std         5.91608       0.470162  1.282842e+06   69726.910912   1.182103   \n",
      "min         1.00000       1.000000  4.000000e+05  100000.000000   1.000000   \n",
      "25%         5.75000       1.000000  6.750000e+05  150000.000000   3.000000   \n",
      "50%        10.50000       2.000000  8.750000e+05  200000.000000   4.000000   \n",
      "75%        15.25000       2.000000  1.125000e+06  250000.000000   4.250000   \n",
      "max        20.00000       2.000000  6.450000e+06  300000.000000   5.000000   \n",
      "\n",
      "              Total  Tingkat Kepuasan  \n",
      "count  2.000000e+01         20.000000  \n",
      "mean   7.100000e+05          2.050000  \n",
      "std    3.338768e+05          0.887041  \n",
      "min    2.000000e+05          1.000000  \n",
      "25%    4.750000e+05          1.000000  \n",
      "50%    6.750000e+05          2.000000  \n",
      "75%    9.250000e+05          3.000000  \n",
      "max    1.500000e+06          3.000000  \n",
      "\n",
      "Ringkasan dari kolom Harga :\n",
      "count        20.000000\n",
      "mean     197500.000000\n",
      "std       69726.910912\n",
      "min      100000.000000\n",
      "25%      150000.000000\n",
      "50%      200000.000000\n",
      "75%      250000.000000\n",
      "max      300000.000000\n",
      "Name: Harga, dtype: float64\n",
      "\n",
      "Nilai minimum tingkat kepuasan : 1\n",
      "Nilai maximum tingkat kepuasan : 3\n"
     ]
    }
   ],
   "source": [
    "# Melihat ringkasan dari data\n",
    "print(df.describe())\n",
    "\n",
    "# Melihat ringkasan berdasarkan kolom\n",
    "print('\\nRingkasan dari kolom Harga :')\n",
    "print(df[\"Harga\"].describe())\n",
    "\n",
    "# Mencari nilai minimum dan maksimum dari suatu kolom\n",
    "print(\"\\nNilai minimum tingkat kepuasan :\", df[\"Tingkat Kepuasan\"].min())\n",
    "print(\"Nilai maximum tingkat kepuasan :\", df[\"Tingkat Kepuasan\"].max())"
   ]
  },
  {
   "cell_type": "code",
   "execution_count": 8,
   "id": "1ccb774a",
   "metadata": {},
   "outputs": [
    {
     "name": "stdout",
     "output_type": "stream",
     "text": [
      "Melihat total dari setiap kolom :\n",
      "ID Pelanggan                                                      210\n",
      "Nama                ArifDianDindaFajarIkaIlhamIndraKartikaLestariL...\n",
      "Jenis Kelamin                                                      34\n",
      "Pendapatan                                                   23200000\n",
      "Produk                                           ADDADBBEEEABCDCBCDAC\n",
      "Harga                                                         3950000\n",
      "Jumlah                                                             73\n",
      "Total                                                        14200000\n",
      "Tingkat Kepuasan                                                   41\n",
      "dtype: object\n",
      "\n",
      "Melihat total dari setiap kolom yang bertipe numerik:\n",
      "ID Pelanggan             210\n",
      "Jenis Kelamin             34\n",
      "Pendapatan          23200000\n",
      "Harga                3950000\n",
      "Jumlah                    73\n",
      "Total               14200000\n",
      "Tingkat Kepuasan          41\n",
      "dtype: int64\n",
      "\n",
      "Melihat total dari kolom Harga dan Total :\n",
      "Harga     3950000\n",
      "Total    14200000\n",
      "dtype: int64\n"
     ]
    }
   ],
   "source": [
    "# Metode Sum (Total)\n",
    "print(\"Melihat total dari setiap kolom :\")\n",
    "print(df.sum())\n",
    "\n",
    "# Metode sum akan tetapi hanya menghitung tipe data numerik\n",
    "print(\"\\nMelihat total dari setiap kolom yang bertipe numerik:\")\n",
    "print(df.sum(numeric_only=True))\n",
    "\n",
    "# Metode sum dari dua kolom\n",
    "print(\"\\nMelihat total dari kolom Harga dan Total :\")\n",
    "print(df[[\"Harga\",\"Total\"]].sum())"
   ]
  },
  {
   "cell_type": "code",
   "execution_count": 9,
   "id": "c4e6c96d",
   "metadata": {},
   "outputs": [
    {
     "name": "stdout",
     "output_type": "stream",
     "text": [
      "Kolom Tingkat Kepuasan dari data :\n",
      "0     2\n",
      "1     2\n",
      "2     3\n",
      "3     3\n",
      "4     2\n",
      "5     3\n",
      "6     1\n",
      "7     3\n",
      "8     1\n",
      "9     1\n",
      "10    3\n",
      "11    3\n",
      "12    2\n",
      "13    1\n",
      "14    2\n",
      "15    1\n",
      "16    3\n",
      "17    1\n",
      "18    3\n",
      "19    1\n",
      "Name: Tingkat Kepuasan, dtype: int64\n",
      "\n",
      "Kolom Nama dan Pendapatan dari data :\n",
      "       Nama  Pendapatan\n",
      "0      Arif      600000\n",
      "1      Dian     1200000\n",
      "2     Dinda      950000\n",
      "3     Fajar      400000\n",
      "4       Ika     1200000\n",
      "5     Ilham      800000\n",
      "6     Indra      950000\n",
      "7   Kartika     1100000\n",
      "8   Lestari      800000\n",
      "9       Lia     1700000\n",
      "10    Maria      600000\n",
      "11     Maya      950000\n",
      "12     Mila      400000\n",
      "13    Nurul     6450000\n",
      "14    Retno     1000000\n",
      "15     Rini      800000\n",
      "16    Rizki     1200000\n",
      "17     Sari      700000\n",
      "18     Tyas      600000\n",
      "19    Wahyu      800000\n",
      "Memilih baris 0-14\n",
      "    ID Pelanggan     Nama  Jenis Kelamin  Pendapatan Produk   Harga  Jumlah   \\\n",
      "0              1     Arif              1      600000      A  100000        4   \n",
      "1              2     Dian              2     1200000      D  250000        4   \n",
      "2              3    Dinda              2      950000      D  250000        3   \n",
      "3              4    Fajar              1      400000      A  100000        2   \n",
      "4              5      Ika              2     1200000      D  250000        4   \n",
      "5              6    Ilham              1      800000      B  150000        4   \n",
      "6              7    Indra              1      950000      B  150000        5   \n",
      "7              8  Kartika              2     1100000      E  300000        3   \n",
      "8              9  Lestari              2      800000      E  300000        2   \n",
      "9             10      Lia              2     1700000      E  300000        5   \n",
      "10            11    Maria              2      600000      A  100000        4   \n",
      "11            12     Maya              2      950000      B  150000        5   \n",
      "12            13     Mila              2      400000      C  200000        1   \n",
      "13            14    Nurul              2     6450000      D  250000        5   \n",
      "14            15    Retno              2     1000000      C  200000        4   \n",
      "\n",
      "      Total  Tingkat Kepuasan  \n",
      "0    400000                 2  \n",
      "1   1000000                 2  \n",
      "2    750000                 3  \n",
      "3    200000                 3  \n",
      "4   1000000                 2  \n",
      "5    600000                 3  \n",
      "6    750000                 1  \n",
      "7    900000                 3  \n",
      "8    600000                 1  \n",
      "9   1500000                 1  \n",
      "10   400000                 3  \n",
      "11   750000                 3  \n",
      "12   200000                 2  \n",
      "13  1250000                 1  \n",
      "14   800000                 2  \n",
      "    ID Pelanggan     Nama  Jenis Kelamin  Pendapatan Produk   Harga  Jumlah   \\\n",
      "0              1     Arif              1      600000      A  100000        4   \n",
      "1              2     Dian              2     1200000      D  250000        4   \n",
      "2              3    Dinda              2      950000      D  250000        3   \n",
      "3              4    Fajar              1      400000      A  100000        2   \n",
      "4              5      Ika              2     1200000      D  250000        4   \n",
      "5              6    Ilham              1      800000      B  150000        4   \n",
      "6              7    Indra              1      950000      B  150000        5   \n",
      "7              8  Kartika              2     1100000      E  300000        3   \n",
      "8              9  Lestari              2      800000      E  300000        2   \n",
      "9             10      Lia              2     1700000      E  300000        5   \n",
      "10            11    Maria              2      600000      A  100000        4   \n",
      "11            12     Maya              2      950000      B  150000        5   \n",
      "12            13     Mila              2      400000      C  200000        1   \n",
      "13            14    Nurul              2     6450000      D  250000        5   \n",
      "14            15    Retno              2     1000000      C  200000        4   \n",
      "\n",
      "      Total  Tingkat Kepuasan  \n",
      "0    400000                 2  \n",
      "1   1000000                 2  \n",
      "2    750000                 3  \n",
      "3    200000                 3  \n",
      "4   1000000                 2  \n",
      "5    600000                 3  \n",
      "6    750000                 1  \n",
      "7    900000                 3  \n",
      "8    600000                 1  \n",
      "9   1500000                 1  \n",
      "10   400000                 3  \n",
      "11   750000                 3  \n",
      "12   200000                 2  \n",
      "13  1250000                 1  \n",
      "14   800000                 2  \n",
      "\n",
      "Memilih baris 1,5, dan 10 :\n",
      "    ID Pelanggan   Nama  Jenis Kelamin  Pendapatan Produk   Harga  Jumlah   \\\n",
      "1              2   Dian              2     1200000      D  250000        4   \n",
      "5              6  Ilham              1      800000      B  150000        4   \n",
      "10            11  Maria              2      600000      A  100000        4   \n",
      "\n",
      "      Total  Tingkat Kepuasan  \n",
      "1   1000000                 2  \n",
      "5    600000                 3  \n",
      "10   400000                 3  \n",
      "\n",
      "Memilih baris 2,4,6,8,10 dari kolom Nama :\n",
      "2       Dinda\n",
      "4         Ika\n",
      "6       Indra\n",
      "8     Lestari\n",
      "10      Maria\n",
      "Name: Nama, dtype: object\n"
     ]
    }
   ],
   "source": [
    "# Memilih kolom dari data\n",
    "print(\"Kolom Tingkat Kepuasan dari data :\")\n",
    "print(df[\"Tingkat Kepuasan\"])\n",
    "print(\"\\nKolom Nama dan Pendapatan dari data :\")\n",
    "print(df[[\"Nama\",\"Pendapatan\"]])\n",
    "\n",
    "# Memilih baris dari data\n",
    "print(\"Memilih baris 0-14\")\n",
    "print(df[:15])\n",
    "print(df.loc[:14])\n",
    "print(\"\\nMemilih baris 1,5, dan 10 :\")\n",
    "print(df.loc[[1,5,10]])\n",
    "print(\"\\nMemilih baris 2,4,6,8,10 dari kolom Nama :\")\n",
    "print(df[\"Nama\"].loc[[2,4,6,8,10]])"
   ]
  },
  {
   "cell_type": "code",
   "execution_count": 22,
   "id": "b5b476c1",
   "metadata": {},
   "outputs": [
    {
     "name": "stdout",
     "output_type": "stream",
     "text": [
      "Rata-rata dari kolom Pendapatan :\n",
      "1160000.0\n",
      "Rata-rata dari kolom Harga :\n",
      "197500.0\n",
      "Rata-rata dari jumlah Produk C untuk setiap transaksi:\n",
      "3.25\n"
     ]
    }
   ],
   "source": [
    "# Mencari Mean (Rata-Rata)\n",
    "import numpy as np\n",
    "print('Rata-rata dari kolom Pendapatan :')\n",
    "print(df[\"Pendapatan\"].mean())\n",
    "print(\"Rata-rata dari kolom Harga :\")\n",
    "print(np.mean(df[\"Harga\"]))\n",
    "print(\"Rata-rata dari jumlah Produk C untuk setiap transaksi:\")\n",
    "print(df[df[\"Produk\"]==\"C\"][\"Jumlah \"].mean())"
   ]
  },
  {
   "cell_type": "code",
   "execution_count": 24,
   "id": "bfa490b1",
   "metadata": {},
   "outputs": [
    {
     "name": "stdout",
     "output_type": "stream",
     "text": [
      "Median dari kolom Total :\n",
      "675000.0\n",
      "675000.0\n"
     ]
    }
   ],
   "source": [
    "# Mencari Median (Nilai Tengah)\n",
    "print(\"Median dari kolom Total :\")\n",
    "print(df[\"Total\"].median())\n",
    "print(np.median(df[\"Total\"]))"
   ]
  },
  {
   "cell_type": "code",
   "execution_count": 79,
   "id": "605371eb",
   "metadata": {},
   "outputs": [
    {
     "name": "stdout",
     "output_type": "stream",
     "text": [
      "Jumlah total produk yang ditransaksikan:\n",
      "Produk\n",
      "A    14\n",
      "B    18\n",
      "C    13\n",
      "D    18\n",
      "E    10\n",
      "Name: Jumlah , dtype: int64\n",
      "Modus dari total produk yang ditransaksikan:\n",
      "B\n"
     ]
    }
   ],
   "source": [
    "# Mencari Modus (Nilai yang paling banyak muncul)\n",
    "print(\"Jumlah total produk yang ditransaksikan:\")\n",
    "d = df[\"Jumlah \"].groupby(df[\"Produk\"]).sum()\n",
    "print(d)\n",
    "print(\"Modus dari total produk yang ditransaksikan:\")\n",
    "print(d.index[np.where(d==d.mode()[0])[0][0]])"
   ]
  },
  {
   "cell_type": "code",
   "execution_count": 84,
   "id": "c362c049",
   "metadata": {},
   "outputs": [
    {
     "name": "stdout",
     "output_type": "stream",
     "text": [
      "75% /Quartil ke-3 /Desil ke-7.5 /Persentil ke-75 dari kolom Pendapatan:\n",
      "1125000.0\n",
      "1125000.0\n"
     ]
    }
   ],
   "source": [
    "# Mencari Nilai Kuantil (Quartil,Desil,Persentil)\n",
    "print(\"75% /Quartil ke-3 /Desil ke-7.5 /Persentil ke-75 dari kolom Pendapatan:\")\n",
    "print(df[\"Pendapatan\"].quantile(0.75))\n",
    "print(np.quantile(df[\"Pendapatan\"],0.75))"
   ]
  },
  {
   "cell_type": "code",
   "execution_count": 96,
   "id": "342e7dae",
   "metadata": {},
   "outputs": [
    {
     "name": "stdout",
     "output_type": "stream",
     "text": [
      "Mean dan median dari kolom Pendapatan :\n",
      "        Pendapatan     Harga\n",
      "mean     1160000.0  197500.0\n",
      "median    875000.0  200000.0\n",
      "Mean dan Median dari kolom Harga dan Pendapatan berdasarkan Produk :\n",
      "       Pendapatan                Harga          \n",
      "             mean     median      mean    median\n",
      "Produk                                          \n",
      "A        550000.0   600000.0  100000.0  100000.0\n",
      "B        875000.0   875000.0  150000.0  150000.0\n",
      "C        850000.0   900000.0  200000.0  200000.0\n",
      "D       2100000.0  1200000.0  250000.0  250000.0\n",
      "E       1200000.0  1100000.0  300000.0  300000.0\n"
     ]
    }
   ],
   "source": [
    "# Menggunakan metode .agg() untuk menghitung median dan mean\n",
    "print(\"Mean dan median dari kolom Pendapatan :\")\n",
    "print(df[[\"Pendapatan\",\"Harga\"]].agg([np.mean,np.median]))\n",
    "\n",
    "# Menggunakan metode groupby()\n",
    "print(\"Mean dan Median dari kolom Harga dan Pendapatan berdasarkan Produk :\")\n",
    "print(df[[\"Pendapatan\",\"Harga\"]].groupby(df[\"Produk\"]).agg([np.mean,np.median]))"
   ]
  },
  {
   "cell_type": "code",
   "execution_count": 101,
   "id": "920600ff",
   "metadata": {},
   "outputs": [
    {
     "name": "stdout",
     "output_type": "stream",
     "text": [
      "Proporsi jumlah produk dalam transaksi :\n",
      "Produk\n",
      "A    0.191781\n",
      "B    0.246575\n",
      "C    0.178082\n",
      "D    0.246575\n",
      "E    0.136986\n",
      "Name: Jumlah , dtype: float64\n"
     ]
    }
   ],
   "source": [
    "# Menghitung Proporsi Data Kategorikal\n",
    "print(\"Proporsi jumlah produk dalam transaksi :\")\n",
    "print(d/d.sum())"
   ]
  },
  {
   "cell_type": "code",
   "execution_count": 102,
   "id": "456726fe",
   "metadata": {},
   "outputs": [
    {
     "name": "stdout",
     "output_type": "stream",
     "text": [
      "Range dari kolom Harga :\n",
      "200000\n"
     ]
    }
   ],
   "source": [
    "# Menghitung Range (Rentang)\n",
    "print(\"Range dari kolom Harga :\")\n",
    "print(df[\"Harga\"].max() - df['Harga'].min())"
   ]
  },
  {
   "cell_type": "code",
   "execution_count": 112,
   "id": "0698cdf5",
   "metadata": {},
   "outputs": [
    {
     "name": "stdout",
     "output_type": "stream",
     "text": [
      "Varians dari kolom Pendapatan :\n",
      "Varians menggunakan Pandas : 1645684210526.3157\n",
      "Varians menggunakan Numpy : 1563400000000.0\n",
      "Varians menggunakan Pandas (ddof=0) : 1563400000000.0\n"
     ]
    }
   ],
   "source": [
    "# Menghitung Varians\n",
    "print(\"Varians dari kolom Pendapatan :\")\n",
    "print(\"Varians menggunakan Pandas :\",df[\"Pendapatan\"].var())\n",
    "print(\"Varians menggunakan Numpy :\",np.var(df[\"Pendapatan\"]))\n",
    "\n",
    "# Hasilnya berbeda karena default untuk Pandas adalah rumus varians untuk sampel sedangkan Numpy adalah rumus varians untuk populasi\n",
    "# Untuk mengganti rumus varians default Pandas, harus ditambahkan parameter ddof=0\n",
    "print(\"Varians menggunakan Pandas (ddof=0) :\",df[\"Pendapatan\"].var(ddof=0))"
   ]
  },
  {
   "cell_type": "code",
   "execution_count": 113,
   "id": "b9c89e4b",
   "metadata": {},
   "outputs": [
    {
     "name": "stdout",
     "output_type": "stream",
     "text": [
      "Standar Deviasi dari kolom Pendapatan :\n",
      "1282842.2391417876\n",
      "1282842.2391417876\n"
     ]
    }
   ],
   "source": [
    "# Menghitung Standar Deviasi\n",
    "print(\"Standar Deviasi dari kolom Pendapatan :\")\n",
    "print(df[\"Pendapatan\"].std())\n",
    "print(np.std(df[\"Pendapatan\"],ddof=1))"
   ]
  },
  {
   "cell_type": "code",
   "execution_count": 119,
   "id": "5d002676",
   "metadata": {},
   "outputs": [
    {
     "name": "stdout",
     "output_type": "stream",
     "text": [
      "Korelasi Pearson :\n",
      "                  ID Pelanggan  Jenis Kelamin  Pendapatan     Harga   Jumlah   \\\n",
      "ID Pelanggan          1.000000       0.151375    0.110958 -0.028707  0.011289   \n",
      "Jenis Kelamin         0.151375       1.000000    0.192849  0.457555 -0.104168   \n",
      "Pendapatan            0.110958       0.192849    1.000000  0.322443  0.399825   \n",
      "Harga                -0.028707       0.457555    0.322443  1.000000 -0.138883   \n",
      "Jumlah                0.011289      -0.104168    0.399825 -0.138883  1.000000   \n",
      "Total                -0.039968       0.238051    0.592044  0.645455  0.636097   \n",
      "Tingkat Kepuasan     -0.245717      -0.088339   -0.312663 -0.380798  0.017568   \n",
      "\n",
      "                     Total  Tingkat Kepuasan  \n",
      "ID Pelanggan     -0.039968         -0.245717  \n",
      "Jenis Kelamin     0.238051         -0.088339  \n",
      "Pendapatan        0.592044         -0.312663  \n",
      "Harga             0.645455         -0.380798  \n",
      "Jumlah            0.636097          0.017568  \n",
      "Total             1.000000         -0.268345  \n",
      "Tingkat Kepuasan -0.268345          1.000000  \n",
      "\n",
      "\n",
      "Korelasi Spearman :\n",
      "                  ID Pelanggan  Jenis Kelamin  Pendapatan     Harga   Jumlah   \\\n",
      "ID Pelanggan          1.000000       0.151375   -0.063711 -0.039149  0.046356   \n",
      "Jenis Kelamin         0.151375       1.000000    0.219508  0.463635 -0.098864   \n",
      "Pendapatan           -0.063711       0.219508    1.000000  0.640000  0.607110   \n",
      "Harga                -0.039149       0.463635    0.640000  1.000000 -0.130749   \n",
      "Jumlah                0.046356      -0.098864    0.607110 -0.130749  1.000000   \n",
      "Total                -0.069779       0.219508    0.998470  0.646194  0.607110   \n",
      "Tingkat Kepuasan     -0.238890      -0.090784   -0.192463 -0.378933 -0.023874   \n",
      "\n",
      "                     Total  Tingkat Kepuasan  \n",
      "ID Pelanggan     -0.069779         -0.238890  \n",
      "Jenis Kelamin     0.219508         -0.090784  \n",
      "Pendapatan        0.998470         -0.192463  \n",
      "Harga             0.646194         -0.378933  \n",
      "Jumlah            0.607110         -0.023874  \n",
      "Total             1.000000         -0.192463  \n",
      "Tingkat Kepuasan -0.192463          1.000000  \n",
      "\n",
      "\n",
      "Korelasi Kendall :\n"
     ]
    },
    {
     "name": "stderr",
     "output_type": "stream",
     "text": [
      "C:\\Users\\zulfi\\AppData\\Local\\Temp\\ipykernel_3216\\1719672699.py:3: FutureWarning: The default value of numeric_only in DataFrame.corr is deprecated. In a future version, it will default to False. Select only valid columns or specify the value of numeric_only to silence this warning.\n",
      "  print(df.corr())\n",
      "C:\\Users\\zulfi\\AppData\\Local\\Temp\\ipykernel_3216\\1719672699.py:6: FutureWarning: The default value of numeric_only in DataFrame.corr is deprecated. In a future version, it will default to False. Select only valid columns or specify the value of numeric_only to silence this warning.\n",
      "  print(df.corr(method=\"spearman\"))\n",
      "C:\\Users\\zulfi\\AppData\\Local\\Temp\\ipykernel_3216\\1719672699.py:9: FutureWarning: The default value of numeric_only in DataFrame.corr is deprecated. In a future version, it will default to False. Select only valid columns or specify the value of numeric_only to silence this warning.\n",
      "  print(df.corr(method=\"kendall\"))\n"
     ]
    },
    {
     "name": "stdout",
     "output_type": "stream",
     "text": [
      "                  ID Pelanggan  Jenis Kelamin  Pendapatan     Harga   Jumlah   \\\n",
      "ID Pelanggan          1.000000       0.126650   -0.054998 -0.005753  0.024016   \n",
      "Jenis Kelamin         0.126650       1.000000    0.190245  0.415339 -0.090299   \n",
      "Pendapatan           -0.054998       0.190245    1.000000  0.523053  0.501925   \n",
      "Harga                -0.005753       0.415339    0.523053  1.000000 -0.098450   \n",
      "Jumlah                0.024016      -0.090299    0.501925 -0.098450  1.000000   \n",
      "Total                -0.065998       0.190245    0.988506  0.535078  0.501925   \n",
      "Tingkat Kepuasan     -0.183817      -0.085796   -0.165588 -0.325659 -0.028923   \n",
      "\n",
      "                     Total  Tingkat Kepuasan  \n",
      "ID Pelanggan     -0.065998         -0.183817  \n",
      "Jenis Kelamin     0.190245         -0.085796  \n",
      "Pendapatan        0.988506         -0.165588  \n",
      "Harga             0.535078         -0.325659  \n",
      "Jumlah            0.501925         -0.028923  \n",
      "Total             1.000000         -0.165588  \n",
      "Tingkat Kepuasan -0.165588          1.000000  \n"
     ]
    }
   ],
   "source": [
    "# Menghitung korelasi antar variabel dalam data\n",
    "print(\"Korelasi Pearson :\")\n",
    "print(df.corr())\n",
    "print(\"\\n\")\n",
    "print(\"Korelasi Spearman :\")\n",
    "print(df.corr(method=\"spearman\"))\n",
    "print(\"\\n\")\n",
    "print(\"Korelasi Kendall :\")\n",
    "print(df.corr(method=\"kendall\"))"
   ]
  },
  {
   "cell_type": "markdown",
   "id": "2d924359",
   "metadata": {},
   "source": [
    "Sumber Belajar : www.dqlab.id"
   ]
  }
 ],
 "metadata": {
  "kernelspec": {
   "display_name": "Python 3 (ipykernel)",
   "language": "python",
   "name": "python3"
  },
  "language_info": {
   "codemirror_mode": {
    "name": "ipython",
    "version": 3
   },
   "file_extension": ".py",
   "mimetype": "text/x-python",
   "name": "python",
   "nbconvert_exporter": "python",
   "pygments_lexer": "ipython3",
   "version": "3.10.9"
  }
 },
 "nbformat": 4,
 "nbformat_minor": 5
}
