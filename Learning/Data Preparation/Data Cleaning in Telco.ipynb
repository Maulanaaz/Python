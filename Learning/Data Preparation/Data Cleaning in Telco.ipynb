{
 "cells": [
  {
   "cell_type": "code",
   "execution_count": 1,
   "id": "25c25f71",
   "metadata": {},
   "outputs": [
    {
     "name": "stdout",
     "output_type": "stream",
     "text": [
      "   UpdatedAt   customerID  gender  SeniorCitizen Partner Dependents  tenure  \\\n",
      "0     202006  45759018157  Female              0     Yes         No     1.0   \n",
      "1     202006  45557574145    Male              0      No         No    34.0   \n",
      "2     202006  45366876421    Male              0      No         No     2.0   \n",
      "3     202006  45779536532    Male              0      No         No    45.0   \n",
      "4     202006  45923787906  Female              0      No         No     2.0   \n",
      "\n",
      "  PhoneService     MultipleLines InternetService  ... DeviceProtection  \\\n",
      "0           No  No phone service             DSL  ...               No   \n",
      "1          Yes                No             DSL  ...              Yes   \n",
      "2          Yes                No             DSL  ...               No   \n",
      "3           No  No phone service             DSL  ...              Yes   \n",
      "4          Yes                No     Fiber optic  ...               No   \n",
      "\n",
      "  TechSupport StreamingTV StreamingMovies        Contract PaperlessBilling  \\\n",
      "0          No          No              No  Month-to-month              Yes   \n",
      "1          No          No              No        One year               No   \n",
      "2          No          No              No  Month-to-month              Yes   \n",
      "3         Yes          No              No        One year               No   \n",
      "4          No          No              No  Month-to-month              Yes   \n",
      "\n",
      "               PaymentMethod MonthlyCharges TotalCharges  Churn  \n",
      "0           Electronic check          29.85        29.85     No  \n",
      "1               Mailed check          56.95      1889.50     No  \n",
      "2               Mailed check          53.85       108.15    Yes  \n",
      "3  Bank transfer (automatic)          42.30      1840.75     No  \n",
      "4           Electronic check          70.70       151.65    Yes  \n",
      "\n",
      "[5 rows x 22 columns]\n",
      "\n",
      "Bentuk Data : (7113, 22)\n",
      "Jumlah ID yang unik : 7017\n"
     ]
    }
   ],
   "source": [
    "# Import Library dan data yang dibutuhkan\n",
    "import pandas as pd\n",
    "data = pd.read_csv(\"https://storage.googleapis.com/dqlab-dataset/dqlab_telco.csv\")\n",
    "print(data.head())\n",
    "print(\"\\nBentuk Data :\",data.shape)\n",
    "print(\"Jumlah ID yang unik :\",data[\"customerID\"].nunique())"
   ]
  },
  {
   "cell_type": "code",
   "execution_count": 2,
   "id": "4d2b40eb",
   "metadata": {},
   "outputs": [
    {
     "name": "stdout",
     "output_type": "stream",
     "text": [
      "Jumlah data yang terfilter : 7006\n"
     ]
    }
   ],
   "source": [
    "# Memfilter data berdasarkan aturan customerID\n",
    "data['valid_id'] = data[\"customerID\"].str.match(r'^45[0-9]{9,10}')\n",
    "data = (data[data['valid_id']==True]).drop('valid_id',axis=1)\n",
    "print(\"Jumlah data yang terfilter :\",data['customerID'].count())"
   ]
  },
  {
   "cell_type": "code",
   "execution_count": 3,
   "id": "75202043",
   "metadata": {},
   "outputs": [
    {
     "name": "stdout",
     "output_type": "stream",
     "text": [
      "Jumlah data yang terfilter : 6993\n"
     ]
    }
   ],
   "source": [
    "# Membuang data yang terduplikasi pada kolom customerID\n",
    "data.drop_duplicates(inplace=True)\n",
    "data = data.sort_values(by='UpdatedAt',ascending=False).drop_duplicates(['customerID'])\n",
    "print(\"Jumlah data yang terfilter :\",data['customerID'].count())"
   ]
  },
  {
   "cell_type": "code",
   "execution_count": 4,
   "id": "850e1331",
   "metadata": {},
   "outputs": [
    {
     "name": "stdout",
     "output_type": "stream",
     "text": [
      "Jumlah Missing Values pada kolom Churn : 43\n",
      "Bentuk dimensi data setelah dilakukan penghapusan missing values : (6950, 22)\n"
     ]
    }
   ],
   "source": [
    "# Membuang data Missing Values pada kolom Churn\n",
    "print(\"Jumlah Missing Values pada kolom Churn :\",data['Churn'].isna().sum())\n",
    "data.dropna(subset=[\"Churn\"],inplace=True)\n",
    "print(\"Bentuk dimensi data setelah dilakukan penghapusan missing values :\",data.shape)"
   ]
  },
  {
   "cell_type": "code",
   "execution_count": 5,
   "id": "53334bc2",
   "metadata": {},
   "outputs": [
    {
     "name": "stdout",
     "output_type": "stream",
     "text": [
      "Jumlah Missing Values pada setiap kolom :\n",
      "tenure              99\n",
      "MonthlyCharges      26\n",
      "TotalCharges        15\n",
      "UpdatedAt            0\n",
      "DeviceProtection     0\n",
      "PaymentMethod        0\n",
      "PaperlessBilling     0\n",
      "Contract             0\n",
      "StreamingMovies      0\n",
      "StreamingTV          0\n",
      "TechSupport          0\n",
      "OnlineBackup         0\n",
      "customerID           0\n",
      "OnlineSecurity       0\n",
      "InternetService      0\n",
      "MultipleLines        0\n",
      "PhoneService         0\n",
      "Dependents           0\n",
      "Partner              0\n",
      "SeniorCitizen        0\n",
      "gender               0\n",
      "Churn                0\n",
      "dtype: int64\n",
      "\n",
      "Jumlah Missing Values pada setiap kolom setelah imputasi :\n",
      "UpdatedAt           0\n",
      "customerID          0\n",
      "TotalCharges        0\n",
      "MonthlyCharges      0\n",
      "PaymentMethod       0\n",
      "PaperlessBilling    0\n",
      "Contract            0\n",
      "StreamingMovies     0\n",
      "StreamingTV         0\n",
      "TechSupport         0\n",
      "DeviceProtection    0\n",
      "OnlineBackup        0\n",
      "OnlineSecurity      0\n",
      "InternetService     0\n",
      "MultipleLines       0\n",
      "PhoneService        0\n",
      "tenure              0\n",
      "Dependents          0\n",
      "Partner             0\n",
      "SeniorCitizen       0\n",
      "gender              0\n",
      "Churn               0\n",
      "dtype: int64\n"
     ]
    }
   ],
   "source": [
    "# Mengimpute data Missing Values pada kolom lain\n",
    "print(\"Jumlah Missing Values pada setiap kolom :\")\n",
    "print(data.isnull().sum().sort_values(ascending=False))\n",
    "data['tenure'].fillna(11,inplace=True)\n",
    "for col in ['MonthlyCharges','TotalCharges'] :\n",
    "    median = data[col].median()\n",
    "    data[col].fillna(median,inplace=True)\n",
    "print(\"\\nJumlah Missing Values pada setiap kolom setelah imputasi :\")\n",
    "print(data.isnull().sum().sort_values(ascending=False))"
   ]
  },
  {
   "cell_type": "code",
   "execution_count": 6,
   "id": "398dae4f",
   "metadata": {},
   "outputs": [
    {
     "name": "stdout",
     "output_type": "stream",
     "text": [
      "Distribusi data pada kolom tenure, MonthlyCharges, TotalCharges dengan outliers :\n",
      "            tenure  MonthlyCharges  TotalCharges\n",
      "count  6950.000000     6950.000000   6950.000000\n",
      "mean     32.477266       65.783741   2305.083460\n",
      "std      25.188910       50.457871   2578.651143\n",
      "min       0.000000        0.000000     19.000000\n",
      "25%       9.000000       36.462500    406.975000\n",
      "50%      29.000000       70.450000   1400.850000\n",
      "75%      55.000000       89.850000   3799.837500\n",
      "max     500.000000     2311.000000  80000.000000\n"
     ]
    },
    {
     "data": {
      "image/png": "[encoded data removed]",
      "text/plain": [
       "<Figure size 640x480 with 1 Axes>"
      ]
     },
     "metadata": {},
     "output_type": "display_data"
    },
    {
     "data": {
      "image/png": "[encoded data removed]",
      "text/plain": [
       "<Figure size 640x480 with 1 Axes>"
      ]
     },
     "metadata": {},
     "output_type": "display_data"
    },
    {
     "data": {
      "image/png": "[encoded data removed]",
      "text/plain": [
       "<Figure size 640x480 with 1 Axes>"
      ]
     },
     "metadata": {},
     "output_type": "display_data"
    }
   ],
   "source": [
    "# Memvisualisasikan Data Outlier\n",
    "import matplotlib.pyplot as plt\n",
    "import seaborn as sns\n",
    "\n",
    "print(\"Distribusi data pada kolom tenure, MonthlyCharges, TotalCharges dengan outliers :\")\n",
    "print(data[['tenure','MonthlyCharges','TotalCharges']].describe())\n",
    "\n",
    "plt.figure()\n",
    "sns.boxplot(x=data['tenure'])\n",
    "plt.show()\n",
    "plt.figure()\n",
    "sns.boxplot(x=data['MonthlyCharges'])\n",
    "plt.show()\n",
    "plt.figure()\n",
    "sns.boxplot(x=data['TotalCharges'])\n",
    "plt.show()"
   ]
  },
  {
   "cell_type": "code",
   "execution_count": 7,
   "id": "6540195c",
   "metadata": {},
   "outputs": [
    {
     "name": "stdout",
     "output_type": "stream",
     "text": [
      "Nilai batas maksimum dari masing-masing kolom :\n",
      "tenure             124.00000\n",
      "MonthlyCharges     169.93125\n",
      "TotalCharges      8889.13125\n",
      "dtype: float64\n",
      "\n",
      "Nilai batas minimum dari masing-masing kolom :\n",
      "tenure             -60.00000\n",
      "MonthlyCharges     -43.61875\n",
      "TotalCharges     -4682.31875\n",
      "dtype: float64\n",
      "\n",
      "Distribusi data yang baru setelah Outliers ditangani:\n"
     ]
    },
    {
     "name": "stderr",
     "output_type": "stream",
     "text": [
      "C:\\Users\\zulfi\\AppData\\Local\\Temp\\ipykernel_21628\\1907479526.py:14: FutureWarning: Automatic reindexing on DataFrame vs Series comparisons is deprecated and will raise ValueError in a future version. Do `left, right = left.align(right, axis=1, copy=False)` before e.g. `left == right`\n",
      "  more_than = (data>maksimum)\n",
      "C:\\Users\\zulfi\\AppData\\Local\\Temp\\ipykernel_21628\\1907479526.py:15: FutureWarning: Automatic reindexing on DataFrame vs Series comparisons is deprecated and will raise ValueError in a future version. Do `left, right = left.align(right, axis=1, copy=False)` before e.g. `left == right`\n",
      "  lower_than = (data<minimum)\n"
     ]
    },
    {
     "data": {
      "text/html": [
       "<div>\n",
       "<style scoped>\n",
       "    .dataframe tbody tr th:only-of-type {\n",
       "        vertical-align: middle;\n",
       "    }\n",
       "\n",
       "    .dataframe tbody tr th {\n",
       "        vertical-align: top;\n",
       "    }\n",
       "\n",
       "    .dataframe thead th {\n",
       "        text-align: right;\n",
       "    }\n",
       "</style>\n",
       "<table border=\"1\" class=\"dataframe\">\n",
       "  <thead>\n",
       "    <tr style=\"text-align: right;\">\n",
       "      <th></th>\n",
       "      <th>tenure</th>\n",
       "      <th>MonthlyCharges</th>\n",
       "      <th>TotalCharges</th>\n",
       "    </tr>\n",
       "  </thead>\n",
       "  <tbody>\n",
       "    <tr>\n",
       "      <th>count</th>\n",
       "      <td>6950.000000</td>\n",
       "      <td>6950.000000</td>\n",
       "      <td>6950.000000</td>\n",
       "    </tr>\n",
       "    <tr>\n",
       "      <th>mean</th>\n",
       "      <td>32.423165</td>\n",
       "      <td>64.992201</td>\n",
       "      <td>2286.058750</td>\n",
       "    </tr>\n",
       "    <tr>\n",
       "      <th>std</th>\n",
       "      <td>24.581073</td>\n",
       "      <td>30.032040</td>\n",
       "      <td>2265.702553</td>\n",
       "    </tr>\n",
       "    <tr>\n",
       "      <th>min</th>\n",
       "      <td>0.000000</td>\n",
       "      <td>0.000000</td>\n",
       "      <td>19.000000</td>\n",
       "    </tr>\n",
       "    <tr>\n",
       "      <th>25%</th>\n",
       "      <td>9.000000</td>\n",
       "      <td>36.462500</td>\n",
       "      <td>406.975000</td>\n",
       "    </tr>\n",
       "    <tr>\n",
       "      <th>50%</th>\n",
       "      <td>29.000000</td>\n",
       "      <td>70.450000</td>\n",
       "      <td>1400.850000</td>\n",
       "    </tr>\n",
       "    <tr>\n",
       "      <th>75%</th>\n",
       "      <td>55.000000</td>\n",
       "      <td>89.850000</td>\n",
       "      <td>3799.837500</td>\n",
       "    </tr>\n",
       "    <tr>\n",
       "      <th>max</th>\n",
       "      <td>124.000000</td>\n",
       "      <td>169.931250</td>\n",
       "      <td>8889.131250</td>\n",
       "    </tr>\n",
       "  </tbody>\n",
       "</table>\n",
       "</div>"
      ],
      "text/plain": [
       "            tenure  MonthlyCharges  TotalCharges\n",
       "count  6950.000000     6950.000000   6950.000000\n",
       "mean     32.423165       64.992201   2286.058750\n",
       "std      24.581073       30.032040   2265.702553\n",
       "min       0.000000        0.000000     19.000000\n",
       "25%       9.000000       36.462500    406.975000\n",
       "50%      29.000000       70.450000   1400.850000\n",
       "75%      55.000000       89.850000   3799.837500\n",
       "max     124.000000      169.931250   8889.131250"
      ]
     },
     "execution_count": 7,
     "metadata": {},
     "output_type": "execute_result"
    }
   ],
   "source": [
    "# Mengganti nilai-nilai Outlier berdasarkan batas nilai menggunakan IQR\n",
    "Q1 = data[['tenure','MonthlyCharges','TotalCharges']].quantile(0.25)\n",
    "Q3 = data[['tenure','MonthlyCharges','TotalCharges']].quantile(0.75)\n",
    "IQR = Q3-Q1\n",
    "\n",
    "maksimum = Q3 + (1.5*IQR)\n",
    "print(\"Nilai batas maksimum dari masing-masing kolom :\")\n",
    "print(maksimum)\n",
    "\n",
    "minimum = Q1 - (1.5*IQR)\n",
    "print(\"\\nNilai batas minimum dari masing-masing kolom :\")\n",
    "print(minimum)\n",
    "\n",
    "more_than = (data>maksimum)\n",
    "lower_than = (data<minimum)\n",
    "\n",
    "data = data.mask(more_than,maksimum,axis=1)\n",
    "data = data.mask(lower_than,minimum,axis=1)\n",
    "\n",
    "print(\"\\nDistribusi data yang baru setelah Outliers ditangani:\")\n",
    "data[['tenure','MonthlyCharges','TotalCharges']].describe()"
   ]
  },
  {
   "cell_type": "code",
   "execution_count": 39,
   "id": "3e43f057",
   "metadata": {},
   "outputs": [
    {
     "name": "stdout",
     "output_type": "stream",
     "text": [
      "\n",
      "Nilai unik kolom gender sebelum distandarisasi:\n",
      "Male         3499\n",
      "Female       3431\n",
      "Wanita         14\n",
      "Laki-Laki       6\n",
      "Name: gender, dtype: int64\n",
      "\n",
      "Nilai unik kolom SeniorCitizen sebelum distandarisasi:\n",
      "0    5822\n",
      "1    1128\n",
      "Name: SeniorCitizen, dtype: int64\n",
      "\n",
      "Nilai unik kolom Partner sebelum distandarisasi:\n",
      "No     3591\n",
      "Yes    3359\n",
      "Name: Partner, dtype: int64\n",
      "\n",
      "Nilai unik kolom Dependents sebelum distandarisasi:\n",
      "No     4870\n",
      "Yes    2060\n",
      "Iya      20\n",
      "Name: Dependents, dtype: int64\n",
      "\n",
      "Nilai unik kolom PhoneService sebelum distandarisasi:\n",
      "Yes    6281\n",
      "No      669\n",
      "Name: PhoneService, dtype: int64\n",
      "\n",
      "Nilai unik kolom MultipleLines sebelum distandarisasi:\n",
      "No                  3346\n",
      "Yes                 2935\n",
      "No phone service     669\n",
      "Name: MultipleLines, dtype: int64\n",
      "\n",
      "Nilai unik kolom InternetService sebelum distandarisasi:\n",
      "Fiber optic    3057\n",
      "DSL            2388\n",
      "No             1505\n",
      "Name: InternetService, dtype: int64\n",
      "\n",
      "Nilai unik kolom OnlineSecurity sebelum distandarisasi:\n",
      "No                     3454\n",
      "Yes                    1991\n",
      "No internet service    1505\n",
      "Name: OnlineSecurity, dtype: int64\n",
      "\n",
      "Nilai unik kolom OnlineBackup sebelum distandarisasi:\n",
      "No                     3045\n",
      "Yes                    2400\n",
      "No internet service    1505\n",
      "Name: OnlineBackup, dtype: int64\n",
      "\n",
      "Nilai unik kolom DeviceProtection sebelum distandarisasi:\n",
      "No                     3054\n",
      "Yes                    2391\n",
      "No internet service    1505\n",
      "Name: DeviceProtection, dtype: int64\n",
      "\n",
      "Nilai unik kolom TechSupport sebelum distandarisasi:\n",
      "No                     3431\n",
      "Yes                    2014\n",
      "No internet service    1505\n",
      "Name: TechSupport, dtype: int64\n",
      "\n",
      "Nilai unik kolom StreamingTV sebelum distandarisasi:\n",
      "No                     2774\n",
      "Yes                    2671\n",
      "No internet service    1505\n",
      "Name: StreamingTV, dtype: int64\n",
      "\n",
      "Nilai unik kolom StreamingMovies sebelum distandarisasi:\n",
      "No                     2747\n",
      "Yes                    2698\n",
      "No internet service    1505\n",
      "Name: StreamingMovies, dtype: int64\n",
      "\n",
      "Nilai unik kolom Contract sebelum distandarisasi:\n",
      "Month-to-month    3823\n",
      "Two year          1670\n",
      "One year          1457\n",
      "Name: Contract, dtype: int64\n",
      "\n",
      "Nilai unik kolom PaperlessBilling sebelum distandarisasi:\n",
      "Yes    4114\n",
      "No     2836\n",
      "Name: PaperlessBilling, dtype: int64\n",
      "\n",
      "Nilai unik kolom PaymentMethod sebelum distandarisasi:\n",
      "Electronic check             2337\n",
      "Mailed check                 1594\n",
      "Bank transfer (automatic)    1519\n",
      "Credit card (automatic)      1500\n",
      "Name: PaymentMethod, dtype: int64\n",
      "\n",
      "Nilai unik kolom Churn sebelum distandarisasi:\n",
      "No       5114\n",
      "Yes      1827\n",
      "Churn       9\n",
      "Name: Churn, dtype: int64\n"
     ]
    }
   ],
   "source": [
    "# Cek Nilai Unique pada setiap kolom kategori\n",
    "kategorikal = ['gender','SeniorCitizen','Partner','Dependents','PhoneService','MultipleLines','InternetService',\n",
    " 'OnlineSecurity','OnlineBackup','DeviceProtection','TechSupport','StreamingTV','StreamingMovies','Contract'\n",
    " ,'PaperlessBilling','PaymentMethod','Churn']\n",
    "\n",
    "for col in kategorikal :\n",
    "    print(\"\\nNilai unik kolom {} sebelum distandarisasi:\".format(col))\n",
    "    print(data[col].value_counts())"
   ]
  },
  {
   "cell_type": "code",
   "execution_count": 41,
   "id": "eee6829b",
   "metadata": {},
   "outputs": [
    {
     "name": "stdout",
     "output_type": "stream",
     "text": [
      "\n",
      "Nilai Unik Kolom gender setelah Distandarisasi :\n",
      "Male      3505\n",
      "Female    3445\n",
      "Name: gender, dtype: int64\n",
      "\n",
      "Nilai Unik Kolom Dependents setelah Distandarisasi :\n",
      "No     4870\n",
      "Yes    2080\n",
      "Name: Dependents, dtype: int64\n",
      "\n",
      "Nilai Unik Kolom Churn setelah Distandarisasi :\n",
      "No     5114\n",
      "Yes    1836\n",
      "Name: Churn, dtype: int64\n"
     ]
    }
   ],
   "source": [
    "# Mengubah nilai unik yang salah pada kolom kategori\n",
    "data.replace(['Wanita','Laki-Laki','Iya',\"Churn\"],['Female','Male','Yes',\"Yes\"],inplace=True)\n",
    "for i in list(['gender','Dependents','Churn']) :\n",
    "    print(\"\\nNilai Unik Kolom {} setelah Distandarisasi :\".format(i))\n",
    "    print(data[i].value_counts())"
   ]
  },
  {
   "cell_type": "markdown",
   "id": "726051cd",
   "metadata": {},
   "source": [
    "Sumber Belajar : www.dqlab.id"
   ]
  }
 ],
 "metadata": {
  "kernelspec": {
   "display_name": "Python 3 (ipykernel)",
   "language": "python",
   "name": "python3"
  },
  "language_info": {
   "codemirror_mode": {
    "name": "ipython",
    "version": 3
   },
   "file_extension": ".py",
   "mimetype": "text/x-python",
   "name": "python",
   "nbconvert_exporter": "python",
   "pygments_lexer": "ipython3",
   "version": "3.10.9"
  }
 },
 "nbformat": 4,
 "nbformat_minor": 5
}
