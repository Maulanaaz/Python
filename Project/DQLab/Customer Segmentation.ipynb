{
 "cells": [
  {
   "cell_type": "markdown",
   "id": "789c8192",
   "metadata": {},
   "source": [
    "Maulana Zulfikar Aziz - Customer Segmentation"
   ]
  },
  {
   "cell_type": "markdown",
   "id": "3d6d9559",
   "metadata": {},
   "source": [
    "# PENGENALAN DATA"
   ]
  },
  {
   "cell_type": "code",
   "execution_count": 1,
   "id": "0ea750bd",
   "metadata": {},
   "outputs": [
    {
     "data": {
      "text/html": [
       "<div>\n",
       "<style scoped>\n",
       "    .dataframe tbody tr th:only-of-type {\n",
       "        vertical-align: middle;\n",
       "    }\n",
       "\n",
       "    .dataframe tbody tr th {\n",
       "        vertical-align: top;\n",
       "    }\n",
       "\n",
       "    .dataframe thead th {\n",
       "        text-align: right;\n",
       "    }\n",
       "</style>\n",
       "<table border=\"1\" class=\"dataframe\">\n",
       "  <thead>\n",
       "    <tr style=\"text-align: right;\">\n",
       "      <th></th>\n",
       "      <th>Customer_ID</th>\n",
       "      <th>Nama Pelanggan</th>\n",
       "      <th>Jenis Kelamin</th>\n",
       "      <th>Umur</th>\n",
       "      <th>Profesi</th>\n",
       "      <th>Tipe Residen</th>\n",
       "      <th>NilaiBelanjaSetahun</th>\n",
       "    </tr>\n",
       "  </thead>\n",
       "  <tbody>\n",
       "    <tr>\n",
       "      <th>0</th>\n",
       "      <td>CUST-001</td>\n",
       "      <td>Budi Anggara</td>\n",
       "      <td>Pria</td>\n",
       "      <td>58</td>\n",
       "      <td>Wiraswasta</td>\n",
       "      <td>Sector</td>\n",
       "      <td>9497927</td>\n",
       "    </tr>\n",
       "    <tr>\n",
       "      <th>1</th>\n",
       "      <td>CUST-002</td>\n",
       "      <td>Shirley Ratuwati</td>\n",
       "      <td>Wanita</td>\n",
       "      <td>14</td>\n",
       "      <td>Pelajar</td>\n",
       "      <td>Cluster</td>\n",
       "      <td>2722700</td>\n",
       "    </tr>\n",
       "    <tr>\n",
       "      <th>2</th>\n",
       "      <td>CUST-003</td>\n",
       "      <td>Agus Cahyono</td>\n",
       "      <td>Pria</td>\n",
       "      <td>48</td>\n",
       "      <td>Professional</td>\n",
       "      <td>Cluster</td>\n",
       "      <td>5286429</td>\n",
       "    </tr>\n",
       "    <tr>\n",
       "      <th>3</th>\n",
       "      <td>CUST-004</td>\n",
       "      <td>Antonius Winarta</td>\n",
       "      <td>Pria</td>\n",
       "      <td>53</td>\n",
       "      <td>Professional</td>\n",
       "      <td>Cluster</td>\n",
       "      <td>5204498</td>\n",
       "    </tr>\n",
       "    <tr>\n",
       "      <th>4</th>\n",
       "      <td>CUST-005</td>\n",
       "      <td>Ibu Sri Wahyuni, IR</td>\n",
       "      <td>Wanita</td>\n",
       "      <td>41</td>\n",
       "      <td>Wiraswasta</td>\n",
       "      <td>Cluster</td>\n",
       "      <td>10615206</td>\n",
       "    </tr>\n",
       "  </tbody>\n",
       "</table>\n",
       "</div>"
      ],
      "text/plain": [
       "  Customer_ID       Nama Pelanggan Jenis Kelamin  Umur       Profesi  \\\n",
       "0    CUST-001         Budi Anggara          Pria    58    Wiraswasta   \n",
       "1    CUST-002     Shirley Ratuwati        Wanita    14       Pelajar   \n",
       "2    CUST-003         Agus Cahyono          Pria    48  Professional   \n",
       "3    CUST-004     Antonius Winarta          Pria    53  Professional   \n",
       "4    CUST-005  Ibu Sri Wahyuni, IR        Wanita    41    Wiraswasta   \n",
       "\n",
       "  Tipe Residen  NilaiBelanjaSetahun  \n",
       "0       Sector              9497927  \n",
       "1      Cluster              2722700  \n",
       "2      Cluster              5286429  \n",
       "3      Cluster              5204498  \n",
       "4      Cluster             10615206  "
      ]
     },
     "execution_count": 1,
     "metadata": {},
     "output_type": "execute_result"
    }
   ],
   "source": [
    "import pandas as pd\n",
    "data = pd.read_csv(\"Dataset/dqlab_customer_segments.csv\")\n",
    "data.head()"
   ]
  },
  {
   "cell_type": "markdown",
   "id": "3ffe0bd2",
   "metadata": {},
   "source": [
    "Penjelasan untuk masing-masing kolom :\n",
    "- Customer ID: Kode pelanggan dengan format campuran teks CUST- diikuti angka\n",
    "- Nama Pelanggan: Nama dari pelanggan dengan format teks tentunya\n",
    "- Jenis Kelamin: Jenis kelamin dari pelanggan, hanya terdapat dua isi data kategori yaitu Pria dan Wanita\n",
    "- Umur: Umur dari pelanggan dalam format angka\n",
    "- Profesi: Profesi dari pelanggan, juga bertipe teks kategori yang terdiri dari Wiraswasta, Pelajar, Professional, Ibu Rumah Tangga, dan Mahasiswa.\n",
    "- Tipe Residen: Tipe tempat tinggal dari pelanggan kita, untuk dataset ini hanya ada dua kategori: Cluster dan Sector.\n",
    "- Nilai Belanja Setahun: Merupakan total belanja yang sudah dikeluarkan oleh pelanggan tersebut.\n"
   ]
  },
  {
   "cell_type": "markdown",
   "id": "70ca4711",
   "metadata": {},
   "source": [
    "## Melihat informasi dari data"
   ]
  },
  {
   "cell_type": "code",
   "execution_count": 2,
   "id": "cdc2d5dd",
   "metadata": {},
   "outputs": [
    {
     "name": "stdout",
     "output_type": "stream",
     "text": [
      "<class 'pandas.core.frame.DataFrame'>\n",
      "RangeIndex: 50 entries, 0 to 49\n",
      "Data columns (total 7 columns):\n",
      " #   Column               Non-Null Count  Dtype \n",
      "---  ------               --------------  ----- \n",
      " 0   Customer_ID          50 non-null     object\n",
      " 1   Nama Pelanggan       50 non-null     object\n",
      " 2   Jenis Kelamin        50 non-null     object\n",
      " 3   Umur                 50 non-null     int64 \n",
      " 4   Profesi              50 non-null     object\n",
      " 5   Tipe Residen         50 non-null     object\n",
      " 6   NilaiBelanjaSetahun  50 non-null     int64 \n",
      "dtypes: int64(2), object(5)\n",
      "memory usage: 2.9+ KB\n"
     ]
    }
   ],
   "source": [
    "data.info()"
   ]
  },
  {
   "cell_type": "markdown",
   "id": "a0152d5f",
   "metadata": {},
   "source": [
    "Dari informasi tersebut kita bisa melihat bahwa data kita :\n",
    "- Memiliki 50 baris dan 7 kolom\n",
    "- Tidak memiliki nilai NULL\n",
    "- Terdapat 5 kolom yang berupa non-numerik dan 2 kolom yang berupa numerik"
   ]
  },
  {
   "cell_type": "markdown",
   "id": "8c76710b",
   "metadata": {},
   "source": [
    "# EKSPLORASI DATA"
   ]
  },
  {
   "cell_type": "markdown",
   "id": "252762aa",
   "metadata": {},
   "source": [
    "## Eskplorasi data numerik"
   ]
  },
  {
   "cell_type": "code",
   "execution_count": 3,
   "id": "58e9f318",
   "metadata": {},
   "outputs": [
    {
     "data": {
      "image/png": "[encoded data removed]",
      "text/plain": [
       "<Figure size 1000x1000 with 4 Axes>"
      ]
     },
     "metadata": {},
     "output_type": "display_data"
    }
   ],
   "source": [
    "import matplotlib.pyplot as plt\n",
    "import seaborn as sns\n",
    "\n",
    "# Buat sebuah fungsi untuk menampilkan visualisasi\n",
    "def numerical_observe(features) :\n",
    "    fig, ax = plt.subplots(2,2,figsize=(10,10))\n",
    "    for i, col in enumerate(features) :\n",
    "        sns.boxplot(data[col],ax=ax[i][0])\n",
    "        sns.histplot(data[col],ax=ax[i][1],kde=True)\n",
    "        ax[i][0].set_title(\"Mean : {}\\nMedian : {}\\nStandar Deviasi : {}\".format(data[col].mean(),\n",
    "                                                                                data[col].median(),\n",
    "                                                                               data[col].std()))\n",
    "        ax[i][1].grid()\n",
    "    plt.tight_layout()\n",
    "    plt.show()\n",
    "\n",
    "# Tampilkan hasil eksplorasi data numerik\n",
    "features = ['Umur','NilaiBelanjaSetahun']\n",
    "numerical_observe(features)"
   ]
  },
  {
   "cell_type": "markdown",
   "id": "6f88189c",
   "metadata": {},
   "source": [
    "## Eksplorasi data kategorik"
   ]
  },
  {
   "cell_type": "code",
   "execution_count": 4,
   "id": "14eed7a8",
   "metadata": {},
   "outputs": [
    {
     "data": {
      "image/png": "[encoded data removed]",
      "text/plain": [
       "<Figure size 700x1000 with 3 Axes>"
      ]
     },
     "metadata": {},
     "output_type": "display_data"
    }
   ],
   "source": [
    "# Buat sebuah fungsi untuk menampilkan visualisasi\n",
    "def observe_categorical(features) :\n",
    "    fig, ax = plt.subplots(3,1,figsize=(7,10))\n",
    "    for i, col in enumerate(features) :\n",
    "        sns.countplot(data=data,x=col,order = data[col].value_counts().index, ax=ax[i])\n",
    "        for x in ax[i].patches :\n",
    "            ax[i].annotate((format(x.get_height(),\".0f\")),\n",
    "                           (x.get_x()+x.get_width()/2,x.get_height()),\n",
    "                          ha='center',\n",
    "                          va='center',\n",
    "                          xytext=(0,10),\n",
    "                          textcoords=\"offset points\")\n",
    "        ax[i].set_title(\"Countplot Kolom {}\".format(col),weight=\"bold\")\n",
    "        sns.despine(top=True,left=True,right=True)\n",
    "        ax[i].axes.yaxis.set_visible(False)\n",
    "        plt.tight_layout()\n",
    "    plt.show()\n",
    "    \n",
    "# Tampilkan hasil eksplorasi data kategorik\n",
    "features = [\"Jenis Kelamin\",\"Tipe Residen\", \"Profesi\"]\n",
    "observe_categorical(features)"
   ]
  },
  {
   "cell_type": "markdown",
   "id": "aed1f967",
   "metadata": {},
   "source": [
    "## Kesimpulan \n",
    "\n",
    "- Tidak terdapat outlier pada data numerik\n",
    "- Rata-rata nilai belanja setahun pada pelanggan adalah Rp7.069.874 dengan jumlah terbanyak terletak pada rentang sekitar Rp5.000.000 - Rp6.200.000\n",
    "- Rata-rata umur pelanggan adalah 37.5 tahun dengan jumlah terbanyak terletak pada rentang sekitar 28 - 36 tahun\n",
    "- Untuk jenis kelamin pelanggan didominasi oleh wanita dengan perbandingan 41 wanita (82%) : 9 pria (18%)\n",
    "- Profesi kebanyakan pelanggan adalah Wiraswasta (40%) dan Professional (36%), diikuti lainnya (24%)\n",
    "- Dari seluruh pelanggan, 64% dari mereka tinggal di Cluster dan 36% lainnya tinggal di Sector"
   ]
  },
  {
   "cell_type": "markdown",
   "id": "5ae06284",
   "metadata": {},
   "source": [
    "# Pemrosesan Data untuk Keperluan Modelling"
   ]
  },
  {
   "cell_type": "markdown",
   "id": "8ee45763",
   "metadata": {},
   "source": [
    "## Standarisasi kolom numerik"
   ]
  },
  {
   "cell_type": "code",
   "execution_count": 5,
   "id": "c83c6ba3",
   "metadata": {},
   "outputs": [
    {
     "name": "stdout",
     "output_type": "stream",
     "text": [
      "Data sebelum distandardisasi :\n",
      "   Umur  NilaiBelanjaSetahun\n",
      "0    58              9497927\n",
      "1    14              2722700\n",
      "2    48              5286429\n",
      "3    53              5204498\n",
      "4    41             10615206\n",
      "\n",
      "Statistik sebelum standardisasi :\n",
      "            Umur  NilaiBelanjaSetahun\n",
      "count  50.000000         5.000000e+01\n",
      "mean   37.500000         7.069875e+06\n",
      "std    14.673661         2.590619e+06\n",
      "min    14.000000         2.722700e+06\n",
      "25%    25.000000         5.257530e+06\n",
      "50%    35.000000         5.980077e+06\n",
      "75%    49.750000         9.739615e+06\n",
      "max    64.000000         1.088451e+07\n",
      "\n",
      "Data setelah distandardisasi :\n",
      "       Umur  NilaiBelanjaSetahun\n",
      "0  1.411245             0.946763\n",
      "1 -1.617768            -1.695081\n",
      "2  0.722833            -0.695414\n",
      "3  1.067039            -0.727361\n",
      "4  0.240944             1.382421\n",
      "\n",
      "Statistik setelah standardisasi :\n",
      "           Umur  NilaiBelanjaSetahun\n",
      "count  50.00000             50.00000\n",
      "mean   -0.00000             -0.00000\n",
      "std     1.01015              1.01015\n",
      "min    -1.61777             -1.69508\n",
      "25%    -0.86052             -0.70668\n",
      "50%    -0.17210             -0.42494\n",
      "75%     0.84330              1.04100\n",
      "max     1.82429              1.48743\n"
     ]
    }
   ],
   "source": [
    "from sklearn.preprocessing import StandardScaler\n",
    "\n",
    "# Preview\n",
    "numerical = ['Umur',\"NilaiBelanjaSetahun\"]\n",
    "print(\"Data sebelum distandardisasi :\")\n",
    "print(data[numerical].head())\n",
    "print(\"\\nStatistik sebelum standardisasi :\")\n",
    "print(data[numerical].describe())\n",
    "\n",
    "# Standardization menggunakan StandardScaler\n",
    "scaler = StandardScaler()\n",
    "data_stdz = scaler.fit_transform(data[numerical])\n",
    "data_stdz = pd.DataFrame(data=data_stdz,columns=data[numerical].columns,index=data.index)\n",
    "print(\"\\nData setelah distandardisasi :\")\n",
    "print(data_stdz.head())\n",
    "print(\"\\nStatistik setelah standardisasi :\")\n",
    "print(data_stdz.describe().round(5))"
   ]
  },
  {
   "cell_type": "markdown",
   "id": "76bd1276",
   "metadata": {},
   "source": [
    "## Encoding kolom kategorikal"
   ]
  },
  {
   "cell_type": "code",
   "execution_count": 6,
   "id": "fd7002a4",
   "metadata": {},
   "outputs": [
    {
     "name": "stdout",
     "output_type": "stream",
     "text": [
      "Data kategorikal sebelum proses encoding :\n",
      "  Jenis Kelamin       Profesi Tipe Residen\n",
      "0          Pria    Wiraswasta       Sector\n",
      "1        Wanita       Pelajar      Cluster\n",
      "2          Pria  Professional      Cluster\n",
      "3          Pria  Professional      Cluster\n",
      "4        Wanita    Wiraswasta      Cluster\n",
      "\n",
      "Representasi nilai pada kolom Jenis Kelamin\n",
      "Pria : 0\n",
      "Wanita : 1\n",
      "\n",
      "Representasi nilai pada kolom Profesi\n",
      "Wiraswasta : 4\n",
      "Pelajar : 2\n",
      "Professional : 3\n",
      "Ibu Rumah Tangga : 0\n",
      "Mahasiswa : 1\n",
      "\n",
      "Representasi nilai pada kolom Tipe Residen\n",
      "Sector : 1\n",
      "Cluster : 0\n",
      "\n",
      "Data kategorikal setelah proses encoding :\n",
      "   Jenis Kelamin  Profesi  Tipe Residen\n",
      "0              0        4             1\n",
      "1              1        2             0\n",
      "2              0        3             0\n",
      "3              0        3             0\n",
      "4              1        4             0\n"
     ]
    }
   ],
   "source": [
    "from sklearn.preprocessing import LabelEncoder\n",
    "# Preview\n",
    "categorical = ['Jenis Kelamin','Profesi','Tipe Residen']\n",
    "print(\"Data kategorikal sebelum proses encoding :\")\n",
    "print(data[categorical].head())\n",
    "\n",
    "# Proses Encoding\n",
    "LE = LabelEncoder()\n",
    "data_encode = data[categorical].copy()\n",
    "for col in categorical :\n",
    "    data_encode[col] = LE.fit_transform(data_encode[col])\n",
    "    unique_before = data[col].unique()\n",
    "    unique_after = data_encode[col].unique()\n",
    "    print(\"\\nRepresentasi nilai pada kolom\",col)\n",
    "    for i in range(len(unique_before)) :\n",
    "        print(\"{} : {}\".format(unique_before[i],unique_after[i]))\n",
    "\n",
    "print(\"\\nData kategorikal setelah proses encoding :\")\n",
    "print(data_encode.head())"
   ]
  },
  {
   "cell_type": "markdown",
   "id": "85f50098",
   "metadata": {},
   "source": [
    "## Menggabungkan kolom numerik dan kategorik yang telah diproses"
   ]
  },
  {
   "cell_type": "code",
   "execution_count": 7,
   "id": "acc34b8d",
   "metadata": {
    "scrolled": true
   },
   "outputs": [
    {
     "name": "stdout",
     "output_type": "stream",
     "text": [
      "Hasil penggabungan feature yang telah diproses :\n"
     ]
    },
    {
     "data": {
      "text/html": [
       "<div>\n",
       "<style scoped>\n",
       "    .dataframe tbody tr th:only-of-type {\n",
       "        vertical-align: middle;\n",
       "    }\n",
       "\n",
       "    .dataframe tbody tr th {\n",
       "        vertical-align: top;\n",
       "    }\n",
       "\n",
       "    .dataframe thead th {\n",
       "        text-align: right;\n",
       "    }\n",
       "</style>\n",
       "<table border=\"1\" class=\"dataframe\">\n",
       "  <thead>\n",
       "    <tr style=\"text-align: right;\">\n",
       "      <th></th>\n",
       "      <th>Jenis Kelamin</th>\n",
       "      <th>Profesi</th>\n",
       "      <th>Tipe Residen</th>\n",
       "      <th>Umur</th>\n",
       "      <th>NilaiBelanjaSetahun</th>\n",
       "    </tr>\n",
       "  </thead>\n",
       "  <tbody>\n",
       "    <tr>\n",
       "      <th>0</th>\n",
       "      <td>0</td>\n",
       "      <td>4</td>\n",
       "      <td>1</td>\n",
       "      <td>1.411245</td>\n",
       "      <td>0.946763</td>\n",
       "    </tr>\n",
       "    <tr>\n",
       "      <th>1</th>\n",
       "      <td>1</td>\n",
       "      <td>2</td>\n",
       "      <td>0</td>\n",
       "      <td>-1.617768</td>\n",
       "      <td>-1.695081</td>\n",
       "    </tr>\n",
       "    <tr>\n",
       "      <th>2</th>\n",
       "      <td>0</td>\n",
       "      <td>3</td>\n",
       "      <td>0</td>\n",
       "      <td>0.722833</td>\n",
       "      <td>-0.695414</td>\n",
       "    </tr>\n",
       "    <tr>\n",
       "      <th>3</th>\n",
       "      <td>0</td>\n",
       "      <td>3</td>\n",
       "      <td>0</td>\n",
       "      <td>1.067039</td>\n",
       "      <td>-0.727361</td>\n",
       "    </tr>\n",
       "    <tr>\n",
       "      <th>4</th>\n",
       "      <td>1</td>\n",
       "      <td>4</td>\n",
       "      <td>0</td>\n",
       "      <td>0.240944</td>\n",
       "      <td>1.382421</td>\n",
       "    </tr>\n",
       "  </tbody>\n",
       "</table>\n",
       "</div>"
      ],
      "text/plain": [
       "   Jenis Kelamin  Profesi  Tipe Residen      Umur  NilaiBelanjaSetahun\n",
       "0              0        4             1  1.411245             0.946763\n",
       "1              1        2             0 -1.617768            -1.695081\n",
       "2              0        3             0  0.722833            -0.695414\n",
       "3              0        3             0  1.067039            -0.727361\n",
       "4              1        4             0  0.240944             1.382421"
      ]
     },
     "execution_count": 7,
     "metadata": {},
     "output_type": "execute_result"
    }
   ],
   "source": [
    "df_model = data_encode.merge(data_stdz,left_index=True,right_index=True)\n",
    "print('Hasil penggabungan feature yang telah diproses :')\n",
    "df_model.head()"
   ]
  },
  {
   "cell_type": "markdown",
   "id": "48d68fa0",
   "metadata": {},
   "source": [
    "Sekarang, data yang dimiliki sudah siap untuk modelling"
   ]
  },
  {
   "cell_type": "markdown",
   "id": "8b0eb30c",
   "metadata": {},
   "source": [
    "# PEMODELAN"
   ]
  },
  {
   "cell_type": "markdown",
   "id": "7513754b",
   "metadata": {},
   "source": [
    "## Mencari jumlah klaster yang optimal dengan metode Elbow Plot"
   ]
  },
  {
   "cell_type": "code",
   "execution_count": 8,
   "id": "ecf1bea0",
   "metadata": {},
   "outputs": [
    {
     "data": {
      "image/png": "[encoded data removed]",
      "text/plain": [
       "<Figure size 640x480 with 1 Axes>"
      ]
     },
     "metadata": {},
     "output_type": "display_data"
    }
   ],
   "source": [
    "import pandas as pd\n",
    "import seaborn as sns\n",
    "import matplotlib.pyplot as plt\n",
    "from kmodes.kprototypes import KPrototypes\n",
    "\n",
    "cost = {}\n",
    "\n",
    "# Melakukan iterasi untuk mendapatkan Cost dari masing-masing model yang jumlah klasternya berbeda-beda\n",
    "for k in range(2,10) :\n",
    "    model = KPrototypes(n_clusters=k,random_state=1)\n",
    "    model.fit_predict(df_model,categorical=[0,1,2])\n",
    "    cost[k] = model.cost_\n",
    "\n",
    "sns.pointplot(x=list(cost.keys()),y=list(cost.values()))\n",
    "plt.show()"
   ]
  },
  {
   "cell_type": "markdown",
   "id": "1a87d8bf",
   "metadata": {},
   "source": [
    "Dapat dilihat pada grafik bahwa elbow terbentuk saat k = 5.\n",
    "Sehingga diperoleh bahwa jumlah kluster yang optimal untuk data kita adalah k = 5."
   ]
  },
  {
   "cell_type": "markdown",
   "id": "dc31522d",
   "metadata": {},
   "source": [
    "## Membuat dan menyimpan model"
   ]
  },
  {
   "cell_type": "code",
   "execution_count": 9,
   "id": "7102e55b",
   "metadata": {},
   "outputs": [],
   "source": [
    "import pickle\n",
    "model = KPrototypes(n_clusters=5,random_state=1)\n",
    "model.fit_predict(df_model,categorical=[0,1,2])\n",
    "pickle.dump(model,open('cluster.pkl','wb'))"
   ]
  },
  {
   "cell_type": "markdown",
   "id": "46903b60",
   "metadata": {},
   "source": [
    "## Menggunakan model untuk menentukan kluster pada data"
   ]
  },
  {
   "cell_type": "code",
   "execution_count": 10,
   "id": "55e80089",
   "metadata": {},
   "outputs": [
    {
     "name": "stdout",
     "output_type": "stream",
     "text": [
      "Cluster : [3 2 1 1 0 4 3 1 4 4 1 1 3 3 0 4 4 1 0 2 0 1 4 0 0 1 0 4 1 1 2 3 2 0 4 0 4\n",
      " 3 4 2 4 0 4 0 4 0 1 3 4 3]\n"
     ]
    },
    {
     "data": {
      "text/html": [
       "<div>\n",
       "<style scoped>\n",
       "    .dataframe tbody tr th:only-of-type {\n",
       "        vertical-align: middle;\n",
       "    }\n",
       "\n",
       "    .dataframe tbody tr th {\n",
       "        vertical-align: top;\n",
       "    }\n",
       "\n",
       "    .dataframe thead th {\n",
       "        text-align: right;\n",
       "    }\n",
       "</style>\n",
       "<table border=\"1\" class=\"dataframe\">\n",
       "  <thead>\n",
       "    <tr style=\"text-align: right;\">\n",
       "      <th></th>\n",
       "      <th>Customer_ID</th>\n",
       "      <th>Nama Pelanggan</th>\n",
       "      <th>Jenis Kelamin</th>\n",
       "      <th>Umur</th>\n",
       "      <th>Profesi</th>\n",
       "      <th>Tipe Residen</th>\n",
       "      <th>NilaiBelanjaSetahun</th>\n",
       "      <th>cluster</th>\n",
       "    </tr>\n",
       "  </thead>\n",
       "  <tbody>\n",
       "    <tr>\n",
       "      <th>0</th>\n",
       "      <td>CUST-001</td>\n",
       "      <td>Budi Anggara</td>\n",
       "      <td>Pria</td>\n",
       "      <td>58</td>\n",
       "      <td>Wiraswasta</td>\n",
       "      <td>Sector</td>\n",
       "      <td>9497927</td>\n",
       "      <td>3</td>\n",
       "    </tr>\n",
       "    <tr>\n",
       "      <th>1</th>\n",
       "      <td>CUST-002</td>\n",
       "      <td>Shirley Ratuwati</td>\n",
       "      <td>Wanita</td>\n",
       "      <td>14</td>\n",
       "      <td>Pelajar</td>\n",
       "      <td>Cluster</td>\n",
       "      <td>2722700</td>\n",
       "      <td>2</td>\n",
       "    </tr>\n",
       "    <tr>\n",
       "      <th>2</th>\n",
       "      <td>CUST-003</td>\n",
       "      <td>Agus Cahyono</td>\n",
       "      <td>Pria</td>\n",
       "      <td>48</td>\n",
       "      <td>Professional</td>\n",
       "      <td>Cluster</td>\n",
       "      <td>5286429</td>\n",
       "      <td>1</td>\n",
       "    </tr>\n",
       "    <tr>\n",
       "      <th>3</th>\n",
       "      <td>CUST-004</td>\n",
       "      <td>Antonius Winarta</td>\n",
       "      <td>Pria</td>\n",
       "      <td>53</td>\n",
       "      <td>Professional</td>\n",
       "      <td>Cluster</td>\n",
       "      <td>5204498</td>\n",
       "      <td>1</td>\n",
       "    </tr>\n",
       "    <tr>\n",
       "      <th>4</th>\n",
       "      <td>CUST-005</td>\n",
       "      <td>Ibu Sri Wahyuni, IR</td>\n",
       "      <td>Wanita</td>\n",
       "      <td>41</td>\n",
       "      <td>Wiraswasta</td>\n",
       "      <td>Cluster</td>\n",
       "      <td>10615206</td>\n",
       "      <td>0</td>\n",
       "    </tr>\n",
       "  </tbody>\n",
       "</table>\n",
       "</div>"
      ],
      "text/plain": [
       "  Customer_ID       Nama Pelanggan Jenis Kelamin  Umur       Profesi  \\\n",
       "0    CUST-001         Budi Anggara          Pria    58    Wiraswasta   \n",
       "1    CUST-002     Shirley Ratuwati        Wanita    14       Pelajar   \n",
       "2    CUST-003         Agus Cahyono          Pria    48  Professional   \n",
       "3    CUST-004     Antonius Winarta          Pria    53  Professional   \n",
       "4    CUST-005  Ibu Sri Wahyuni, IR        Wanita    41    Wiraswasta   \n",
       "\n",
       "  Tipe Residen  NilaiBelanjaSetahun  cluster  \n",
       "0       Sector              9497927        3  \n",
       "1      Cluster              2722700        2  \n",
       "2      Cluster              5286429        1  \n",
       "3      Cluster              5204498        1  \n",
       "4      Cluster             10615206        0  "
      ]
     },
     "execution_count": 10,
     "metadata": {},
     "output_type": "execute_result"
    }
   ],
   "source": [
    "model = KPrototypes(n_clusters=5,random_state=1)\n",
    "model.fit(df_model,categorical=[0,1,2])\n",
    "clusters = model.predict(df_model,categorical=[0,1,2])\n",
    "df_final = data.copy()\n",
    "df_final[\"cluster\"] = clusters\n",
    "print(\"Cluster : {}\".format(clusters))\n",
    "df_final.head()"
   ]
  },
  {
   "cell_type": "markdown",
   "id": "667b5bba",
   "metadata": {},
   "source": [
    "## Menampilkan cluster tiap pelanggan"
   ]
  },
  {
   "cell_type": "code",
   "execution_count": 11,
   "id": "5bfd32fc",
   "metadata": {
    "scrolled": false
   },
   "outputs": [
    {
     "name": "stdout",
     "output_type": "stream",
     "text": [
      "\n",
      "Pelanggan cluster 0\n",
      "   Customer_ID       Nama Pelanggan Jenis Kelamin  Umur     Profesi  \\\n",
      "4     CUST-005  Ibu Sri Wahyuni, IR        Wanita    41  Wiraswasta   \n",
      "14    CUST-015     Shirley Ratuwati        Wanita    20  Wiraswasta   \n",
      "18    CUST-019         Mega Pranoto        Wanita    32  Wiraswasta   \n",
      "20    CUST-021     Lestari Fabianto        Wanita    38  Wiraswasta   \n",
      "23    CUST-024        Putri Ginting        Wanita    39  Wiraswasta   \n",
      "24    CUST-025       Julia Setiawan        Wanita    29  Wiraswasta   \n",
      "26    CUST-027        Grace Mulyati        Wanita    35  Wiraswasta   \n",
      "33    CUST-034       Deasy Arisandi        Wanita    21  Wiraswasta   \n",
      "35    CUST-036       Ni Made Suasti        Wanita    30  Wiraswasta   \n",
      "41    CUST-042         Yuliana Wati        Wanita    26  Wiraswasta   \n",
      "43    CUST-044                 Anna        Wanita    18  Wiraswasta   \n",
      "45    CUST-046         Elfira Surya        Wanita    25  Wiraswasta   \n",
      "\n",
      "   Tipe Residen  NilaiBelanjaSetahun  cluster  \n",
      "4       Cluster             10615206        0  \n",
      "14      Cluster             10365668        0  \n",
      "18      Cluster             10884508        0  \n",
      "20      Cluster              9222070        0  \n",
      "23      Cluster             10259572        0  \n",
      "24       Sector             10721998        0  \n",
      "26      Cluster              9114159        0  \n",
      "33       Sector              9759822        0  \n",
      "35      Cluster              9678994        0  \n",
      "41      Cluster              9880607        0  \n",
      "43      Cluster              9339737        0  \n",
      "45       Sector             10099807        0  \n",
      "\n",
      "Pelanggan cluster 1\n",
      "   Customer_ID     Nama Pelanggan Jenis Kelamin  Umur           Profesi  \\\n",
      "2     CUST-003       Agus Cahyono          Pria    48      Professional   \n",
      "3     CUST-004   Antonius Winarta          Pria    53      Professional   \n",
      "7     CUST-008     Danang Santosa          Pria    52      Professional   \n",
      "10    CUST-011     Maria Suryawan        Wanita    50      Professional   \n",
      "11    CUST-012    Erliana Widjaja        Wanita    49      Professional   \n",
      "17    CUST-018        Nelly Halim        Wanita    63  Ibu Rumah Tangga   \n",
      "21    CUST-022       Novita Purba        Wanita    52      Professional   \n",
      "25    CUST-026  Christine Winarto        Wanita    55      Professional   \n",
      "28    CUST-029       Tia Hartanti        Wanita    56      Professional   \n",
      "29    CUST-030     Rosita Saragih        Wanita    46  Ibu Rumah Tangga   \n",
      "46    CUST-047        Mira Kurnia        Wanita    55  Ibu Rumah Tangga   \n",
      "\n",
      "   Tipe Residen  NilaiBelanjaSetahun  cluster  \n",
      "2       Cluster              5286429        1  \n",
      "3       Cluster              5204498        1  \n",
      "7       Cluster              5223569        1  \n",
      "10       Sector              5987367        1  \n",
      "11       Sector              5941914        1  \n",
      "17      Cluster              5340690        1  \n",
      "21      Cluster              5298157        1  \n",
      "25      Cluster              5269392        1  \n",
      "28      Cluster              5271845        1  \n",
      "29       Sector              5020976        1  \n",
      "46      Cluster              6130724        1  \n",
      "\n",
      "Pelanggan cluster 2\n",
      "   Customer_ID    Nama Pelanggan Jenis Kelamin  Umur    Profesi Tipe Residen  \\\n",
      "1     CUST-002  Shirley Ratuwati        Wanita    14    Pelajar      Cluster   \n",
      "19    CUST-020    Irene Novianto        Wanita    16    Pelajar       Sector   \n",
      "30    CUST-031     Eviana Handry        Wanita    19  Mahasiswa      Cluster   \n",
      "32    CUST-033   Cecilia Kusnadi        Wanita    19  Mahasiswa      Cluster   \n",
      "39    CUST-040    Irene Darmawan        Wanita    14    Pelajar       Sector   \n",
      "\n",
      "    NilaiBelanjaSetahun  cluster  \n",
      "1               2722700        2  \n",
      "19              2896845        2  \n",
      "30              3042773        2  \n",
      "32              3047926        2  \n",
      "39              2861855        2  \n",
      "\n",
      "Pelanggan cluster 3\n",
      "   Customer_ID    Nama Pelanggan Jenis Kelamin  Umur     Profesi Tipe Residen  \\\n",
      "0     CUST-001      Budi Anggara          Pria    58  Wiraswasta       Sector   \n",
      "6     CUST-007     Cahyono, Agus          Pria    64  Wiraswasta       Sector   \n",
      "12    CUST-013      Cahaya Putri        Wanita    64  Wiraswasta      Cluster   \n",
      "13    CUST-014    Mario Setiawan          Pria    60  Wiraswasta      Cluster   \n",
      "31    CUST-032   Chintya Winarni        Wanita    47  Wiraswasta       Sector   \n",
      "37    CUST-038      Agatha Salim        Wanita    46  Wiraswasta       Sector   \n",
      "47    CUST-048  Maria Hutagalung        Wanita    45  Wiraswasta       Sector   \n",
      "49    CUST-050    Lianna Nugraha        Wanita    55  Wiraswasta       Sector   \n",
      "\n",
      "    NilaiBelanjaSetahun  cluster  \n",
      "0               9497927        3  \n",
      "6               9837260        3  \n",
      "12              9333168        3  \n",
      "13              9471615        3  \n",
      "31             10663179        3  \n",
      "37             10477127        3  \n",
      "47             10390732        3  \n",
      "49             10569316        3  \n",
      "\n",
      "Pelanggan cluster 4\n",
      "   Customer_ID         Nama Pelanggan Jenis Kelamin  Umur           Profesi  \\\n",
      "5     CUST-006        Rosalina Kurnia        Wanita    24      Professional   \n",
      "8     CUST-009  Elisabeth Suryadinata        Wanita    29      Professional   \n",
      "9     CUST-010         Mario Setiawan          Pria    33      Professional   \n",
      "15    CUST-016           Bambang Rudi          Pria    35      Professional   \n",
      "16    CUST-017              Yuni Sari        Wanita    32  Ibu Rumah Tangga   \n",
      "22    CUST-023        Denny Amiruddin          Pria    34      Professional   \n",
      "27    CUST-028          Adeline Huang        Wanita    40  Ibu Rumah Tangga   \n",
      "34    CUST-035                Ida Ayu        Wanita    39      Professional   \n",
      "36    CUST-037       Felicia Tandiono        Wanita    25      Professional   \n",
      "38    CUST-039           Gina Hidayat        Wanita    20      Professional   \n",
      "40    CUST-041       Shinta Aritonang        Wanita    24  Ibu Rumah Tangga   \n",
      "42    CUST-043           Yenna Sumadi        Wanita    31      Professional   \n",
      "44    CUST-045         Rismawati Juni        Wanita    22      Professional   \n",
      "48    CUST-049        Josephine Wahab        Wanita    33  Ibu Rumah Tangga   \n",
      "\n",
      "   Tipe Residen  NilaiBelanjaSetahun  cluster  \n",
      "5       Cluster              5215541        4  \n",
      "8        Sector              5993218        4  \n",
      "9       Cluster              5257448        4  \n",
      "15      Cluster              5262521        4  \n",
      "16      Cluster              5677762        4  \n",
      "22      Cluster              5239290        4  \n",
      "27      Cluster              6631680        4  \n",
      "34       Sector              5962575        4  \n",
      "36       Sector              5972787        4  \n",
      "38      Cluster              5257775        4  \n",
      "40      Cluster              6820976        4  \n",
      "42      Cluster              5268410        4  \n",
      "44      Cluster              5211041        4  \n",
      "48       Sector              4992585        4  \n"
     ]
    }
   ],
   "source": [
    "for i in range(0,5) :\n",
    "    print(\"\\nPelanggan cluster {}\".format(i))\n",
    "    print(df_final[df_final[\"cluster\"]==i])"
   ]
  },
  {
   "cell_type": "markdown",
   "id": "22162322",
   "metadata": {},
   "source": [
    "Beberapa informasi yang bisa kita dapatkan:\n",
    "- Cluster 0 diisi oleh pelanggan yang berprofesi sebagai Wiraswasta dengan rentang umur 18-41 tahun\n",
    "- Cluster 1 diisi oleh pelanggan yang berprofesi sebagai Ibu Rumah Tangga & Professional dengan rentang umur 46-63 tahun\n",
    "- Cluster 2 diisi oleh pelanggan yang berprofesi sebagai Pelajar & Mahasiswa dengan rentang umur 14-19 tahun\n",
    "- Cluster 3 diisi oleh pelanggan yang berprofesi sebagai Wiraswasta dengan rentang umur 45-64 tahun\n",
    "- Cluster 4 diisi oleh pelanggan yang berprofesi sebagai Ibu Rumah Tangga & Professional dengan rentang umur 20-40 tahun"
   ]
  },
  {
   "cell_type": "markdown",
   "id": "1bcc7acc",
   "metadata": {},
   "source": [
    "## Visualisasi hasil cluster untuk kolom numerik menggunakan boxplot"
   ]
  },
  {
   "cell_type": "code",
   "execution_count": 12,
   "id": "063e89f1",
   "metadata": {},
   "outputs": [
    {
     "data": {
      "image/png": "[encoded data removed]",
      "text/plain": [
       "<Figure size 600x400 with 1 Axes>"
      ]
     },
     "metadata": {},
     "output_type": "display_data"
    },
    {
     "data": {
      "image/png": "[encoded data removed]",
      "text/plain": [
       "<Figure size 600x400 with 1 Axes>"
      ]
     },
     "metadata": {},
     "output_type": "display_data"
    }
   ],
   "source": [
    "kolom_numerik = [\"Umur\",\"NilaiBelanjaSetahun\"]\n",
    "for i in kolom_numerik :\n",
    "    plt.figure(figsize=(6,4))\n",
    "    sns.boxplot(x=\"cluster\",y=i,data=df_final)\n",
    "    plt.title(\"Boxplot {}\\n\".format(i))\n",
    "    plt.show()"
   ]
  },
  {
   "cell_type": "markdown",
   "id": "399ceda2",
   "metadata": {},
   "source": [
    "## Visualisasi hasil cluster untuk kolom kategorik menggunakan countplot"
   ]
  },
  {
   "cell_type": "code",
   "execution_count": 13,
   "id": "717dc783",
   "metadata": {
    "scrolled": false
   },
   "outputs": [
    {
     "data": {
      "image/png": "[encoded data removed]",
      "text/plain": [
       "<Figure size 650x450 with 1 Axes>"
      ]
     },
     "metadata": {},
     "output_type": "display_data"
    },
    {
     "data": {
      "image/png": "[encoded data removed]",
      "text/plain": [
       "<Figure size 650x450 with 1 Axes>"
      ]
     },
     "metadata": {},
     "output_type": "display_data"
    },
    {
     "data": {
      "image/png": "[encoded data removed]",
      "text/plain": [
       "<Figure size 650x450 with 1 Axes>"
      ]
     },
     "metadata": {},
     "output_type": "display_data"
    }
   ],
   "source": [
    "kolom_kategorik = [\"Jenis Kelamin\",\"Tipe Residen\",\"Profesi\"]\n",
    "for i in kolom_kategorik :\n",
    "    plt.figure(figsize=(6.5,4.5))\n",
    "    ax = sns.countplot(data=df_final,x=\"cluster\",hue=i)\n",
    "    plt.title(\"Countplot {}\\n\".format(i))\n",
    "    ax.legend(loc=\"upper center\")\n",
    "    for p in ax.patches :\n",
    "        ax.annotate(format(p.get_height(),\".0f\"),\n",
    "                   (p.get_x()+p.get_width()/2,p.get_height()),\n",
    "                   ha='center',\n",
    "                   va='center',\n",
    "                   xytext=(0,10),\n",
    "                   textcoords='offset points')\n",
    "    sns.despine(right=True,left=True,top=True)\n",
    "    ax.axes.yaxis.set_visible(False)\n",
    "    plt.tight_layout()\n",
    "plt.show()"
   ]
  },
  {
   "cell_type": "markdown",
   "id": "04ce1b11",
   "metadata": {},
   "source": [
    "## Penamaan cluster"
   ]
  },
  {
   "cell_type": "markdown",
   "id": "f44f3f5d",
   "metadata": {},
   "source": [
    "Dari observasi yang telah dilakukan, selanjutnya akan dilakukan penamaan segmen sebagai berikut :\n",
    "- Cluster 0 : Diamond Young Member, isi cluster ini adalah para Wiraswasta muda dengan rentang umur 18-41 tahun yang memiliki nilai transaksi rata-rata mendekati 10 juta.\n",
    "- Cluster 1 : Gold Senior Member, isi cluster ini adalah para Profesional & Ibu Rumah Tangga dengan rentang umur 46-63 tahun yang memiliki nilai transaksi rata-rata mendekati 6 juta.\n",
    "- Cluster 2 : Silver Students, isi cluster ini adalah para Pelajar & Mahasiswa dengan rentang umur 14-19 tahun yang memiliki nilai transaksi rata-rata mendekati 3 juta.\n",
    "- Cluster 3 : Diamond Senior Member, isi cluster ini adalah para Wiraswasta senior dengan rentang umur 45-64 tahun yang memiliki nilai transaksi rata-rata mendekati 10 juta.\n",
    "- Cluster 4 : Gold Young Member, isi cluster ini adalah para Profesional & Ibu Rumah Tangga dengan rentang umur 20-40 tahun yang memiliki nilai transaksi rata-rata mendekati 6 juta."
   ]
  },
  {
   "cell_type": "code",
   "execution_count": 14,
   "id": "cd97fb5c",
   "metadata": {},
   "outputs": [
    {
     "data": {
      "text/html": [
       "<div>\n",
       "<style scoped>\n",
       "    .dataframe tbody tr th:only-of-type {\n",
       "        vertical-align: middle;\n",
       "    }\n",
       "\n",
       "    .dataframe tbody tr th {\n",
       "        vertical-align: top;\n",
       "    }\n",
       "\n",
       "    .dataframe thead th {\n",
       "        text-align: right;\n",
       "    }\n",
       "</style>\n",
       "<table border=\"1\" class=\"dataframe\">\n",
       "  <thead>\n",
       "    <tr style=\"text-align: right;\">\n",
       "      <th></th>\n",
       "      <th>Customer_ID</th>\n",
       "      <th>Nama Pelanggan</th>\n",
       "      <th>Jenis Kelamin</th>\n",
       "      <th>Umur</th>\n",
       "      <th>Profesi</th>\n",
       "      <th>Tipe Residen</th>\n",
       "      <th>NilaiBelanjaSetahun</th>\n",
       "      <th>cluster</th>\n",
       "      <th>segmen</th>\n",
       "    </tr>\n",
       "  </thead>\n",
       "  <tbody>\n",
       "    <tr>\n",
       "      <th>0</th>\n",
       "      <td>CUST-001</td>\n",
       "      <td>Budi Anggara</td>\n",
       "      <td>Pria</td>\n",
       "      <td>58</td>\n",
       "      <td>Wiraswasta</td>\n",
       "      <td>Sector</td>\n",
       "      <td>9497927</td>\n",
       "      <td>3</td>\n",
       "      <td>Diamond Senior Member</td>\n",
       "    </tr>\n",
       "    <tr>\n",
       "      <th>1</th>\n",
       "      <td>CUST-002</td>\n",
       "      <td>Shirley Ratuwati</td>\n",
       "      <td>Wanita</td>\n",
       "      <td>14</td>\n",
       "      <td>Pelajar</td>\n",
       "      <td>Cluster</td>\n",
       "      <td>2722700</td>\n",
       "      <td>2</td>\n",
       "      <td>Silver Students</td>\n",
       "    </tr>\n",
       "    <tr>\n",
       "      <th>2</th>\n",
       "      <td>CUST-003</td>\n",
       "      <td>Agus Cahyono</td>\n",
       "      <td>Pria</td>\n",
       "      <td>48</td>\n",
       "      <td>Professional</td>\n",
       "      <td>Cluster</td>\n",
       "      <td>5286429</td>\n",
       "      <td>1</td>\n",
       "      <td>Gold Senior Member</td>\n",
       "    </tr>\n",
       "    <tr>\n",
       "      <th>3</th>\n",
       "      <td>CUST-004</td>\n",
       "      <td>Antonius Winarta</td>\n",
       "      <td>Pria</td>\n",
       "      <td>53</td>\n",
       "      <td>Professional</td>\n",
       "      <td>Cluster</td>\n",
       "      <td>5204498</td>\n",
       "      <td>1</td>\n",
       "      <td>Gold Senior Member</td>\n",
       "    </tr>\n",
       "    <tr>\n",
       "      <th>4</th>\n",
       "      <td>CUST-005</td>\n",
       "      <td>Ibu Sri Wahyuni, IR</td>\n",
       "      <td>Wanita</td>\n",
       "      <td>41</td>\n",
       "      <td>Wiraswasta</td>\n",
       "      <td>Cluster</td>\n",
       "      <td>10615206</td>\n",
       "      <td>0</td>\n",
       "      <td>Diamond Young Member</td>\n",
       "    </tr>\n",
       "    <tr>\n",
       "      <th>5</th>\n",
       "      <td>CUST-006</td>\n",
       "      <td>Rosalina Kurnia</td>\n",
       "      <td>Wanita</td>\n",
       "      <td>24</td>\n",
       "      <td>Professional</td>\n",
       "      <td>Cluster</td>\n",
       "      <td>5215541</td>\n",
       "      <td>4</td>\n",
       "      <td>Gold Young Member</td>\n",
       "    </tr>\n",
       "    <tr>\n",
       "      <th>6</th>\n",
       "      <td>CUST-007</td>\n",
       "      <td>Cahyono, Agus</td>\n",
       "      <td>Pria</td>\n",
       "      <td>64</td>\n",
       "      <td>Wiraswasta</td>\n",
       "      <td>Sector</td>\n",
       "      <td>9837260</td>\n",
       "      <td>3</td>\n",
       "      <td>Diamond Senior Member</td>\n",
       "    </tr>\n",
       "    <tr>\n",
       "      <th>7</th>\n",
       "      <td>CUST-008</td>\n",
       "      <td>Danang Santosa</td>\n",
       "      <td>Pria</td>\n",
       "      <td>52</td>\n",
       "      <td>Professional</td>\n",
       "      <td>Cluster</td>\n",
       "      <td>5223569</td>\n",
       "      <td>1</td>\n",
       "      <td>Gold Senior Member</td>\n",
       "    </tr>\n",
       "    <tr>\n",
       "      <th>8</th>\n",
       "      <td>CUST-009</td>\n",
       "      <td>Elisabeth Suryadinata</td>\n",
       "      <td>Wanita</td>\n",
       "      <td>29</td>\n",
       "      <td>Professional</td>\n",
       "      <td>Sector</td>\n",
       "      <td>5993218</td>\n",
       "      <td>4</td>\n",
       "      <td>Gold Young Member</td>\n",
       "    </tr>\n",
       "    <tr>\n",
       "      <th>9</th>\n",
       "      <td>CUST-010</td>\n",
       "      <td>Mario Setiawan</td>\n",
       "      <td>Pria</td>\n",
       "      <td>33</td>\n",
       "      <td>Professional</td>\n",
       "      <td>Cluster</td>\n",
       "      <td>5257448</td>\n",
       "      <td>4</td>\n",
       "      <td>Gold Young Member</td>\n",
       "    </tr>\n",
       "  </tbody>\n",
       "</table>\n",
       "</div>"
      ],
      "text/plain": [
       "  Customer_ID         Nama Pelanggan Jenis Kelamin  Umur       Profesi  \\\n",
       "0    CUST-001           Budi Anggara          Pria    58    Wiraswasta   \n",
       "1    CUST-002       Shirley Ratuwati        Wanita    14       Pelajar   \n",
       "2    CUST-003           Agus Cahyono          Pria    48  Professional   \n",
       "3    CUST-004       Antonius Winarta          Pria    53  Professional   \n",
       "4    CUST-005    Ibu Sri Wahyuni, IR        Wanita    41    Wiraswasta   \n",
       "5    CUST-006        Rosalina Kurnia        Wanita    24  Professional   \n",
       "6    CUST-007          Cahyono, Agus          Pria    64    Wiraswasta   \n",
       "7    CUST-008         Danang Santosa          Pria    52  Professional   \n",
       "8    CUST-009  Elisabeth Suryadinata        Wanita    29  Professional   \n",
       "9    CUST-010         Mario Setiawan          Pria    33  Professional   \n",
       "\n",
       "  Tipe Residen  NilaiBelanjaSetahun  cluster                 segmen  \n",
       "0       Sector              9497927        3  Diamond Senior Member  \n",
       "1      Cluster              2722700        2        Silver Students  \n",
       "2      Cluster              5286429        1     Gold Senior Member  \n",
       "3      Cluster              5204498        1     Gold Senior Member  \n",
       "4      Cluster             10615206        0   Diamond Young Member  \n",
       "5      Cluster              5215541        4      Gold Young Member  \n",
       "6       Sector              9837260        3  Diamond Senior Member  \n",
       "7      Cluster              5223569        1     Gold Senior Member  \n",
       "8       Sector              5993218        4      Gold Young Member  \n",
       "9      Cluster              5257448        4      Gold Young Member  "
      ]
     },
     "execution_count": 14,
     "metadata": {},
     "output_type": "execute_result"
    }
   ],
   "source": [
    "df_final['segmen'] = df_final['cluster'].map({\n",
    "    0 : \"Diamond Young Member\",\n",
    "    1 : \"Gold Senior Member\",\n",
    "    2 : \"Silver Students\",\n",
    "    3 : \"Diamond Senior Member\",\n",
    "    4 : \"Gold Young Member\"\n",
    "})\n",
    "df_final.head(10)"
   ]
  },
  {
   "cell_type": "markdown",
   "id": "15d99470",
   "metadata": {},
   "source": [
    "# Uji Model pada Data Baru"
   ]
  },
  {
   "cell_type": "markdown",
   "id": "ed32db04",
   "metadata": {},
   "source": [
    "## Membuat data baru untuk menguji model"
   ]
  },
  {
   "cell_type": "code",
   "execution_count": 15,
   "id": "98e45eee",
   "metadata": {},
   "outputs": [
    {
     "data": {
      "text/html": [
       "<div>\n",
       "<style scoped>\n",
       "    .dataframe tbody tr th:only-of-type {\n",
       "        vertical-align: middle;\n",
       "    }\n",
       "\n",
       "    .dataframe tbody tr th {\n",
       "        vertical-align: top;\n",
       "    }\n",
       "\n",
       "    .dataframe thead th {\n",
       "        text-align: right;\n",
       "    }\n",
       "</style>\n",
       "<table border=\"1\" class=\"dataframe\">\n",
       "  <thead>\n",
       "    <tr style=\"text-align: right;\">\n",
       "      <th></th>\n",
       "      <th>Customer_ID</th>\n",
       "      <th>Nama Pelanggan</th>\n",
       "      <th>Jenis Kelamin</th>\n",
       "      <th>Umur</th>\n",
       "      <th>Profesi</th>\n",
       "      <th>Tipe Residen</th>\n",
       "      <th>NilaiBelanjaSetahun</th>\n",
       "    </tr>\n",
       "  </thead>\n",
       "  <tbody>\n",
       "    <tr>\n",
       "      <th>0</th>\n",
       "      <td>CUST-100</td>\n",
       "      <td>Joko</td>\n",
       "      <td>Pria</td>\n",
       "      <td>45</td>\n",
       "      <td>Wiraswasta</td>\n",
       "      <td>Cluster</td>\n",
       "      <td>8230000</td>\n",
       "    </tr>\n",
       "  </tbody>\n",
       "</table>\n",
       "</div>"
      ],
      "text/plain": [
       "  Customer_ID Nama Pelanggan Jenis Kelamin  Umur     Profesi Tipe Residen  \\\n",
       "0    CUST-100           Joko          Pria    45  Wiraswasta      Cluster   \n",
       "\n",
       "   NilaiBelanjaSetahun  \n",
       "0              8230000  "
      ]
     },
     "execution_count": 15,
     "metadata": {},
     "output_type": "execute_result"
    }
   ],
   "source": [
    "new_data = [{  \n",
    "    'Customer_ID': 'CUST-100' ,  \n",
    "    'Nama Pelanggan': 'Joko' ,  \n",
    "    'Jenis Kelamin': 'Pria',  \n",
    "    'Umur': 45,  \n",
    "    'Profesi': 'Wiraswasta',  \n",
    "    'Tipe Residen': 'Cluster' ,  \n",
    "    'NilaiBelanjaSetahun': 8230000  \n",
    "      \n",
    "}]  \n",
    "new_data = pd.DataFrame(new_data)\n",
    "new_data"
   ]
  },
  {
   "cell_type": "markdown",
   "id": "1d40d271",
   "metadata": {},
   "source": [
    "## Membuat fungsi untuk melakukan data preprocessing pada data yang baru"
   ]
  },
  {
   "cell_type": "code",
   "execution_count": 16,
   "id": "9e2ecad6",
   "metadata": {},
   "outputs": [
    {
     "data": {
      "text/html": [
       "<div>\n",
       "<style scoped>\n",
       "    .dataframe tbody tr th:only-of-type {\n",
       "        vertical-align: middle;\n",
       "    }\n",
       "\n",
       "    .dataframe tbody tr th {\n",
       "        vertical-align: top;\n",
       "    }\n",
       "\n",
       "    .dataframe thead th {\n",
       "        text-align: right;\n",
       "    }\n",
       "</style>\n",
       "<table border=\"1\" class=\"dataframe\">\n",
       "  <thead>\n",
       "    <tr style=\"text-align: right;\">\n",
       "      <th></th>\n",
       "      <th>Jenis Kelamin</th>\n",
       "      <th>Profesi</th>\n",
       "      <th>Tipe Residen</th>\n",
       "      <th>Umur</th>\n",
       "      <th>NilaiBelanjaSetahun</th>\n",
       "    </tr>\n",
       "  </thead>\n",
       "  <tbody>\n",
       "    <tr>\n",
       "      <th>0</th>\n",
       "      <td>0</td>\n",
       "      <td>4</td>\n",
       "      <td>0</td>\n",
       "      <td>0.51112</td>\n",
       "      <td>0.447818</td>\n",
       "    </tr>\n",
       "  </tbody>\n",
       "</table>\n",
       "</div>"
      ],
      "text/plain": [
       "   Jenis Kelamin  Profesi  Tipe Residen     Umur  NilaiBelanjaSetahun\n",
       "0              0        4             0  0.51112             0.447818"
      ]
     },
     "execution_count": 16,
     "metadata": {},
     "output_type": "execute_result"
    }
   ],
   "source": [
    "def preprocessing(df) :\n",
    "    # Proses standardisasi pada kolom numerik\n",
    "    kolom_numerik = [\"Umur\",\"NilaiBelanjaSetahun\"]\n",
    "    df_stnd = df[kolom_numerik].copy()\n",
    "    for n in kolom_numerik :\n",
    "        df_stnd[n] = (df_stnd[n]-data[n].mean())/data[n].std()\n",
    "    \n",
    "    # Proses encoding pada kolom kategorikal\n",
    "    kolom_kategorikal = [\"Jenis Kelamin\",\"Profesi\",\"Tipe Residen\"]\n",
    "    df_encode = df[kolom_kategorikal].copy()\n",
    "    df_encode[\"Jenis Kelamin\"] = df_encode[\"Jenis Kelamin\"].map({\n",
    "        \"Pria\" : 0,\n",
    "        \"Wanita\" : 0\n",
    "    })\n",
    "    df_encode[\"Profesi\"] = df_encode['Profesi'].map({\n",
    "        \"Ibu Rumah Tangga\" : 0,\n",
    "        \"Mahasiswa\" : 1,\n",
    "        \"Pelajar\" : 2,\n",
    "        \"Professional\" : 3,\n",
    "        \"Wiraswasta\" : 4\n",
    "    })\n",
    "    df_encode[\"Tipe Residen\"] = df_encode[\"Tipe Residen\"].map({\n",
    "        \"Cluster\" : 0,\n",
    "        \"Sector\" : 1\n",
    "    })\n",
    "    \n",
    "    data_ready = df_encode.merge(df_stnd,right_index=True,left_index=True,how=\"left\")\n",
    "    return data_ready\n",
    "\n",
    "newest_data = preprocessing(new_data)\n",
    "newest_data"
   ]
  },
  {
   "cell_type": "markdown",
   "id": "86b81d8a",
   "metadata": {},
   "source": [
    "## Memanggil model dan melakukan prediksi"
   ]
  },
  {
   "cell_type": "code",
   "execution_count": 17,
   "id": "57b34a4a",
   "metadata": {},
   "outputs": [
    {
     "name": "stdout",
     "output_type": "stream",
     "text": [
      "[3]\n"
     ]
    }
   ],
   "source": [
    "import pickle\n",
    "\n",
    "def modelling(df) :\n",
    "    \n",
    "    # Memanggil model\n",
    "    model = pickle.load(open('cluster.pkl','rb'))\n",
    "    \n",
    "    # Melakukan prediksi\n",
    "    cluster = model.predict(df,categorical=[0,1,2])\n",
    "    \n",
    "    return cluster\n",
    "\n",
    "cluster_dari_newestdata = modelling(newest_data)\n",
    "print(cluster_dari_newestdata)"
   ]
  },
  {
   "cell_type": "markdown",
   "id": "016fed9f",
   "metadata": {},
   "source": [
    "## Membuat fungsi untuk finalisasi"
   ]
  },
  {
   "cell_type": "code",
   "execution_count": 18,
   "id": "661afcee",
   "metadata": {},
   "outputs": [
    {
     "data": {
      "text/html": [
       "<div>\n",
       "<style scoped>\n",
       "    .dataframe tbody tr th:only-of-type {\n",
       "        vertical-align: middle;\n",
       "    }\n",
       "\n",
       "    .dataframe tbody tr th {\n",
       "        vertical-align: top;\n",
       "    }\n",
       "\n",
       "    .dataframe thead th {\n",
       "        text-align: right;\n",
       "    }\n",
       "</style>\n",
       "<table border=\"1\" class=\"dataframe\">\n",
       "  <thead>\n",
       "    <tr style=\"text-align: right;\">\n",
       "      <th></th>\n",
       "      <th>Jenis Kelamin</th>\n",
       "      <th>Profesi</th>\n",
       "      <th>Tipe Residen</th>\n",
       "      <th>Umur</th>\n",
       "      <th>NilaiBelanjaSetahun</th>\n",
       "      <th>cluster</th>\n",
       "      <th>segmen</th>\n",
       "    </tr>\n",
       "  </thead>\n",
       "  <tbody>\n",
       "    <tr>\n",
       "      <th>0</th>\n",
       "      <td>0</td>\n",
       "      <td>4</td>\n",
       "      <td>0</td>\n",
       "      <td>0.51112</td>\n",
       "      <td>0.447818</td>\n",
       "      <td>3</td>\n",
       "      <td>Diamond Senior Member</td>\n",
       "    </tr>\n",
       "  </tbody>\n",
       "</table>\n",
       "</div>"
      ],
      "text/plain": [
       "   Jenis Kelamin  Profesi  Tipe Residen     Umur  NilaiBelanjaSetahun  \\\n",
       "0              0        4             0  0.51112             0.447818   \n",
       "\n",
       "   cluster                 segmen  \n",
       "0        3  Diamond Senior Member  "
      ]
     },
     "execution_count": 18,
     "metadata": {},
     "output_type": "execute_result"
    }
   ],
   "source": [
    "def finalisasi(df,cluster) :\n",
    "    df_final = df.copy()\n",
    "    df_final['cluster'] = cluster\n",
    "    df_final['segmen'] = df_final['cluster'].map({\n",
    "        0 : \"Diamond Young Member\",\n",
    "        1 : \"Gold Senior Member\",\n",
    "        2 : \"Silver Students\",\n",
    "        3 : \"Diamond Senior Member\",\n",
    "        4 : \"Gold Young Member\"\n",
    "    })\n",
    "    return df_final\n",
    "\n",
    "final_new_data = finalisasi(newest_data,cluster_dari_newestdata)\n",
    "final_new_data"
   ]
  }
 ],
 "metadata": {
  "kernelspec": {
   "display_name": "Python 3 (ipykernel)",
   "language": "python",
   "name": "python3"
  },
  "language_info": {
   "codemirror_mode": {
    "name": "ipython",
    "version": 3
   },
   "file_extension": ".py",
   "mimetype": "text/x-python",
   "name": "python",
   "nbconvert_exporter": "python",
   "pygments_lexer": "ipython3",
   "version": "3.10.9"
  }
 },
 "nbformat": 4,
 "nbformat_minor": 5
}
